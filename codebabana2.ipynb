{
 "cells": [
  {
   "cell_type": "markdown",
   "metadata": {},
   "source": [
    "## **A CUSTOMER CHURN PREDICTION PROJECT**"
   ]
  },
  {
   "cell_type": "markdown",
   "metadata": {},
   "source": [
    "## **1.0 Business Understanding** ##\n",
    "\n",
    "**Losing customers is a major cost for any organization. Customer churn, also known as customer attrition or customer turnover, is the percentage of customers who stop using your company’s product or service within a certain period of time. For example, if you started the year with 500 customers and ended with 480 customers, your customer churn rate would be 4%. If we could understand the reasons and the timing of customer churn with reasonable accuracy, it would greatly help the organization to plan and implement effective retention strategies.**\n",
    "\n",
    "## **Project Description** ###\n",
    "\n",
    "**This is a Classification project aimed at assisting a telecommunications company understand their data and find the life time value of each customer and know what factors affect the rate at which customers stop using their network. The predictive modelling will be done after a comprehensive analysis of the dataset provided by the business team**\n",
    "\n",
    "## **The Task** ##\n",
    "\n",
    "**This project shall explore to understand the dataset and gain insights to enable us create meaningful features that will be used to train a robust machine learning pipeline capable of predicting customer churn and offer valuable insights to the company for strategic decision-making.**"
   ]
  },
  {
   "cell_type": "markdown",
   "metadata": {},
   "source": [
    "## **1.1 Explanation of Features** ##\n",
    "\n",
    "*The following is a description of the columns present in the data.*\n",
    "\n",
    "  **Gender -- Whether the customer is a male or a female**\n",
    "  \n",
    "  **SeniorCitizen -- Whether a customer is a senior citizen or not**\n",
    "\n",
    "  **Partner -- Whether the customer has a partner or not (Yes, No)**\n",
    "\n",
    "  **Dependents -- Whether the customer has dependents or not (Yes, No)**\n",
    "\n",
    "  **Tenure -- Number of months the customer has stayed with the company**\n",
    "\n",
    "  **Phone Service -- Whether the customer has a phone service or not (Yes, No)**\n",
    "\n",
    "  **MultipleLines -- Whether the customer has multiple lines or not**\n",
    "\n",
    "  **InternetService -- Customer's internet service provider (DSL, Fiber Optic, No)**\n",
    "\n",
    "  **OnlineSecurity -- Whether the customer has online security or not (Yes, No, No Internet)**\n",
    "\n",
    "  **OnlineBackup -- Whether the customer has online backup or not (Yes, No, No Internet)**\n",
    "\n",
    "  **DeviceProtection -- Whether the customer has device protection or not (Yes, No, No internet service)**\n",
    "\n",
    "  **TechSupport -- Whether the customer has tech support or not (Yes, No, No internet)**\n",
    "\n",
    "  **StreamingTV -- Whether the customer has streaming TV or not (Yes, No, No internet service)**\n",
    "\n",
    "  **StreamingMovies -- Whether the customer has streaming movies or not (Yes, No, No Internet service)**\n",
    "\n",
    "  **Contract -- The contract term of the customer (Month-to-Month, One year, Two year)**\n",
    "\n",
    "  **PaperlessBilling -- Whether the customer has paperless billing or not (Yes, No)**\n",
    "\n",
    "  **Payment Method -- The customer's payment method (Electronic check, mailed check, Bank transfer(automatic), Credit card(automatic))**\n",
    "\n",
    "  **MonthlyCharges -- The amount charged to the customer monthly**\n",
    "\n",
    "  **TotalCharges -- The total amount charged to the customer**\n",
    "\n",
    "  **Churn -- Whether the customer churned or not (Yes or No)**"
   ]
  },
  {
   "cell_type": "markdown",
   "metadata": {},
   "source": [
    "## **1.2: The Underlying Hypothesis** ##\n",
    "\n",
    "**A hypothesis is a tentative statement that expresses a possible relationship between two or more variables. It should be testable, specific, and based on existing knowledge or theory. A research question is a question that guides your investigation and seeks to answer a problem or gap in the literature**"
   ]
  },
  {
   "cell_type": "markdown",
   "metadata": {},
   "source": [
    "## **Null Hypothesis (H0):** ##\n",
    "\n",
    "**There is no significant relationship between the Total Charges and customer churn.**\n",
    "\n",
    "\n",
    "## **Alternative Hypothesis (H1):** ##\n",
    "\n",
    "**There is a significant relationship between the Total Charges and customer churn.**\n",
    "\n",
    "\n",
    "## **Explanation:** ##\n",
    "\n",
    "**The null hypothesis assumes that the Total Charges incurred by customers do not have a notable impact on whether they are likely to stop using the service (churn). In other words, the amount a customer pays doesn't play a significant role in their decision to churn**\n",
    "\n",
    "**The alternative hypothesis suggests the opposite. It proposes that there is a noticeable relationship between the Total Charges a customer accumulates and their likelihood of churning. In simpler terms, it implies that the amount a customer pays may have a significant influence on whether they decide to leave the service.**\n",
    "\n",
    "\n",
    "## **Implication:** ##\n",
    "\n",
    "**If Null Hypothesis Holds: Total Charges may not be a decisive factor in predicting customer churn. Other factors might be more relevant, and the company may need to look beyond the amount customers pay to understand churn behavior.**\n",
    "\n",
    "**If Alternative Hypothesis Holds (is True): Total Charges could be a crucial factor influencing customer churn. The company would have to pay attention to how much customers are charged, as it may strongly impact their decision to continue or discontinue using the service. This information could be valuable for customer retention strategies.**"
   ]
  },
  {
   "cell_type": "markdown",
   "metadata": {},
   "source": [
    "## **1.3: Research Questions** ##"
   ]
  },
  {
   "cell_type": "markdown",
   "metadata": {},
   "source": [
    "## **Research question 1** ##\n",
    "\n",
    "**What is the distribution of churn for different Internet service types?**\n",
    "\n",
    "*Explanation:*\n",
    "*We aim to understand the impact of different Internet services on whether customers decide to churn or continue using the service. This involves exploring how specific offerings like DSL, Fibre optic and No internet contribute to the likelihood of customer churn.*\n",
    "\n",
    "*Implications:*\n",
    "*Identifying which services have a significant influence on churn can help the company prioritize improvements or tailor retention strategies for specific service features.*\n",
    "\n",
    "\n",
    "## **Research question 2** ##\n",
    "\n",
    "**How does having a partner or dependents affect customer churn?**\n",
    "\n",
    "\n",
    "*Explanation:*\n",
    "*We are investigating how the factors relationship status, or having dependents are correlated with the likelihood of customer churn.*\n",
    "\n",
    "*Implications:*\n",
    "*Understanding the correlation between these demographic factors and churn can guide the development of targeted strategies to retain customers based on their specific characteristics*\n",
    "\n",
    "\n",
    "## **Research question 3** ##\n",
    "\n",
    "**How does the contract type (Contract) influence customer churn?**\n",
    "\n",
    "*Explanation:*\n",
    "*This question delves into the influence of contract types on whether a customer decides to churn. We're exploring how different contract structures impact the probability of churn.*\n",
    "\n",
    "*Implications:*\n",
    "*Insights gained from this analysis can inform the development of contract strategies that minimize churn and enhance customer retention*\n",
    "\n",
    "\n",
    "## **Research question 4** ##\n",
    "\n",
    "**What is the impact of Billing preference, on customer churn?**\n",
    "\n",
    "*Explanation:*\n",
    "*We are investigating if there is a correlation between the Billing preference and the probability of churning.*\n",
    "\n",
    "*Implications:*\n",
    "*Identifying a correlation can help the company understand how pricing structures relate to churn, allowing for adjustments in pricing strategies or the introduction of targeted offers to retain customers*\n",
    "\n",
    "\n",
    "## **Research question 5** ##\n",
    "\n",
    "**Is there a relationship between gender and the churn?**\n",
    "\n",
    "*Explanation:*\n",
    "*\n",
    "\n",
    "*Implications:*\n",
    "*Identifying the influence of tech support and device protection on customer retention can guide strategic decisions on service enhancements. If these features significantly contribute to customer satisfaction and retention, investing in their improvement may be a valuable approach to fostering long-term customer relationships.*"
   ]
  },
  {
   "cell_type": "markdown",
   "metadata": {},
   "source": [
    "## **2.0 Data Understanding** ##"
   ]
  },
  {
   "cell_type": "markdown",
   "metadata": {},
   "source": [
    "**2.1: Installing and Importing  Packages**"
   ]
  },
  {
   "cell_type": "markdown",
   "metadata": {},
   "source": [
    "**2.1.1: Installing the necessary libraries** "
   ]
  },
  {
   "cell_type": "code",
   "execution_count": 1,
   "metadata": {},
   "outputs": [],
   "source": [
    "# Installing the required libraries for the notebook to accomodate the codes\n",
    "# pip install pyodbc  \n",
    "# pip install python-dotenv \n",
    "# pip install numpy\n",
    "# pip install matplotlib\n",
    "# pip install seaborn\n",
    "# pip install pandas\n",
    "# pip install currency_converter\n",
    "# pip install forex-python\n",
    "# pip install scipy\n",
    "# pip install forex-python\n",
    "# pip install statsmodels\n",
    "# imbalanced-learn          0.11.0\n"
   ]
  },
  {
   "cell_type": "markdown",
   "metadata": {},
   "source": [
    "**2.1.2: Importing the required Packagies to work with**"
   ]
  },
  {
   "cell_type": "code",
   "execution_count": 2,
   "metadata": {},
   "outputs": [],
   "source": [
    "# Importing the needed libraries \n",
    "# pandas to clean and manipulate the data\n",
    "# numpy for basic calculation\n",
    "# seaborn and matplolib for visualition \n",
    "\n",
    "# Data manipulation packages\n",
    "import pandas as pd\n",
    "import numpy as np\n",
    "\n",
    "#Data Visualization packages\n",
    "import matplotlib.pyplot as plt\n",
    "import seaborn as sns\n",
    "import joblib\n",
    "\n",
    "# Machine learning Packages\n",
    "from sklearn.pipeline import Pipeline\n",
    "from sklearn.compose import ColumnTransformer\n",
    "from sklearn.impute import SimpleImputer\n",
    "from sklearn.preprocessing import StandardScaler,MinMaxScaler,RobustScaler\n",
    "from sklearn.preprocessing import OneHotEncoder , LabelEncoder , OrdinalEncoder\n",
    "from sklearn.preprocessing import FunctionTransformer\n",
    "from sklearn.tree import DecisionTreeClassifier\n",
    "from sklearn.metrics import accuracy_score, classification_report\n",
    "from sklearn.model_selection import train_test_split\n",
    "from sklearn import set_config\n",
    "from sklearn.ensemble import RandomForestClassifier\n",
    "from sklearn.svm import SVC\n",
    "from sklearn.naive_bayes import GaussianNB\n",
    "from sklearn.ensemble import GradientBoostingClassifier\n",
    "from scipy.stats import pearsonr\n",
    "from sklearn.model_selection import cross_val_score\n",
    "from imblearn.under_sampling import RandomUnderSampler\n",
    "from imblearn.over_sampling import RandomOverSampler,SMOTE\n",
    "from sklearn.feature_selection import SelectKBest,mutual_info_classif\n",
    "from imblearn.over_sampling import SMOTE\n",
    "from sklearn.datasets import make_classification\n",
    "from sklearn.metrics import confusion_matrix\n",
    "from sklearn.metrics import roc_auc_score,roc_curve,auc\n",
    "from sklearn.model_selection import GridSearchCV\n",
    "from imblearn.pipeline import Pipeline as imbpipeline\n",
    "\n",
    "\n",
    "#Statistical analysis\n",
    "from sklearn.impute import SimpleImputer\n",
    "from forex_python.converter import CurrencyRates\n",
    "import re\n",
    "from scipy.stats import chi2_contingency\n",
    "from scipy.stats import ks_2samp\n",
    "import scipy.stats\n",
    "import scipy.stats as stats\n",
    "from sklearn.preprocessing import LabelEncoder\n",
    "from scipy.stats import kruskal, mannwhitneyu\n",
    "\n",
    "\n",
    "\n",
    "# import the dotenv_values function from the dotenv package      \n",
    "from dotenv import dotenv_values \n",
    "\n",
    "# Database connection package\n",
    "import pyodbc\n",
    "\n",
    "# Ignore warnings (optional)\n",
    "import warnings\n",
    "warnings.filterwarnings(\"ignore\")  \n"
   ]
  },
  {
   "cell_type": "markdown",
   "metadata": {},
   "source": [
    "## **2.2: Data Loading** ##\n",
    "\n",
    "**Loading the environment variables  from .env file into a dictionary using the values for the credentials set in the '.env' file. Connecting to the Microsoft SQL Server database to retrieve data by creating a connection string to the remote database server**"
   ]
  },
  {
   "cell_type": "code",
   "execution_count": 3,
   "metadata": {},
   "outputs": [],
   "source": [
    "# Loading environment variables from .env file into a dictionary.\n",
    "environment_variables = dotenv_values('.env')\n",
    "\n",
    "\n",
    "# Getting the values for the credentials set in the '.env' file and creating a connection string\n",
    "server = environment_variables.get(\"SERVER\")\n",
    "database = environment_variables.get(\"DATABASE\")\n",
    "username = environment_variables.get(\"USERNAME\")\n",
    "password = environment_variables.get(\"PASSWORD\")\n",
    "\n",
    "\n",
    "connection_string = f\"DRIVER={{SQL Server}};SERVER={server};DATABASE={database};UID={username};PWD={password};MARS_Connection=yes;MinProtocolVersion=TLSv1.2;\""
   ]
  },
  {
   "cell_type": "markdown",
   "metadata": {},
   "source": [
    "**Using the connect method of the pyodbc library to pass in the connection string to connect to the server**"
   ]
  },
  {
   "cell_type": "code",
   "execution_count": 4,
   "metadata": {},
   "outputs": [],
   "source": [
    "# Establishing connection to the database server\n",
    "connection = pyodbc.connect(connection_string)"
   ]
  },
  {
   "cell_type": "markdown",
   "metadata": {},
   "source": [
    "**Loading the First Dataset from the Microsoft SQL Server**"
   ]
  },
  {
   "cell_type": "code",
   "execution_count": 5,
   "metadata": {},
   "outputs": [],
   "source": [
    "# Querrying the Microsoft SQL database to fetch the First dataset \n",
    "\n",
    "query = \"SELECT * FROM LP2_Telco_churn_first_3000\"\n",
    "\n",
    "FirstDataset = pd.read_sql(query, connection)"
   ]
  },
  {
   "cell_type": "markdown",
   "metadata": {},
   "source": [
    "**Saving FirstDataset to CSV**"
   ]
  },
  {
   "cell_type": "code",
   "execution_count": 6,
   "metadata": {},
   "outputs": [],
   "source": [
    "# Save the DataFrame to a CSV file\n",
    "FirstDataset.to_csv(\"churn_data.csv\", index=False)\n"
   ]
  },
  {
   "cell_type": "code",
   "execution_count": 7,
   "metadata": {},
   "outputs": [],
   "source": [
    "#FirstDataset.shape"
   ]
  },
  {
   "cell_type": "markdown",
   "metadata": {},
   "source": [
    "**Viewing the first few rows of FirstDataset**"
   ]
  },
  {
   "cell_type": "markdown",
   "metadata": {},
   "source": [
    "*There are 3000 observations(rows) and 21 variables(columns) in FirstDataset*"
   ]
  },
  {
   "cell_type": "code",
   "execution_count": 8,
   "metadata": {},
   "outputs": [
    {
     "data": {
      "text/html": [
       "<div>\n",
       "<style scoped>\n",
       "    .dataframe tbody tr th:only-of-type {\n",
       "        vertical-align: middle;\n",
       "    }\n",
       "\n",
       "    .dataframe tbody tr th {\n",
       "        vertical-align: top;\n",
       "    }\n",
       "\n",
       "    .dataframe thead th {\n",
       "        text-align: right;\n",
       "    }\n",
       "</style>\n",
       "<table border=\"1\" class=\"dataframe\">\n",
       "  <thead>\n",
       "    <tr style=\"text-align: right;\">\n",
       "      <th></th>\n",
       "      <th>customerID</th>\n",
       "      <th>gender</th>\n",
       "      <th>SeniorCitizen</th>\n",
       "      <th>Partner</th>\n",
       "      <th>Dependents</th>\n",
       "      <th>tenure</th>\n",
       "      <th>PhoneService</th>\n",
       "      <th>MultipleLines</th>\n",
       "      <th>InternetService</th>\n",
       "      <th>OnlineSecurity</th>\n",
       "      <th>...</th>\n",
       "      <th>DeviceProtection</th>\n",
       "      <th>TechSupport</th>\n",
       "      <th>StreamingTV</th>\n",
       "      <th>StreamingMovies</th>\n",
       "      <th>Contract</th>\n",
       "      <th>PaperlessBilling</th>\n",
       "      <th>PaymentMethod</th>\n",
       "      <th>MonthlyCharges</th>\n",
       "      <th>TotalCharges</th>\n",
       "      <th>Churn</th>\n",
       "    </tr>\n",
       "  </thead>\n",
       "  <tbody>\n",
       "    <tr>\n",
       "      <th>0</th>\n",
       "      <td>7590-VHVEG</td>\n",
       "      <td>Female</td>\n",
       "      <td>False</td>\n",
       "      <td>True</td>\n",
       "      <td>False</td>\n",
       "      <td>1</td>\n",
       "      <td>False</td>\n",
       "      <td>None</td>\n",
       "      <td>DSL</td>\n",
       "      <td>False</td>\n",
       "      <td>...</td>\n",
       "      <td>False</td>\n",
       "      <td>False</td>\n",
       "      <td>False</td>\n",
       "      <td>False</td>\n",
       "      <td>Month-to-month</td>\n",
       "      <td>True</td>\n",
       "      <td>Electronic check</td>\n",
       "      <td>29.850000</td>\n",
       "      <td>29.85</td>\n",
       "      <td>False</td>\n",
       "    </tr>\n",
       "    <tr>\n",
       "      <th>1</th>\n",
       "      <td>5575-GNVDE</td>\n",
       "      <td>Male</td>\n",
       "      <td>False</td>\n",
       "      <td>False</td>\n",
       "      <td>False</td>\n",
       "      <td>34</td>\n",
       "      <td>True</td>\n",
       "      <td>False</td>\n",
       "      <td>DSL</td>\n",
       "      <td>True</td>\n",
       "      <td>...</td>\n",
       "      <td>True</td>\n",
       "      <td>False</td>\n",
       "      <td>False</td>\n",
       "      <td>False</td>\n",
       "      <td>One year</td>\n",
       "      <td>False</td>\n",
       "      <td>Mailed check</td>\n",
       "      <td>56.950001</td>\n",
       "      <td>1889.50</td>\n",
       "      <td>False</td>\n",
       "    </tr>\n",
       "  </tbody>\n",
       "</table>\n",
       "<p>2 rows × 21 columns</p>\n",
       "</div>"
      ],
      "text/plain": [
       "   customerID  gender  SeniorCitizen  Partner  Dependents  tenure  \\\n",
       "0  7590-VHVEG  Female          False     True       False       1   \n",
       "1  5575-GNVDE    Male          False    False       False      34   \n",
       "\n",
       "   PhoneService MultipleLines InternetService OnlineSecurity  ...  \\\n",
       "0         False          None             DSL          False  ...   \n",
       "1          True         False             DSL           True  ...   \n",
       "\n",
       "  DeviceProtection TechSupport StreamingTV StreamingMovies        Contract  \\\n",
       "0            False       False       False           False  Month-to-month   \n",
       "1             True       False       False           False        One year   \n",
       "\n",
       "  PaperlessBilling     PaymentMethod MonthlyCharges  TotalCharges  Churn  \n",
       "0             True  Electronic check      29.850000         29.85  False  \n",
       "1            False      Mailed check      56.950001       1889.50  False  \n",
       "\n",
       "[2 rows x 21 columns]"
      ]
     },
     "execution_count": 8,
     "metadata": {},
     "output_type": "execute_result"
    }
   ],
   "source": [
    "FirstDataset.head(2)"
   ]
  },
  {
   "cell_type": "markdown",
   "metadata": {},
   "source": [
    "**Loading Second 2000 Dataset from the GitHub repository**"
   ]
  },
  {
   "cell_type": "code",
   "execution_count": 9,
   "metadata": {},
   "outputs": [],
   "source": [
    "# Loading the second dataset\n",
    "url = 'https://github.com/Azubi-Africa/Career_Accelerator_LP2-Classifcation/raw/main/LP2_Telco-churn-second-2000.csv'\n",
    "\n",
    "# Load the second dataset into a DataFrame\n",
    "SecondDataset = pd.read_csv(url)"
   ]
  },
  {
   "cell_type": "markdown",
   "metadata": {},
   "source": [
    "**Viewing the first few rows of SecondDataset**"
   ]
  },
  {
   "cell_type": "code",
   "execution_count": 10,
   "metadata": {},
   "outputs": [],
   "source": [
    "#SecondDataset.shape"
   ]
  },
  {
   "cell_type": "markdown",
   "metadata": {},
   "source": [
    "*There are 2043 observations(rows) and 21 variables(columns) in SecondDataset*"
   ]
  },
  {
   "cell_type": "code",
   "execution_count": 85,
   "metadata": {},
   "outputs": [
    {
     "data": {
      "text/html": [
       "<div>\n",
       "<style scoped>\n",
       "    .dataframe tbody tr th:only-of-type {\n",
       "        vertical-align: middle;\n",
       "    }\n",
       "\n",
       "    .dataframe tbody tr th {\n",
       "        vertical-align: top;\n",
       "    }\n",
       "\n",
       "    .dataframe thead th {\n",
       "        text-align: right;\n",
       "    }\n",
       "</style>\n",
       "<table border=\"1\" class=\"dataframe\">\n",
       "  <thead>\n",
       "    <tr style=\"text-align: right;\">\n",
       "      <th></th>\n",
       "      <th>customerID</th>\n",
       "      <th>gender</th>\n",
       "      <th>SeniorCitizen</th>\n",
       "      <th>Partner</th>\n",
       "      <th>Dependents</th>\n",
       "      <th>tenure</th>\n",
       "      <th>PhoneService</th>\n",
       "      <th>MultipleLines</th>\n",
       "      <th>InternetService</th>\n",
       "      <th>OnlineSecurity</th>\n",
       "      <th>...</th>\n",
       "      <th>DeviceProtection</th>\n",
       "      <th>TechSupport</th>\n",
       "      <th>StreamingTV</th>\n",
       "      <th>StreamingMovies</th>\n",
       "      <th>Contract</th>\n",
       "      <th>PaperlessBilling</th>\n",
       "      <th>PaymentMethod</th>\n",
       "      <th>MonthlyCharges</th>\n",
       "      <th>TotalCharges</th>\n",
       "      <th>Churn</th>\n",
       "    </tr>\n",
       "  </thead>\n",
       "  <tbody>\n",
       "    <tr>\n",
       "      <th>0</th>\n",
       "      <td>5600-PDUJF</td>\n",
       "      <td>Male</td>\n",
       "      <td>No</td>\n",
       "      <td>No</td>\n",
       "      <td>No</td>\n",
       "      <td>6</td>\n",
       "      <td>Yes</td>\n",
       "      <td>No</td>\n",
       "      <td>DSL</td>\n",
       "      <td>No</td>\n",
       "      <td>...</td>\n",
       "      <td>No</td>\n",
       "      <td>Yes</td>\n",
       "      <td>No</td>\n",
       "      <td>No</td>\n",
       "      <td>Month-to-month</td>\n",
       "      <td>Yes</td>\n",
       "      <td>Credit card (automatic)</td>\n",
       "      <td>49.5</td>\n",
       "      <td>312.7</td>\n",
       "      <td>No</td>\n",
       "    </tr>\n",
       "    <tr>\n",
       "      <th>1</th>\n",
       "      <td>8292-TYSPY</td>\n",
       "      <td>Male</td>\n",
       "      <td>No</td>\n",
       "      <td>No</td>\n",
       "      <td>No</td>\n",
       "      <td>19</td>\n",
       "      <td>Yes</td>\n",
       "      <td>No</td>\n",
       "      <td>DSL</td>\n",
       "      <td>No</td>\n",
       "      <td>...</td>\n",
       "      <td>Yes</td>\n",
       "      <td>Yes</td>\n",
       "      <td>No</td>\n",
       "      <td>No</td>\n",
       "      <td>Month-to-month</td>\n",
       "      <td>Yes</td>\n",
       "      <td>Credit card (automatic)</td>\n",
       "      <td>55.0</td>\n",
       "      <td>1046.5</td>\n",
       "      <td>Yes</td>\n",
       "    </tr>\n",
       "  </tbody>\n",
       "</table>\n",
       "<p>2 rows × 21 columns</p>\n",
       "</div>"
      ],
      "text/plain": [
       "   customerID gender SeniorCitizen Partner Dependents  tenure PhoneService  \\\n",
       "0  5600-PDUJF   Male            No      No         No       6          Yes   \n",
       "1  8292-TYSPY   Male            No      No         No      19          Yes   \n",
       "\n",
       "  MultipleLines InternetService OnlineSecurity  ... DeviceProtection  \\\n",
       "0            No             DSL             No  ...               No   \n",
       "1            No             DSL             No  ...              Yes   \n",
       "\n",
       "  TechSupport StreamingTV StreamingMovies        Contract PaperlessBilling  \\\n",
       "0         Yes          No              No  Month-to-month              Yes   \n",
       "1         Yes          No              No  Month-to-month              Yes   \n",
       "\n",
       "             PaymentMethod MonthlyCharges  TotalCharges  Churn  \n",
       "0  Credit card (automatic)           49.5         312.7     No  \n",
       "1  Credit card (automatic)           55.0        1046.5    Yes  \n",
       "\n",
       "[2 rows x 21 columns]"
      ]
     },
     "execution_count": 85,
     "metadata": {},
     "output_type": "execute_result"
    }
   ],
   "source": [
    "SecondDataset.head(2)"
   ]
  },
  {
   "cell_type": "markdown",
   "metadata": {},
   "source": [
    "**Loading the third Dataset from OneDrive file using the file path method**"
   ]
  },
  {
   "cell_type": "code",
   "execution_count": 12,
   "metadata": {},
   "outputs": [],
   "source": [
    "# Loading the Third dataset stating the full file path\n",
    "file_path_third = r'C:\\Users\\user\\OneDrive\\Desktop\\MY DS CAREER ACCELERATOR\\Customer_Churn_Prediction_Problem\\Telco-churn-last-2000.xlsx'\n",
    "\n",
    "# Load the second dataset into a DataFrame\n",
    "ThirdDataset = pd.read_excel(file_path_third)"
   ]
  },
  {
   "cell_type": "markdown",
   "metadata": {},
   "source": [
    "**Saving ThirdDataset to CSV**"
   ]
  },
  {
   "cell_type": "code",
   "execution_count": 13,
   "metadata": {},
   "outputs": [],
   "source": [
    "# Save the DataFrame to a CSV file\n",
    "ThirdDataset.to_csv(\"Telco-churn-last-2000.csv\", index=False)"
   ]
  },
  {
   "cell_type": "markdown",
   "metadata": {},
   "source": [
    "**Viewing the first few rows of ThirdDataset**"
   ]
  },
  {
   "cell_type": "code",
   "execution_count": 14,
   "metadata": {},
   "outputs": [],
   "source": [
    "#ThirdDataset.shape"
   ]
  },
  {
   "cell_type": "markdown",
   "metadata": {},
   "source": [
    "*There are 2000 observations(rows) and 20 variables(columns) in ThirdDataset*"
   ]
  },
  {
   "cell_type": "code",
   "execution_count": 83,
   "metadata": {},
   "outputs": [
    {
     "data": {
      "text/html": [
       "<div>\n",
       "<style scoped>\n",
       "    .dataframe tbody tr th:only-of-type {\n",
       "        vertical-align: middle;\n",
       "    }\n",
       "\n",
       "    .dataframe tbody tr th {\n",
       "        vertical-align: top;\n",
       "    }\n",
       "\n",
       "    .dataframe thead th {\n",
       "        text-align: right;\n",
       "    }\n",
       "</style>\n",
       "<table border=\"1\" class=\"dataframe\">\n",
       "  <thead>\n",
       "    <tr style=\"text-align: right;\">\n",
       "      <th></th>\n",
       "      <th>customerID</th>\n",
       "      <th>gender</th>\n",
       "      <th>SeniorCitizen</th>\n",
       "      <th>Partner</th>\n",
       "      <th>Dependents</th>\n",
       "      <th>tenure</th>\n",
       "      <th>PhoneService</th>\n",
       "      <th>MultipleLines</th>\n",
       "      <th>InternetService</th>\n",
       "      <th>OnlineSecurity</th>\n",
       "      <th>OnlineBackup</th>\n",
       "      <th>DeviceProtection</th>\n",
       "      <th>TechSupport</th>\n",
       "      <th>StreamingTV</th>\n",
       "      <th>StreamingMovies</th>\n",
       "      <th>Contract</th>\n",
       "      <th>PaperlessBilling</th>\n",
       "      <th>PaymentMethod</th>\n",
       "      <th>MonthlyCharges</th>\n",
       "      <th>TotalCharges</th>\n",
       "    </tr>\n",
       "  </thead>\n",
       "  <tbody>\n",
       "    <tr>\n",
       "      <th>0</th>\n",
       "      <td>7613-LLQFO</td>\n",
       "      <td>Male</td>\n",
       "      <td>No</td>\n",
       "      <td>No</td>\n",
       "      <td>No</td>\n",
       "      <td>12</td>\n",
       "      <td>Yes</td>\n",
       "      <td>Yes</td>\n",
       "      <td>Fiber optic</td>\n",
       "      <td>No</td>\n",
       "      <td>No</td>\n",
       "      <td>No</td>\n",
       "      <td>No</td>\n",
       "      <td>Yes</td>\n",
       "      <td>No</td>\n",
       "      <td>Month-to-month</td>\n",
       "      <td>Yes</td>\n",
       "      <td>Electronic check</td>\n",
       "      <td>84.45</td>\n",
       "      <td>1059.55</td>\n",
       "    </tr>\n",
       "    <tr>\n",
       "      <th>1</th>\n",
       "      <td>4568-TTZRT</td>\n",
       "      <td>Male</td>\n",
       "      <td>No</td>\n",
       "      <td>No</td>\n",
       "      <td>No</td>\n",
       "      <td>9</td>\n",
       "      <td>Yes</td>\n",
       "      <td>No</td>\n",
       "      <td>No</td>\n",
       "      <td>No internet service</td>\n",
       "      <td>No internet service</td>\n",
       "      <td>No internet service</td>\n",
       "      <td>No internet service</td>\n",
       "      <td>No internet service</td>\n",
       "      <td>No internet service</td>\n",
       "      <td>Month-to-month</td>\n",
       "      <td>No</td>\n",
       "      <td>Mailed check</td>\n",
       "      <td>20.40</td>\n",
       "      <td>181.80</td>\n",
       "    </tr>\n",
       "  </tbody>\n",
       "</table>\n",
       "</div>"
      ],
      "text/plain": [
       "   customerID gender SeniorCitizen Partner Dependents  tenure PhoneService  \\\n",
       "0  7613-LLQFO   Male            No      No         No      12          Yes   \n",
       "1  4568-TTZRT   Male            No      No         No       9          Yes   \n",
       "\n",
       "  MultipleLines InternetService       OnlineSecurity         OnlineBackup  \\\n",
       "0           Yes     Fiber optic                   No                   No   \n",
       "1            No              No  No internet service  No internet service   \n",
       "\n",
       "      DeviceProtection          TechSupport          StreamingTV  \\\n",
       "0                   No                   No                  Yes   \n",
       "1  No internet service  No internet service  No internet service   \n",
       "\n",
       "       StreamingMovies        Contract PaperlessBilling     PaymentMethod  \\\n",
       "0                   No  Month-to-month              Yes  Electronic check   \n",
       "1  No internet service  Month-to-month               No      Mailed check   \n",
       "\n",
       "   MonthlyCharges  TotalCharges  \n",
       "0           84.45       1059.55  \n",
       "1           20.40        181.80  "
      ]
     },
     "execution_count": 83,
     "metadata": {},
     "output_type": "execute_result"
    }
   ],
   "source": [
    "# Display the first few rows of the second dataset\n",
    "ThirdDataset.head(2)"
   ]
  },
  {
   "cell_type": "code",
   "execution_count": 16,
   "metadata": {},
   "outputs": [
    {
     "name": "stdout",
     "output_type": "stream",
     "text": [
      "<class 'pandas.core.frame.DataFrame'>\n",
      "RangeIndex: 2000 entries, 0 to 1999\n",
      "Data columns (total 20 columns):\n",
      " #   Column            Non-Null Count  Dtype  \n",
      "---  ------            --------------  -----  \n",
      " 0   customerID        2000 non-null   object \n",
      " 1   gender            2000 non-null   object \n",
      " 2   SeniorCitizen     2000 non-null   int64  \n",
      " 3   Partner           2000 non-null   object \n",
      " 4   Dependents        2000 non-null   object \n",
      " 5   tenure            2000 non-null   int64  \n",
      " 6   PhoneService      2000 non-null   object \n",
      " 7   MultipleLines     2000 non-null   object \n",
      " 8   InternetService   2000 non-null   object \n",
      " 9   OnlineSecurity    2000 non-null   object \n",
      " 10  OnlineBackup      2000 non-null   object \n",
      " 11  DeviceProtection  2000 non-null   object \n",
      " 12  TechSupport       2000 non-null   object \n",
      " 13  StreamingTV       2000 non-null   object \n",
      " 14  StreamingMovies   2000 non-null   object \n",
      " 15  Contract          2000 non-null   object \n",
      " 16  PaperlessBilling  2000 non-null   object \n",
      " 17  PaymentMethod     2000 non-null   object \n",
      " 18  MonthlyCharges    2000 non-null   float64\n",
      " 19  TotalCharges      2000 non-null   object \n",
      "dtypes: float64(1), int64(2), object(17)\n",
      "memory usage: 312.6+ KB\n"
     ]
    }
   ],
   "source": [
    "ThirdDataset.info()"
   ]
  },
  {
   "cell_type": "code",
   "execution_count": 17,
   "metadata": {},
   "outputs": [
    {
     "name": "stdout",
     "output_type": "stream",
     "text": [
      "<class 'pandas.core.frame.DataFrame'>\n",
      "RangeIndex: 3000 entries, 0 to 2999\n",
      "Data columns (total 21 columns):\n",
      " #   Column            Non-Null Count  Dtype  \n",
      "---  ------            --------------  -----  \n",
      " 0   customerID        3000 non-null   object \n",
      " 1   gender            3000 non-null   object \n",
      " 2   SeniorCitizen     3000 non-null   bool   \n",
      " 3   Partner           3000 non-null   bool   \n",
      " 4   Dependents        3000 non-null   bool   \n",
      " 5   tenure            3000 non-null   int64  \n",
      " 6   PhoneService      3000 non-null   bool   \n",
      " 7   MultipleLines     2731 non-null   object \n",
      " 8   InternetService   3000 non-null   object \n",
      " 9   OnlineSecurity    2349 non-null   object \n",
      " 10  OnlineBackup      2349 non-null   object \n",
      " 11  DeviceProtection  2349 non-null   object \n",
      " 12  TechSupport       2349 non-null   object \n",
      " 13  StreamingTV       2349 non-null   object \n",
      " 14  StreamingMovies   2349 non-null   object \n",
      " 15  Contract          3000 non-null   object \n",
      " 16  PaperlessBilling  3000 non-null   bool   \n",
      " 17  PaymentMethod     3000 non-null   object \n",
      " 18  MonthlyCharges    3000 non-null   float64\n",
      " 19  TotalCharges      2995 non-null   float64\n",
      " 20  Churn             2999 non-null   object \n",
      "dtypes: bool(5), float64(2), int64(1), object(13)\n",
      "memory usage: 389.8+ KB\n"
     ]
    }
   ],
   "source": [
    "FirstDataset.info()"
   ]
  },
  {
   "cell_type": "markdown",
   "metadata": {},
   "source": [
    "**Observations in FirstDataset** \n",
    "\n",
    "*Based on the provided DataFrame information, here are observations that need to be addressed during the preprocessing*\n",
    "\n",
    "**Missing Values:**\n",
    "\n",
    "*FirstDataset.info() shows the column \"MultipleLines\" has 269 entries missing.\"TechSupport(651 entries),\" \"StreamingTV(651),\", \"StreamingMovies(651)\", TotalCharges(5), DeviceProtection(651), OnlineBackup(651), OnlineSecurity(651) and \"Churn(1), have missing values. This needs to be addressed.*\n",
    "\n",
    "*The column \"TotalCharges\" have missing values (5 entries missing) and \"Churn\", have (1) missing value which needs to be addressed. It might be necessary to handle or impute these missing values.*\n",
    "\n",
    "**Data Types:**\n",
    "\n",
    "*Categorical variables like Churn, PaymentMethod, Contract, StreamingMovies, StreamingTv, TechSupport, DeviceProtection, OnlineBackup, OnlineSecurity, InternetService, MultipleLines, gender and CustomerID are of object data type*\n",
    "\n",
    "*Other categorical variables like PaperlessBilling, PhoneService, Dependents,Partner, and SeniorCtizen are of boolean data types*\n",
    "\n",
    "*Ensure consistency in the values of boolean columns (\"SeniorCitizen,\" \"Partner,\" \"Dependents,\" \"PhoneService,\" \"PaperlessBilling\") to make sure they only contain Yes or No*\n",
    "\n",
    "*Numeric variables like TotalCharges, MonthlyCharges, and Tenure, are of datatype as float64 and int64.\n",
    "\n",
    "**Potential Outliers:**\n",
    "\n",
    "*It might be worthwhile to check for outliers in numerical columns like \"tenure,\" \"MonthlyCharges,\" and \"TotalCharges\" to ensure data integrity.*\n",
    "\n",
    "\n",
    "**The categorical valriables of boolean data types need to be converted to string and encoded or transformed for our machine learning models later.**\n"
   ]
  },
  {
   "cell_type": "markdown",
   "metadata": {},
   "source": [
    "**Standardizing the FirstDataset**"
   ]
  },
  {
   "cell_type": "code",
   "execution_count": 18,
   "metadata": {},
   "outputs": [],
   "source": [
    "# # import pandas as pd\n",
    "\n",
    "# # Assuming your DataFrame is named FirstDataset\n",
    "# # Convert 'SeniorCitizen' from bool to int64\n",
    "# FirstDataset['SeniorCitizen'] = FirstDataset['SeniorCitizen'].astype('int64', errors='ignore')\n",
    "\n",
    "# # Convert 'PaperlessBilling' from bool to object\n",
    "# FirstDataset['PaperlessBilling'] = FirstDataset['PaperlessBilling'].astype('object')\n",
    "\n",
    "# # Convert 'PhoneService' from bool to object\n",
    "# FirstDataset['PhoneService'] = FirstDataset['PhoneService'].astype('object')\n",
    "\n",
    "# # Convert 'Partner' from bool to object\n",
    "# FirstDataset['Partner'] = FirstDataset['Partner'].astype('object')\n",
    "\n",
    "# # Convert 'Dependents' from bool to object\n",
    "# FirstDataset['Dependents'] = FirstDataset['Dependents'].astype('object')\n",
    "\n",
    "# # Verify the changes\n",
    "# print(FirstDataset.dtypes)\n"
   ]
  },
  {
   "cell_type": "code",
   "execution_count": 19,
   "metadata": {},
   "outputs": [
    {
     "name": "stdout",
     "output_type": "stream",
     "text": [
      "<class 'pandas.core.frame.DataFrame'>\n",
      "RangeIndex: 2043 entries, 0 to 2042\n",
      "Data columns (total 21 columns):\n",
      " #   Column            Non-Null Count  Dtype  \n",
      "---  ------            --------------  -----  \n",
      " 0   customerID        2043 non-null   object \n",
      " 1   gender            2043 non-null   object \n",
      " 2   SeniorCitizen     2043 non-null   int64  \n",
      " 3   Partner           2043 non-null   object \n",
      " 4   Dependents        2043 non-null   object \n",
      " 5   tenure            2043 non-null   int64  \n",
      " 6   PhoneService      2043 non-null   object \n",
      " 7   MultipleLines     2043 non-null   object \n",
      " 8   InternetService   2043 non-null   object \n",
      " 9   OnlineSecurity    2043 non-null   object \n",
      " 10  OnlineBackup      2043 non-null   object \n",
      " 11  DeviceProtection  2043 non-null   object \n",
      " 12  TechSupport       2043 non-null   object \n",
      " 13  StreamingTV       2043 non-null   object \n",
      " 14  StreamingMovies   2043 non-null   object \n",
      " 15  Contract          2043 non-null   object \n",
      " 16  PaperlessBilling  2043 non-null   object \n",
      " 17  PaymentMethod     2043 non-null   object \n",
      " 18  MonthlyCharges    2043 non-null   float64\n",
      " 19  TotalCharges      2043 non-null   object \n",
      " 20  Churn             2043 non-null   object \n",
      "dtypes: float64(1), int64(2), object(18)\n",
      "memory usage: 335.3+ KB\n"
     ]
    }
   ],
   "source": [
    "SecondDataset.info()"
   ]
  },
  {
   "cell_type": "markdown",
   "metadata": {},
   "source": [
    "**Observations in SecondDataset**\n",
    "\n",
    "*data.info() shows SecondDataset have no missing values.* \n",
    "\n",
    "*Numeric variables like MonthlyCharges, and Tenure, are of datatype as float64 and int64.*\n",
    "\n",
    "*Categorical Variables including \"gender,\" \"Partner,\" \"Dependents,\" \"PhoneService,\" \"MultipleLines,\" \"InternetService,\" \"OnlineSecurity,\" \"OnlineBackup,\" \"DeviceProtection,\" \"TechSupport,\" \"StreamingTV,\" \"StreamingMovies,\" \"Contract,\" \"PaperlessBilling,\" \"PaymentMethod,\" and \"Churn,\" have an object data type.*\n",
    "\n",
    "\n",
    "*SecondDataset.duplicated().sum() shows there are no duplicates in SecondDataset*\n",
    "\n",
    "**Take Note**\n",
    "\n",
    "*TotalCharges should not be an object data type but a float*\n",
    "\n",
    "*SeniorCitizen should not be an Int64 but an string*\n",
    "\n",
    "*Dependents should not be an object but a string*\n",
    "\n",
    "*PaperlessBilling should not be an object but a string*\n",
    "\n",
    "*Partner should not be an object but a string*\n",
    "\n",
    "**The encoding of  columns representing categorical variablesshall be necessary for machine learning models. We would check for the cardinality of these categorical variables and decide whether to use one-hot encoding or label encoding in due course.**\n",
    "\n",
    "**We would examine the distribution of numerical columns, such as \"tenure,\" \"MonthlyCharges,\" and \"TotalCharges,\" to identify potential outliers that might impact the performance of certain machine learning algorithms.**\n"
   ]
  },
  {
   "cell_type": "markdown",
   "metadata": {},
   "source": [
    "**Standardizing the SecondDataset**"
   ]
  },
  {
   "cell_type": "code",
   "execution_count": 20,
   "metadata": {},
   "outputs": [],
   "source": [
    "# # Assuming your DataFrame is named df\n",
    "# # Convert 'TotalCharges' from object to float\n",
    "# SecondDataset['TotalCharges'] = pd.to_numeric(SecondDataset['TotalCharges'], errors='coerce')\n",
    "\n",
    "# # Verify the changes\n",
    "# print(SecondDataset.dtypes)\n"
   ]
  },
  {
   "cell_type": "markdown",
   "metadata": {},
   "source": [
    "## Standardizing columns before concatenating"
   ]
  },
  {
   "cell_type": "markdown",
   "metadata": {},
   "source": [
    "*The code below is transforming columns in FirstDataset with boolean values into categorical values ('Yes' or 'No').*"
   ]
  },
  {
   "cell_type": "markdown",
   "metadata": {},
   "source": [
    " *Modifying the values in specific columns of the DataFrame FirstDataset.*"
   ]
  },
  {
   "cell_type": "code",
   "execution_count": 21,
   "metadata": {},
   "outputs": [],
   "source": [
    "# Looping through the columns to change the boolean datatypes in the first data to objects\n",
    "boolean_columns = ['SeniorCitizen','Partner','Dependents','Churn','PhoneService','MultipleLines','OnlineSecurity','DeviceProtection','TechSupport','StreamingTV','StreamingMovies','PaperlessBilling']\n",
    " \n",
    "for col in boolean_columns:\n",
    "     FirstDataset[col] =  FirstDataset[col].map({True: 'Yes', False: 'No'})"
   ]
  },
  {
   "cell_type": "code",
   "execution_count": 22,
   "metadata": {},
   "outputs": [],
   "source": [
    "# removing the non-numeric characters from the total charges column\n",
    "SecondDataset['TotalCharges'] = pd.to_numeric(SecondDataset['TotalCharges'], errors='coerce')\n",
    "# changing the total charges column from an object to a float datatype\n",
    "SecondDataset['TotalCharges'] = SecondDataset['TotalCharges'].astype(float)\n",
    "# changing the datatype for the senior citizen column in the data2 from an int to a bool\n",
    "SecondDataset['SeniorCitizen'] =SecondDataset['SeniorCitizen'].astype(bool)\n",
    "# Replace int values in the senior citizen column of data2 to string values\n",
    "SecondDataset['SeniorCitizen']= SecondDataset['SeniorCitizen'].replace({False:'No', True:'Yes'})"
   ]
  },
  {
   "cell_type": "code",
   "execution_count": 23,
   "metadata": {},
   "outputs": [],
   "source": [
    "# looping through the columns in the first data that had none as a value and replacing with no service\n",
    "columns_to_replace = ['MultipleLines', 'PhoneService', 'DeviceProtection', 'TechSupport', 'PaperlessBilling', 'StreamingTV', 'StreamingMovies', 'OnlineSecurity', 'OnlineBackup']\n",
    "\n",
    "for column in columns_to_replace:\n",
    "   FirstDataset[column] = FirstDataset[column].replace({False: 'No', True: 'Yes', None: 'No phone service'})"
   ]
  },
  {
   "cell_type": "code",
   "execution_count": 24,
   "metadata": {},
   "outputs": [],
   "source": [
    "FirstDataset = FirstDataset.dropna(subset=['Churn'], axis=0)"
   ]
  },
  {
   "cell_type": "markdown",
   "metadata": {},
   "source": [
    "**Standardizing the ThirdDataset**"
   ]
  },
  {
   "cell_type": "code",
   "execution_count": 25,
   "metadata": {},
   "outputs": [],
   "source": [
    "# standardizing the ThirdDataset in the testing dataset\n",
    "ThirdDataset['TotalCharges'] = pd.to_numeric(ThirdDataset['TotalCharges'], errors='coerce')\n",
    "ThirdDataset['SeniorCitizen'] = ThirdDataset['SeniorCitizen'].astype(bool)\n",
    "# Replace int values in the senior citizen column of data2 to string values\n",
    "ThirdDataset['SeniorCitizen']=ThirdDataset['SeniorCitizen'].replace({False:'No', True:'Yes'})"
   ]
  },
  {
   "cell_type": "code",
   "execution_count": 26,
   "metadata": {},
   "outputs": [
    {
     "name": "stdout",
     "output_type": "stream",
     "text": [
      "<class 'pandas.core.frame.DataFrame'>\n",
      "RangeIndex: 2000 entries, 0 to 1999\n",
      "Data columns (total 20 columns):\n",
      " #   Column            Non-Null Count  Dtype  \n",
      "---  ------            --------------  -----  \n",
      " 0   customerID        2000 non-null   object \n",
      " 1   gender            2000 non-null   object \n",
      " 2   SeniorCitizen     2000 non-null   object \n",
      " 3   Partner           2000 non-null   object \n",
      " 4   Dependents        2000 non-null   object \n",
      " 5   tenure            2000 non-null   int64  \n",
      " 6   PhoneService      2000 non-null   object \n",
      " 7   MultipleLines     2000 non-null   object \n",
      " 8   InternetService   2000 non-null   object \n",
      " 9   OnlineSecurity    2000 non-null   object \n",
      " 10  OnlineBackup      2000 non-null   object \n",
      " 11  DeviceProtection  2000 non-null   object \n",
      " 12  TechSupport       2000 non-null   object \n",
      " 13  StreamingTV       2000 non-null   object \n",
      " 14  StreamingMovies   2000 non-null   object \n",
      " 15  Contract          2000 non-null   object \n",
      " 16  PaperlessBilling  2000 non-null   object \n",
      " 17  PaymentMethod     2000 non-null   object \n",
      " 18  MonthlyCharges    2000 non-null   float64\n",
      " 19  TotalCharges      1997 non-null   float64\n",
      "dtypes: float64(2), int64(1), object(17)\n",
      "memory usage: 312.6+ KB\n"
     ]
    }
   ],
   "source": [
    "ThirdDataset.info()"
   ]
  },
  {
   "cell_type": "markdown",
   "metadata": {},
   "source": [
    "**The Third dataset is the test dataset. It will be used for testing the acuracy of the models**\n",
    "\n",
    "**We will proceed to do FirstDataset.info() and SecondDataset.info()**"
   ]
  },
  {
   "cell_type": "markdown",
   "metadata": {},
   "source": [
    "*Merging FirstDataset and SecondDataset*"
   ]
  },
  {
   "cell_type": "code",
   "execution_count": 27,
   "metadata": {},
   "outputs": [
    {
     "data": {
      "text/html": [
       "<div>\n",
       "<style scoped>\n",
       "    .dataframe tbody tr th:only-of-type {\n",
       "        vertical-align: middle;\n",
       "    }\n",
       "\n",
       "    .dataframe tbody tr th {\n",
       "        vertical-align: top;\n",
       "    }\n",
       "\n",
       "    .dataframe thead th {\n",
       "        text-align: right;\n",
       "    }\n",
       "</style>\n",
       "<table border=\"1\" class=\"dataframe\">\n",
       "  <thead>\n",
       "    <tr style=\"text-align: right;\">\n",
       "      <th></th>\n",
       "      <th>customerID</th>\n",
       "      <th>gender</th>\n",
       "      <th>SeniorCitizen</th>\n",
       "      <th>Partner</th>\n",
       "      <th>Dependents</th>\n",
       "      <th>tenure</th>\n",
       "      <th>PhoneService</th>\n",
       "      <th>MultipleLines</th>\n",
       "      <th>InternetService</th>\n",
       "      <th>OnlineSecurity</th>\n",
       "      <th>...</th>\n",
       "      <th>DeviceProtection</th>\n",
       "      <th>TechSupport</th>\n",
       "      <th>StreamingTV</th>\n",
       "      <th>StreamingMovies</th>\n",
       "      <th>Contract</th>\n",
       "      <th>PaperlessBilling</th>\n",
       "      <th>PaymentMethod</th>\n",
       "      <th>MonthlyCharges</th>\n",
       "      <th>TotalCharges</th>\n",
       "      <th>Churn</th>\n",
       "    </tr>\n",
       "  </thead>\n",
       "  <tbody>\n",
       "    <tr>\n",
       "      <th>0</th>\n",
       "      <td>7590-VHVEG</td>\n",
       "      <td>Female</td>\n",
       "      <td>No</td>\n",
       "      <td>Yes</td>\n",
       "      <td>No</td>\n",
       "      <td>1</td>\n",
       "      <td>No</td>\n",
       "      <td>No phone service</td>\n",
       "      <td>DSL</td>\n",
       "      <td>No</td>\n",
       "      <td>...</td>\n",
       "      <td>No</td>\n",
       "      <td>No</td>\n",
       "      <td>No</td>\n",
       "      <td>No</td>\n",
       "      <td>Month-to-month</td>\n",
       "      <td>Yes</td>\n",
       "      <td>Electronic check</td>\n",
       "      <td>29.850000</td>\n",
       "      <td>29.85</td>\n",
       "      <td>No</td>\n",
       "    </tr>\n",
       "    <tr>\n",
       "      <th>1</th>\n",
       "      <td>5575-GNVDE</td>\n",
       "      <td>Male</td>\n",
       "      <td>No</td>\n",
       "      <td>No</td>\n",
       "      <td>No</td>\n",
       "      <td>34</td>\n",
       "      <td>Yes</td>\n",
       "      <td>No</td>\n",
       "      <td>DSL</td>\n",
       "      <td>Yes</td>\n",
       "      <td>...</td>\n",
       "      <td>Yes</td>\n",
       "      <td>No</td>\n",
       "      <td>No</td>\n",
       "      <td>No</td>\n",
       "      <td>One year</td>\n",
       "      <td>No</td>\n",
       "      <td>Mailed check</td>\n",
       "      <td>56.950001</td>\n",
       "      <td>1889.50</td>\n",
       "      <td>No</td>\n",
       "    </tr>\n",
       "  </tbody>\n",
       "</table>\n",
       "<p>2 rows × 21 columns</p>\n",
       "</div>"
      ],
      "text/plain": [
       "   customerID  gender SeniorCitizen Partner Dependents  tenure PhoneService  \\\n",
       "0  7590-VHVEG  Female            No     Yes         No       1           No   \n",
       "1  5575-GNVDE    Male            No      No         No      34          Yes   \n",
       "\n",
       "      MultipleLines InternetService OnlineSecurity  ... DeviceProtection  \\\n",
       "0  No phone service             DSL             No  ...               No   \n",
       "1                No             DSL            Yes  ...              Yes   \n",
       "\n",
       "  TechSupport StreamingTV StreamingMovies        Contract PaperlessBilling  \\\n",
       "0          No          No              No  Month-to-month              Yes   \n",
       "1          No          No              No        One year               No   \n",
       "\n",
       "      PaymentMethod MonthlyCharges  TotalCharges  Churn  \n",
       "0  Electronic check      29.850000         29.85     No  \n",
       "1      Mailed check      56.950001       1889.50     No  \n",
       "\n",
       "[2 rows x 21 columns]"
      ]
     },
     "execution_count": 27,
     "metadata": {},
     "output_type": "execute_result"
    }
   ],
   "source": [
    "# Merging two datasets\n",
    "df_concat = pd.concat([FirstDataset,SecondDataset])\n",
    "\n",
    "df_concat.head(2)"
   ]
  },
  {
   "cell_type": "markdown",
   "metadata": {},
   "source": [
    "## **2.3: Exploratory Data Analysis (EDA)** ##\n",
    "\n",
    "### 2.3.1: Exploring data (info, duplicated, null values, describe)"
   ]
  },
  {
   "cell_type": "markdown",
   "metadata": {},
   "source": [
    "*The following code is using the pandas_profiling library to create a detailed report on the df_concat DataFrame, display it in a Jupyter Notebook, and save the report as an HTML file for further analysis or sharing*"
   ]
  },
  {
   "cell_type": "code",
   "execution_count": 28,
   "metadata": {},
   "outputs": [
    {
     "name": "stdout",
     "output_type": "stream",
     "text": [
      "<class 'pandas.core.frame.DataFrame'>\n",
      "Index: 5042 entries, 0 to 2042\n",
      "Data columns (total 21 columns):\n",
      " #   Column            Non-Null Count  Dtype  \n",
      "---  ------            --------------  -----  \n",
      " 0   customerID        5042 non-null   object \n",
      " 1   gender            5042 non-null   object \n",
      " 2   SeniorCitizen     5042 non-null   object \n",
      " 3   Partner           5042 non-null   object \n",
      " 4   Dependents        5042 non-null   object \n",
      " 5   tenure            5042 non-null   int64  \n",
      " 6   PhoneService      5042 non-null   object \n",
      " 7   MultipleLines     5042 non-null   object \n",
      " 8   InternetService   5042 non-null   object \n",
      " 9   OnlineSecurity    5042 non-null   object \n",
      " 10  OnlineBackup      5042 non-null   object \n",
      " 11  DeviceProtection  5042 non-null   object \n",
      " 12  TechSupport       5042 non-null   object \n",
      " 13  StreamingTV       5042 non-null   object \n",
      " 14  StreamingMovies   5042 non-null   object \n",
      " 15  Contract          5042 non-null   object \n",
      " 16  PaperlessBilling  5042 non-null   object \n",
      " 17  PaymentMethod     5042 non-null   object \n",
      " 18  MonthlyCharges    5042 non-null   float64\n",
      " 19  TotalCharges      5034 non-null   float64\n",
      " 20  Churn             5042 non-null   object \n",
      "dtypes: float64(2), int64(1), object(18)\n",
      "memory usage: 866.6+ KB\n"
     ]
    }
   ],
   "source": [
    "df_concat.info()"
   ]
  },
  {
   "cell_type": "code",
   "execution_count": 29,
   "metadata": {},
   "outputs": [],
   "source": [
    "# df_concat.isna().sum()"
   ]
  },
  {
   "cell_type": "code",
   "execution_count": 30,
   "metadata": {},
   "outputs": [
    {
     "data": {
      "text/plain": [
       "0"
      ]
     },
     "execution_count": 30,
     "metadata": {},
     "output_type": "execute_result"
    }
   ],
   "source": [
    "# checked for duplicated values\n",
    "df_concat.duplicated().sum()\n",
    "\n",
    "# there was no duplicated values"
   ]
  },
  {
   "cell_type": "code",
   "execution_count": 31,
   "metadata": {},
   "outputs": [
    {
     "data": {
      "text/html": [
       "<div>\n",
       "<style scoped>\n",
       "    .dataframe tbody tr th:only-of-type {\n",
       "        vertical-align: middle;\n",
       "    }\n",
       "\n",
       "    .dataframe tbody tr th {\n",
       "        vertical-align: top;\n",
       "    }\n",
       "\n",
       "    .dataframe thead th {\n",
       "        text-align: right;\n",
       "    }\n",
       "</style>\n",
       "<table border=\"1\" class=\"dataframe\">\n",
       "  <thead>\n",
       "    <tr style=\"text-align: right;\">\n",
       "      <th></th>\n",
       "      <th>count</th>\n",
       "      <th>mean</th>\n",
       "      <th>std</th>\n",
       "      <th>min</th>\n",
       "      <th>25%</th>\n",
       "      <th>50%</th>\n",
       "      <th>75%</th>\n",
       "      <th>max</th>\n",
       "    </tr>\n",
       "  </thead>\n",
       "  <tbody>\n",
       "    <tr>\n",
       "      <th>tenure</th>\n",
       "      <td>5042.0</td>\n",
       "      <td>32.568822</td>\n",
       "      <td>24.525954</td>\n",
       "      <td>0.000000</td>\n",
       "      <td>9.000000</td>\n",
       "      <td>29.000000</td>\n",
       "      <td>56.000000</td>\n",
       "      <td>72.000000</td>\n",
       "    </tr>\n",
       "    <tr>\n",
       "      <th>MonthlyCharges</th>\n",
       "      <td>5042.0</td>\n",
       "      <td>65.081376</td>\n",
       "      <td>30.064564</td>\n",
       "      <td>18.400000</td>\n",
       "      <td>35.762500</td>\n",
       "      <td>70.550003</td>\n",
       "      <td>90.050002</td>\n",
       "      <td>118.650002</td>\n",
       "    </tr>\n",
       "    <tr>\n",
       "      <th>TotalCharges</th>\n",
       "      <td>5034.0</td>\n",
       "      <td>2300.954758</td>\n",
       "      <td>2268.346402</td>\n",
       "      <td>18.799999</td>\n",
       "      <td>417.662498</td>\n",
       "      <td>1401.000000</td>\n",
       "      <td>3860.599976</td>\n",
       "      <td>8670.100000</td>\n",
       "    </tr>\n",
       "  </tbody>\n",
       "</table>\n",
       "</div>"
      ],
      "text/plain": [
       "                 count         mean          std        min         25%  \\\n",
       "tenure          5042.0    32.568822    24.525954   0.000000    9.000000   \n",
       "MonthlyCharges  5042.0    65.081376    30.064564  18.400000   35.762500   \n",
       "TotalCharges    5034.0  2300.954758  2268.346402  18.799999  417.662498   \n",
       "\n",
       "                        50%          75%          max  \n",
       "tenure            29.000000    56.000000    72.000000  \n",
       "MonthlyCharges    70.550003    90.050002   118.650002  \n",
       "TotalCharges    1401.000000  3860.599976  8670.100000  "
      ]
     },
     "execution_count": 31,
     "metadata": {},
     "output_type": "execute_result"
    }
   ],
   "source": [
    "df_concat.describe().T"
   ]
  },
  {
   "cell_type": "markdown",
   "metadata": {},
   "source": [
    "**Key Insights**\n",
    "\n",
    "**Tenure:** *The data on tenure suggests that, on average, customers have been with the service for approximately 32.58 months. The distribution is somewhat right-skewed, as the median (29 months) is less than the mean. The range of tenure is from 0 to 72 months, with most customers having a tenure between 9 and 56 months.*\n",
    "\n",
    "**Monthly Charges:** *The data on monthly charges indicates that, on average, customers pay around $65.09 per month. The distribution is somewhat right-skewed, with the median (70.55) being greater than the mean. Monthly charges range from $18.40 to $118.65, with most customers paying between $35.78 and $90.05.*\n",
    "\n",
    "**Total Charges:** *The data on total charges shows that, on average, customers have paid around $2300.69 in total charges. The distribution is right-skewed, with the median (1400.70) being less than the mean. Total charges range from $0.00 to $8670.10, with most customers having total charges between $417.13 and $3860.60.*\n"
   ]
  },
  {
   "cell_type": "markdown",
   "metadata": {},
   "source": [
    "**Viewing Summary Statistics of categorical columns in df_concat**"
   ]
  },
  {
   "cell_type": "code",
   "execution_count": 32,
   "metadata": {},
   "outputs": [
    {
     "data": {
      "text/html": [
       "<div>\n",
       "<style scoped>\n",
       "    .dataframe tbody tr th:only-of-type {\n",
       "        vertical-align: middle;\n",
       "    }\n",
       "\n",
       "    .dataframe tbody tr th {\n",
       "        vertical-align: top;\n",
       "    }\n",
       "\n",
       "    .dataframe thead th {\n",
       "        text-align: right;\n",
       "    }\n",
       "</style>\n",
       "<table border=\"1\" class=\"dataframe\">\n",
       "  <thead>\n",
       "    <tr style=\"text-align: right;\">\n",
       "      <th></th>\n",
       "      <th>count</th>\n",
       "      <th>unique</th>\n",
       "      <th>top</th>\n",
       "      <th>freq</th>\n",
       "    </tr>\n",
       "  </thead>\n",
       "  <tbody>\n",
       "    <tr>\n",
       "      <th>customerID</th>\n",
       "      <td>5042</td>\n",
       "      <td>5042</td>\n",
       "      <td>7590-VHVEG</td>\n",
       "      <td>1</td>\n",
       "    </tr>\n",
       "    <tr>\n",
       "      <th>gender</th>\n",
       "      <td>5042</td>\n",
       "      <td>2</td>\n",
       "      <td>Male</td>\n",
       "      <td>2558</td>\n",
       "    </tr>\n",
       "    <tr>\n",
       "      <th>SeniorCitizen</th>\n",
       "      <td>5042</td>\n",
       "      <td>2</td>\n",
       "      <td>No</td>\n",
       "      <td>4223</td>\n",
       "    </tr>\n",
       "    <tr>\n",
       "      <th>Partner</th>\n",
       "      <td>5042</td>\n",
       "      <td>2</td>\n",
       "      <td>No</td>\n",
       "      <td>2585</td>\n",
       "    </tr>\n",
       "    <tr>\n",
       "      <th>Dependents</th>\n",
       "      <td>5042</td>\n",
       "      <td>2</td>\n",
       "      <td>No</td>\n",
       "      <td>3481</td>\n",
       "    </tr>\n",
       "    <tr>\n",
       "      <th>PhoneService</th>\n",
       "      <td>5042</td>\n",
       "      <td>2</td>\n",
       "      <td>Yes</td>\n",
       "      <td>4553</td>\n",
       "    </tr>\n",
       "    <tr>\n",
       "      <th>MultipleLines</th>\n",
       "      <td>5042</td>\n",
       "      <td>3</td>\n",
       "      <td>No</td>\n",
       "      <td>2424</td>\n",
       "    </tr>\n",
       "    <tr>\n",
       "      <th>InternetService</th>\n",
       "      <td>5042</td>\n",
       "      <td>3</td>\n",
       "      <td>Fiber optic</td>\n",
       "      <td>2247</td>\n",
       "    </tr>\n",
       "    <tr>\n",
       "      <th>OnlineSecurity</th>\n",
       "      <td>5042</td>\n",
       "      <td>4</td>\n",
       "      <td>No</td>\n",
       "      <td>2507</td>\n",
       "    </tr>\n",
       "    <tr>\n",
       "      <th>OnlineBackup</th>\n",
       "      <td>5042</td>\n",
       "      <td>4</td>\n",
       "      <td>No</td>\n",
       "      <td>2231</td>\n",
       "    </tr>\n",
       "    <tr>\n",
       "      <th>DeviceProtection</th>\n",
       "      <td>5042</td>\n",
       "      <td>4</td>\n",
       "      <td>No</td>\n",
       "      <td>2219</td>\n",
       "    </tr>\n",
       "    <tr>\n",
       "      <th>TechSupport</th>\n",
       "      <td>5042</td>\n",
       "      <td>4</td>\n",
       "      <td>No</td>\n",
       "      <td>2471</td>\n",
       "    </tr>\n",
       "    <tr>\n",
       "      <th>StreamingTV</th>\n",
       "      <td>5042</td>\n",
       "      <td>4</td>\n",
       "      <td>No</td>\n",
       "      <td>2018</td>\n",
       "    </tr>\n",
       "    <tr>\n",
       "      <th>StreamingMovies</th>\n",
       "      <td>5042</td>\n",
       "      <td>4</td>\n",
       "      <td>No</td>\n",
       "      <td>1981</td>\n",
       "    </tr>\n",
       "    <tr>\n",
       "      <th>Contract</th>\n",
       "      <td>5042</td>\n",
       "      <td>3</td>\n",
       "      <td>Month-to-month</td>\n",
       "      <td>2744</td>\n",
       "    </tr>\n",
       "    <tr>\n",
       "      <th>PaperlessBilling</th>\n",
       "      <td>5042</td>\n",
       "      <td>2</td>\n",
       "      <td>Yes</td>\n",
       "      <td>2995</td>\n",
       "    </tr>\n",
       "    <tr>\n",
       "      <th>PaymentMethod</th>\n",
       "      <td>5042</td>\n",
       "      <td>4</td>\n",
       "      <td>Electronic check</td>\n",
       "      <td>1699</td>\n",
       "    </tr>\n",
       "    <tr>\n",
       "      <th>Churn</th>\n",
       "      <td>5042</td>\n",
       "      <td>2</td>\n",
       "      <td>No</td>\n",
       "      <td>3706</td>\n",
       "    </tr>\n",
       "  </tbody>\n",
       "</table>\n",
       "</div>"
      ],
      "text/plain": [
       "                 count unique               top  freq\n",
       "customerID        5042   5042        7590-VHVEG     1\n",
       "gender            5042      2              Male  2558\n",
       "SeniorCitizen     5042      2                No  4223\n",
       "Partner           5042      2                No  2585\n",
       "Dependents        5042      2                No  3481\n",
       "PhoneService      5042      2               Yes  4553\n",
       "MultipleLines     5042      3                No  2424\n",
       "InternetService   5042      3       Fiber optic  2247\n",
       "OnlineSecurity    5042      4                No  2507\n",
       "OnlineBackup      5042      4                No  2231\n",
       "DeviceProtection  5042      4                No  2219\n",
       "TechSupport       5042      4                No  2471\n",
       "StreamingTV       5042      4                No  2018\n",
       "StreamingMovies   5042      4                No  1981\n",
       "Contract          5042      3    Month-to-month  2744\n",
       "PaperlessBilling  5042      2               Yes  2995\n",
       "PaymentMethod     5042      4  Electronic check  1699\n",
       "Churn             5042      2                No  3706"
      ]
     },
     "execution_count": 32,
     "metadata": {},
     "output_type": "execute_result"
    }
   ],
   "source": [
    "df_concat.describe(include='object').T"
   ]
  },
  {
   "cell_type": "markdown",
   "metadata": {},
   "source": [
    "**Using the box plot to check the central tendency, spread, and potential outliers in df_concat.**"
   ]
  },
  {
   "cell_type": "code",
   "execution_count": 33,
   "metadata": {},
   "outputs": [
    {
     "data": {
      "image/png": "[encoded data removed]",
      "text/plain": [
       "<Figure size 1000x800 with 1 Axes>"
      ]
     },
     "metadata": {},
     "output_type": "display_data"
    }
   ],
   "source": [
    "# Create a box plot\n",
    "plt.figure(figsize=(10, 8))\n",
    "sns.boxplot(data=df_concat)\n",
    "plt.title('Box Plot of Services')\n",
    "plt.show()"
   ]
  },
  {
   "cell_type": "markdown",
   "metadata": {},
   "source": [
    "**Key Insights**: *The column 'Totalcharges' has a lot of outliers*"
   ]
  },
  {
   "cell_type": "markdown",
   "metadata": {},
   "source": [
    "### 2.3.2: Univariate Analysis \n",
    "*Explore individual variables for insights.*"
   ]
  },
  {
   "cell_type": "markdown",
   "metadata": {},
   "source": [
    "**Generating histograms to visualize the distribution of numerical data in df_concat** "
   ]
  },
  {
   "cell_type": "code",
   "execution_count": 34,
   "metadata": {},
   "outputs": [
    {
     "data": {
      "image/png": "[encoded data removed]",
      "text/plain": [
       "<Figure size 1000x1000 with 4 Axes>"
      ]
     },
     "metadata": {},
     "output_type": "display_data"
    }
   ],
   "source": [
    "df_concat.hist(figsize=(10,10),grid=False,color = 'skyblue')\n",
    "plt.show()"
   ]
  },
  {
   "cell_type": "markdown",
   "metadata": {},
   "source": [
    "**Key Insights:**\n",
    "\n",
    "*The distribution of the monthly charges seems to follow the bell curve of a normal distribution*\n",
    "\n",
    "*Total charges column is positively skewed*\n",
    "\n",
    "*The numerical columns depicted by the histogram shows abnormal distribution, some like the monthly charges column are negatively skewed and will need nomalization in the data preparation phase*"
   ]
  },
  {
   "cell_type": "markdown",
   "metadata": {},
   "source": [
    "**Generating a KDE plot specifically for the 'tenure' column, offering a smooth and continuous representation of the distribution of 'tenure' values in the df_concat DataFrame**"
   ]
  },
  {
   "cell_type": "code",
   "execution_count": 35,
   "metadata": {},
   "outputs": [
    {
     "data": {
      "text/plain": [
       "<Axes: ylabel='Density'>"
      ]
     },
     "execution_count": 35,
     "metadata": {},
     "output_type": "execute_result"
    },
    {
     "data": {
      "image/png": "[encoded data removed]",
      "text/plain": [
       "<Figure size 640x480 with 1 Axes>"
      ]
     },
     "metadata": {},
     "output_type": "display_data"
    }
   ],
   "source": [
    "df_concat['tenure'].plot(kind= 'kde')"
   ]
  },
  {
   "cell_type": "code",
   "execution_count": 36,
   "metadata": {},
   "outputs": [
    {
     "data": {
      "image/png": "[encoded data removed]",
      "text/plain": [
       "<Figure size 1000x600 with 1 Axes>"
      ]
     },
     "metadata": {},
     "output_type": "display_data"
    }
   ],
   "source": [
    "# Create a box plot to check for outliers\n",
    "plt.figure(figsize=(10, 6))\n",
    "sns.boxplot(data=df_concat,orient='h')\n",
    "plt.title('Box Plot of Services')\n",
    "plt.show()"
   ]
  },
  {
   "cell_type": "markdown",
   "metadata": {},
   "source": [
    "**Key Insights**\n",
    "\n",
    "**SeniorCitizen:**\n",
    "*The variable takes values of 0 and 1, representing non-senior and senior citizens.To explore the impact of being a senior citizen on customer behavior or preferences.*\n",
    "\n",
    "**Tenure:**\n",
    "*The minimum tenure is 0, and the maximum is 72. To investigate customers with very short or long tenures to understand factors contributing to their behavior.*\n",
    "\n",
    "**MonthlyCharges:**\n",
    "*Monthly charges range from $18.40 to $118.65.To explore customer segments with high or low monthly charges and tailor strategies accordingly.*"
   ]
  },
  {
   "cell_type": "markdown",
   "metadata": {},
   "source": [
    "### 2.3.3: Bivariate Analysis\n",
    "*Investigating relationships between pairs of variables.*"
   ]
  },
  {
   "cell_type": "markdown",
   "metadata": {},
   "source": [
    "**Calculating the correlation matrix for numerical columns in the df_concat DataFrame, helping to identify relationships and dependencies between different numerical variables**"
   ]
  },
  {
   "cell_type": "code",
   "execution_count": 37,
   "metadata": {},
   "outputs": [
    {
     "data": {
      "text/html": [
       "<div>\n",
       "<style scoped>\n",
       "    .dataframe tbody tr th:only-of-type {\n",
       "        vertical-align: middle;\n",
       "    }\n",
       "\n",
       "    .dataframe tbody tr th {\n",
       "        vertical-align: top;\n",
       "    }\n",
       "\n",
       "    .dataframe thead th {\n",
       "        text-align: right;\n",
       "    }\n",
       "</style>\n",
       "<table border=\"1\" class=\"dataframe\">\n",
       "  <thead>\n",
       "    <tr style=\"text-align: right;\">\n",
       "      <th></th>\n",
       "      <th>tenure</th>\n",
       "      <th>MonthlyCharges</th>\n",
       "      <th>TotalCharges</th>\n",
       "    </tr>\n",
       "  </thead>\n",
       "  <tbody>\n",
       "    <tr>\n",
       "      <th>tenure</th>\n",
       "      <td>1.000000</td>\n",
       "      <td>0.240287</td>\n",
       "      <td>0.826188</td>\n",
       "    </tr>\n",
       "    <tr>\n",
       "      <th>MonthlyCharges</th>\n",
       "      <td>0.240287</td>\n",
       "      <td>1.000000</td>\n",
       "      <td>0.646813</td>\n",
       "    </tr>\n",
       "    <tr>\n",
       "      <th>TotalCharges</th>\n",
       "      <td>0.826188</td>\n",
       "      <td>0.646813</td>\n",
       "      <td>1.000000</td>\n",
       "    </tr>\n",
       "  </tbody>\n",
       "</table>\n",
       "</div>"
      ],
      "text/plain": [
       "                  tenure  MonthlyCharges  TotalCharges\n",
       "tenure          1.000000        0.240287      0.826188\n",
       "MonthlyCharges  0.240287        1.000000      0.646813\n",
       "TotalCharges    0.826188        0.646813      1.000000"
      ]
     },
     "execution_count": 37,
     "metadata": {},
     "output_type": "execute_result"
    }
   ],
   "source": [
    "correlation = df_concat.corr(numeric_only=True)\n",
    "\n",
    "correlation"
   ]
  },
  {
   "cell_type": "markdown",
   "metadata": {},
   "source": [
    "**Interpretation**\n",
    "\n",
    "**SeniorCitizen vs. SeniorCitizen:**\n",
    "\n",
    "*The correlation of a variable with itself is always 1. So, the correlation between \"SeniorCitizen\" and itself is 1.*\n",
    "\n",
    "**tenure vs. MonthlyCharges:** \n",
    "\n",
    "*The correlation between \"tenure\" (the length of time a customer has been with the service) and \"MonthlyCharges\" is approximately 0.24. This suggests a weak positive correlation, meaning that, on average, as tenure increases, monthly charges also tend to increase slightly.*\n",
    "\n",
    "**tenure vs. TotalCharges:** \n",
    "\n",
    "*The correlation between \"tenure\" and \"TotalCharges\" is relatively strong at approximately 0.83. This indicates a strong positive correlation, suggesting that customers who have been with the service for a longer time tend to have higher total charges.*\n",
    "\n",
    "**MonthlyCharges vs. TotalCharges:** \n",
    "\n",
    "*The correlation between \"MonthlyCharges\" and \"TotalCharges\" is approximately 0.65. This suggests a moderate positive correlation, indicating that higher monthly charges are associated with higher total charges.*\n",
    "\n",
    "**In summary, the correlation matrix provides insights into how these variables are related. A correlation close to 1 indicates a strong positive relationship, close to -1 indicates a strong negative relationship, and close to 0 indicates a weak or no relationship. Keep in mind that correlation does not imply causation; it only measures the strength and direction of a linear relationship between variables**"
   ]
  },
  {
   "cell_type": "markdown",
   "metadata": {},
   "source": [
    "**Creating a heatmap to visually represent the correlation matrix (correlation) between numerical variables in the dataset.**"
   ]
  },
  {
   "cell_type": "code",
   "execution_count": 38,
   "metadata": {},
   "outputs": [
    {
     "data": {
      "text/plain": [
       "<Axes: >"
      ]
     },
     "execution_count": 38,
     "metadata": {},
     "output_type": "execute_result"
    },
    {
     "data": {
      "image/png": "[encoded data removed]",
      "text/plain": [
       "<Figure size 1000x800 with 2 Axes>"
      ]
     },
     "metadata": {},
     "output_type": "display_data"
    }
   ],
   "source": [
    "plt.figure(figsize=(10,8))\n",
    "sns.heatmap(data = correlation,annot = True,cmap = 'coolwarm')"
   ]
  },
  {
   "cell_type": "markdown",
   "metadata": {},
   "source": [
    "### 2.3.4: Multivariate Analysis\n",
    "*Examining interactions between three or more variables.*\n",
    "\n",
    "**Generating a pair plot using Seaborn to visualize relationships between variables in the df_concat DataFrame, specifically focusing on the 'gender,' 'SeniorCitizen,' and 'MonthlyCharges' columns.**"
   ]
  },
  {
   "cell_type": "code",
   "execution_count": 39,
   "metadata": {},
   "outputs": [
    {
     "data": {
      "text/plain": [
       "<seaborn.axisgrid.PairGrid at 0x1be82645870>"
      ]
     },
     "execution_count": 39,
     "metadata": {},
     "output_type": "execute_result"
    },
    {
     "data": {
      "image/png": "[encoded data removed]",
      "text/plain": [
       "<Figure size 310.361x250 with 2 Axes>"
      ]
     },
     "metadata": {},
     "output_type": "display_data"
    }
   ],
   "source": [
    "data = df_concat[['gender','SeniorCitizen','MonthlyCharges']]\n",
    "\n",
    "sns.pairplot(data,hue='gender')"
   ]
  },
  {
   "cell_type": "markdown",
   "metadata": {},
   "source": [
    "## **3.0: Answering Analytical questions** ##"
   ]
  },
  {
   "cell_type": "markdown",
   "metadata": {},
   "source": [
    "### Q1. What is the distribution of churn for different Internet service types?"
   ]
  },
  {
   "cell_type": "markdown",
   "metadata": {},
   "source": [
    "**Viewing a tabular distribution of churn across different categories (in this case, different types of Internet services).**"
   ]
  },
  {
   "cell_type": "code",
   "execution_count": 40,
   "metadata": {},
   "outputs": [
    {
     "data": {
      "text/html": [
       "<div>\n",
       "<style scoped>\n",
       "    .dataframe tbody tr th:only-of-type {\n",
       "        vertical-align: middle;\n",
       "    }\n",
       "\n",
       "    .dataframe tbody tr th {\n",
       "        vertical-align: top;\n",
       "    }\n",
       "\n",
       "    .dataframe thead th {\n",
       "        text-align: right;\n",
       "    }\n",
       "</style>\n",
       "<table border=\"1\" class=\"dataframe\">\n",
       "  <thead>\n",
       "    <tr style=\"text-align: right;\">\n",
       "      <th>Churn</th>\n",
       "      <th>No</th>\n",
       "      <th>Yes</th>\n",
       "    </tr>\n",
       "    <tr>\n",
       "      <th>InternetService</th>\n",
       "      <th></th>\n",
       "      <th></th>\n",
       "    </tr>\n",
       "  </thead>\n",
       "  <tbody>\n",
       "    <tr>\n",
       "      <th>DSL</th>\n",
       "      <td>1406</td>\n",
       "      <td>309</td>\n",
       "    </tr>\n",
       "    <tr>\n",
       "      <th>Fiber optic</th>\n",
       "      <td>1296</td>\n",
       "      <td>951</td>\n",
       "    </tr>\n",
       "    <tr>\n",
       "      <th>No</th>\n",
       "      <td>1004</td>\n",
       "      <td>76</td>\n",
       "    </tr>\n",
       "  </tbody>\n",
       "</table>\n",
       "</div>"
      ],
      "text/plain": [
       "Churn              No  Yes\n",
       "InternetService           \n",
       "DSL              1406  309\n",
       "Fiber optic      1296  951\n",
       "No               1004   76"
      ]
     },
     "execution_count": 40,
     "metadata": {},
     "output_type": "execute_result"
    }
   ],
   "source": [
    "churn_counts = df_concat.groupby(['InternetService', 'Churn']).size().unstack()\n",
    "churn_counts"
   ]
  },
  {
   "cell_type": "code",
   "execution_count": 41,
   "metadata": {},
   "outputs": [
    {
     "data": {
      "image/png": "[encoded data removed]",
      "text/plain": [
       "<Figure size 1200x500 with 3 Axes>"
      ]
     },
     "metadata": {},
     "output_type": "display_data"
    }
   ],
   "source": [
    "# Plot a pie chart for each internet service category\n",
    "plt.figure(figsize=(12, 5))\n",
    "\n",
    "for i, service_type in enumerate(churn_counts.index):\n",
    "    plt.subplot(1, 3, i + 1)\n",
    "    plt.pie(churn_counts.loc[service_type], labels=churn_counts.columns, autopct='%1.1f%%', startangle=90, colors=['#ff9999', '#66b3ff'])\n",
    "    plt.title(f'Churn Distribution for {service_type}')\n",
    "\n",
    "plt.tight_layout()\n",
    "plt.show()"
   ]
  },
  {
   "cell_type": "markdown",
   "metadata": {},
   "source": [
    "**Interpretation of Churn vs. InternetService:**\n",
    "\n",
    "**For customers with \"DSL\" Internet service:**\n",
    "*\"No\" Churn: 1406 customers*\n",
    "\n",
    "*\"Yes\" Churn: 309 customers*\n",
    "\n",
    "\n",
    "**For customers with \"Fiber optic\" Internet service:**\n",
    "\n",
    "*\"No\" Churn: 1296 customers*\n",
    "\n",
    "*\"Yes\" Churn: 951 customers*\n",
    "\n",
    "\n",
    "**For customers with \"No\" Internet service:**\n",
    "\n",
    "*\"No\" Churn: 1004 customers*\n",
    "\n",
    "*\"Yes\" Churn: 76 customers*"
   ]
  },
  {
   "cell_type": "markdown",
   "metadata": {},
   "source": [
    "### Q2.How does having a partner or dependents affect customer churn?"
   ]
  },
  {
   "cell_type": "code",
   "execution_count": 44,
   "metadata": {},
   "outputs": [
    {
     "name": "stdout",
     "output_type": "stream",
     "text": [
      "['No' 'Yes']\n",
      "object\n"
     ]
    },
    {
     "data": {
      "image/png": "[encoded data removed]",
      "text/plain": [
       "<Figure size 640x480 with 2 Axes>"
      ]
     },
     "metadata": {},
     "output_type": "display_data"
    }
   ],
   "source": [
    "# Convert 'Churn' to string type\n",
    "df_concat['Churn'] = df_concat['Churn'].astype(str)\n",
    "\n",
    "# Check the unique values and data types in the 'Churn' column\n",
    "print(df_concat['Churn'].unique())\n",
    "print(df_concat['Churn'].dtype)\n",
    "\n",
    "# Now, you can proceed with your countplot\n",
    "sns.set(style=\"whitegrid\")\n",
    "\n",
    "# Plotting Partner distribution\n",
    "plt.subplot(2, 3, 1)\n",
    "sns.countplot(x='Partner', hue='Churn', data=df_concat)\n",
    "\n",
    "# Plotting Dependents distribution\n",
    "plt.subplot(2, 3, 2)\n",
    "sns.countplot(x='Dependents', hue='Churn', data=df_concat)\n",
    "\n",
    "# Adjust layout\n",
    "plt.tight_layout()\n",
    "plt.show()\n"
   ]
  },
  {
   "cell_type": "markdown",
   "metadata": {},
   "source": [
    "**Key Insights and Recommendations:**\n",
    "\n",
    "*The customers with partners are less likely to churn than the customers without partners*\n",
    "\n",
    "*Customers withou dependants are more likely to churn than those with dependents*"
   ]
  },
  {
   "cell_type": "markdown",
   "metadata": {},
   "source": [
    "### Q3: How does the contract type (Contract) influence customer churn?"
   ]
  },
  {
   "cell_type": "code",
   "execution_count": 45,
   "metadata": {},
   "outputs": [
    {
     "data": {
      "text/html": [
       "<div>\n",
       "<style scoped>\n",
       "    .dataframe tbody tr th:only-of-type {\n",
       "        vertical-align: middle;\n",
       "    }\n",
       "\n",
       "    .dataframe tbody tr th {\n",
       "        vertical-align: top;\n",
       "    }\n",
       "\n",
       "    .dataframe thead th {\n",
       "        text-align: right;\n",
       "    }\n",
       "</style>\n",
       "<table border=\"1\" class=\"dataframe\">\n",
       "  <thead>\n",
       "    <tr style=\"text-align: right;\">\n",
       "      <th>Churn</th>\n",
       "      <th>No</th>\n",
       "      <th>Yes</th>\n",
       "    </tr>\n",
       "    <tr>\n",
       "      <th>Contract</th>\n",
       "      <th></th>\n",
       "      <th></th>\n",
       "    </tr>\n",
       "  </thead>\n",
       "  <tbody>\n",
       "    <tr>\n",
       "      <th>Month-to-month</th>\n",
       "      <td>1560</td>\n",
       "      <td>1184</td>\n",
       "    </tr>\n",
       "    <tr>\n",
       "      <th>One year</th>\n",
       "      <td>933</td>\n",
       "      <td>122</td>\n",
       "    </tr>\n",
       "    <tr>\n",
       "      <th>Two year</th>\n",
       "      <td>1213</td>\n",
       "      <td>30</td>\n",
       "    </tr>\n",
       "  </tbody>\n",
       "</table>\n",
       "</div>"
      ],
      "text/plain": [
       "Churn             No   Yes\n",
       "Contract                  \n",
       "Month-to-month  1560  1184\n",
       "One year         933   122\n",
       "Two year        1213    30"
      ]
     },
     "execution_count": 45,
     "metadata": {},
     "output_type": "execute_result"
    }
   ],
   "source": [
    "churn_counts = df_concat.groupby(['Contract', 'Churn']).size().unstack()\n",
    "churn_counts"
   ]
  },
  {
   "cell_type": "code",
   "execution_count": 46,
   "metadata": {},
   "outputs": [
    {
     "data": {
      "image/png": "[encoded data removed]",
      "text/plain": [
       "<Figure size 1500x500 with 1 Axes>"
      ]
     },
     "metadata": {},
     "output_type": "display_data"
    }
   ],
   "source": [
    "# Set the style of seaborn for better visualization\n",
    "sns.set(style=\"whitegrid\")\n",
    "\n",
    "# Plotting contract type distribution\n",
    "plt.figure(figsize=(15, 5))\n",
    "\n",
    "plt.subplot(1, 3, 1)\n",
    "sns.countplot(x='Contract', hue='Churn', data=df_concat)\n",
    "plt.title('Contract Type vs. Churn')\n",
    "\n",
    "\n",
    "# Adjust layout\n",
    "plt.tight_layout()\n",
    "plt.show()"
   ]
  },
  {
   "cell_type": "markdown",
   "metadata": {},
   "source": [
    "**Key Insights and recommendations:**\n",
    "\n",
    "*Customers with month to month contract type are likely to churn as compared to customers with long term contracts of one year and above*\n",
    "*The company should consider giving incentives to long term contracts to attract more customers to subscribe*"
   ]
  },
  {
   "cell_type": "markdown",
   "metadata": {},
   "source": [
    "### Q4: What is the impact of Payment method, on customer churn?"
   ]
  },
  {
   "cell_type": "code",
   "execution_count": 47,
   "metadata": {},
   "outputs": [
    {
     "data": {
      "text/html": [
       "<div>\n",
       "<style scoped>\n",
       "    .dataframe tbody tr th:only-of-type {\n",
       "        vertical-align: middle;\n",
       "    }\n",
       "\n",
       "    .dataframe tbody tr th {\n",
       "        vertical-align: top;\n",
       "    }\n",
       "\n",
       "    .dataframe thead th {\n",
       "        text-align: right;\n",
       "    }\n",
       "</style>\n",
       "<table border=\"1\" class=\"dataframe\">\n",
       "  <thead>\n",
       "    <tr style=\"text-align: right;\">\n",
       "      <th>Churn</th>\n",
       "      <th>No</th>\n",
       "      <th>Yes</th>\n",
       "    </tr>\n",
       "    <tr>\n",
       "      <th>PaymentMethod</th>\n",
       "      <th></th>\n",
       "      <th></th>\n",
       "    </tr>\n",
       "  </thead>\n",
       "  <tbody>\n",
       "    <tr>\n",
       "      <th>Bank transfer (automatic)</th>\n",
       "      <td>927</td>\n",
       "      <td>198</td>\n",
       "    </tr>\n",
       "    <tr>\n",
       "      <th>Credit card (automatic)</th>\n",
       "      <td>922</td>\n",
       "      <td>168</td>\n",
       "    </tr>\n",
       "    <tr>\n",
       "      <th>Electronic check</th>\n",
       "      <td>941</td>\n",
       "      <td>758</td>\n",
       "    </tr>\n",
       "    <tr>\n",
       "      <th>Mailed check</th>\n",
       "      <td>916</td>\n",
       "      <td>212</td>\n",
       "    </tr>\n",
       "  </tbody>\n",
       "</table>\n",
       "</div>"
      ],
      "text/plain": [
       "Churn                       No  Yes\n",
       "PaymentMethod                      \n",
       "Bank transfer (automatic)  927  198\n",
       "Credit card (automatic)    922  168\n",
       "Electronic check           941  758\n",
       "Mailed check               916  212"
      ]
     },
     "execution_count": 47,
     "metadata": {},
     "output_type": "execute_result"
    }
   ],
   "source": [
    "churn_counts = df_concat.groupby(['PaymentMethod', 'Churn']).size().unstack()\n",
    "churn_counts"
   ]
  },
  {
   "cell_type": "code",
   "execution_count": 48,
   "metadata": {},
   "outputs": [
    {
     "data": {
      "image/png": "[encoded data removed]",
      "text/plain": [
       "<Figure size 640x480 with 1 Axes>"
      ]
     },
     "metadata": {},
     "output_type": "display_data"
    }
   ],
   "source": [
    "sns.countplot(x='PaymentMethod', hue='Churn', data=df_concat)\n",
    "plt.xticks(rotation=45, ha='right')  # Rotate x-axis labels for better readability\n",
    "plt.title('Payment Method vs. Churn')\n",
    " \n",
    "# Adjust layout\n",
    "plt.tight_layout()\n",
    "plt.show()"
   ]
  },
  {
   "cell_type": "markdown",
   "metadata": {},
   "source": [
    "**Key Insights**\n",
    "\n",
    "*Credit card users are the least likely to churn, followed closely by Bank transfer and Mailed check*\n",
    "\n",
    "*Electronic check users are more likely to churn*\n"
   ]
  },
  {
   "cell_type": "markdown",
   "metadata": {},
   "source": [
    "### Q5. Is there a relationship between gender and the churn rate?"
   ]
  },
  {
   "cell_type": "code",
   "execution_count": 49,
   "metadata": {},
   "outputs": [
    {
     "data": {
      "text/plain": [
       "gender  Churn\n",
       "Female  No       1823\n",
       "        Yes       661\n",
       "Male    No       1883\n",
       "        Yes       675\n",
       "Name: count, dtype: int64"
      ]
     },
     "execution_count": 49,
     "metadata": {},
     "output_type": "execute_result"
    }
   ],
   "source": [
    "df_concat.groupby('gender')['Churn'].value_counts()"
   ]
  },
  {
   "cell_type": "markdown",
   "metadata": {},
   "source": [
    "**Interpretation:**\n",
    "\n",
    "*Female/No: There are 1823 instances where females did not churn.*\n",
    "*Female/Yes: There are 661 instances where females did churn.*\n",
    "*Male/No: There are 1884 instances where males did not churn.*\n",
    "*Male/Yes: There are 675 instances where males did churn.*"
   ]
  },
  {
   "cell_type": "code",
   "execution_count": 50,
   "metadata": {},
   "outputs": [
    {
     "data": {
      "image/png": "[encoded data removed]",
      "text/plain": [
       "<Figure size 640x480 with 1 Axes>"
      ]
     },
     "metadata": {},
     "output_type": "display_data"
    }
   ],
   "source": [
    "sns.countplot(x='gender', hue='Churn', data=df_concat)\n",
    "\n",
    "# Add labels and title\n",
    "plt.xlabel('Gender')\n",
    "plt.ylabel('Count')\n",
    "plt.title('Churn Rate by Gender')\n",
    "\n",
    "# Show the plot\n",
    "plt.show()"
   ]
  },
  {
   "cell_type": "markdown",
   "metadata": {},
   "source": [
    "**Calculating the churn rate for each gender**\n",
    "\n",
    "**Churn Rate =**\n",
    "\n",
    "*Number of Churned Customers/Total Number of Customers × 100*"
   ]
  },
  {
   "cell_type": "markdown",
   "metadata": {},
   "source": [
    "## **4.0: Testing Hypothesis** ##"
   ]
  },
  {
   "cell_type": "markdown",
   "metadata": {},
   "source": [
    "## **Null Hypothesis (H0):** ##\n",
    "\n",
    "**There is no significant relationship between the Total Charges and customer churn.**\n",
    "\n",
    "\n",
    "## **Alternative Hypothesis (H1):** ##\n",
    "\n",
    "**There is a significant relationship between the Total Charges and customer churn.**"
   ]
  },
  {
   "cell_type": "code",
   "execution_count": 51,
   "metadata": {},
   "outputs": [
    {
     "name": "stdout",
     "output_type": "stream",
     "text": [
      "Kruskal-Wallis Test Statistic: 260.6101721522118\n",
      "P-value: 1.2633211648599872e-58\n",
      "There is a significant relationship between Total Charges and customer churn.\n"
     ]
    }
   ],
   "source": [
    "import pandas as pd\n",
    "import scipy.stats as stats\n",
    "\n",
    "# Assuming df_concatenated is your DataFrame\n",
    "# Make sure 'TotalCharges' is numeric\n",
    "df_concat['TotalCharges'] = pd.to_numeric(df_concat['TotalCharges'], errors='coerce')\n",
    "\n",
    "# Remove rows with NaN values in 'TotalCharges'\n",
    "df_concat = df_concat.dropna(subset=['TotalCharges'])\n",
    "\n",
    "# Perform the Kruskal-Wallis test\n",
    "result = stats.kruskal(*[group['TotalCharges'] for name, group in df_concat.groupby('Churn')])\n",
    "\n",
    "# Print the result\n",
    "print(\"Kruskal-Wallis Test Statistic:\", result.statistic)\n",
    "print(\"P-value:\", result.pvalue)\n",
    "\n",
    "# Interpret the result\n",
    "if result.pvalue < 0.05:\n",
    "    print(\"There is a significant relationship between Total Charges and customer churn.\")\n",
    "else:\n",
    "    print(\"There is no significant relationship between Total Charges and customer churn.\")\n"
   ]
  },
  {
   "cell_type": "markdown",
   "metadata": {},
   "source": [
    "**The Kruskal-Wallis test is a non-parametric test we used to determine whether there are statistically significant differences between the variable \"Total Charges\" and the occurrence of customer churn.**\n",
    "\n",
    "**Interpretation:**\n",
    "\n",
    "**Kruskal-Wallis Test Statistic:** \n",
    "*260.6101721522118*\n",
    "\n",
    "*The Kruskal-Wallis test statistic is a numerical value that represents the result of the statistical test. In this case, the test statistic is approximately 260.61.*\n",
    "\n",
    "**P-value:** \n",
    "*1.2633211648599872e-58*\n",
    "\n",
    "*The p-value is a crucial component of hypothesis testing. It represents the probability of obtaining the observed results (or more extreme) if the null hypothesis is true. A very low p-value, such as the one provided (1.0597511028658757e-58, which is close to zero), suggests strong evidence against the null hypothesis.*\n"
   ]
  },
  {
   "cell_type": "markdown",
   "metadata": {},
   "source": [
    "## **DATA PREPARATION** ##\n",
    "\n",
    "*Data Cleaning- removing duplicates, handling missing values*"
   ]
  },
  {
   "cell_type": "code",
   "execution_count": 52,
   "metadata": {},
   "outputs": [],
   "source": [
    "# remove customerID column as it won't be relevant\n",
    "df_concat = df_concat.drop('customerID',axis=1)"
   ]
  },
  {
   "cell_type": "code",
   "execution_count": 53,
   "metadata": {},
   "outputs": [
    {
     "data": {
      "text/plain": [
       "gender              0\n",
       "SeniorCitizen       0\n",
       "Partner             0\n",
       "Dependents          0\n",
       "tenure              0\n",
       "PhoneService        0\n",
       "MultipleLines       0\n",
       "InternetService     0\n",
       "OnlineSecurity      0\n",
       "OnlineBackup        0\n",
       "DeviceProtection    0\n",
       "TechSupport         0\n",
       "StreamingTV         0\n",
       "StreamingMovies     0\n",
       "Contract            0\n",
       "PaperlessBilling    0\n",
       "PaymentMethod       0\n",
       "MonthlyCharges      0\n",
       "TotalCharges        0\n",
       "Churn               0\n",
       "dtype: int64"
      ]
     },
     "execution_count": 53,
     "metadata": {},
     "output_type": "execute_result"
    }
   ],
   "source": [
    "df_concat.isna().sum()"
   ]
  },
  {
   "cell_type": "markdown",
   "metadata": {},
   "source": [
    "**Splitting Data into imput(x) and target(y)**"
   ]
  },
  {
   "cell_type": "code",
   "execution_count": 54,
   "metadata": {},
   "outputs": [
    {
     "data": {
      "text/html": [
       "<div>\n",
       "<style scoped>\n",
       "    .dataframe tbody tr th:only-of-type {\n",
       "        vertical-align: middle;\n",
       "    }\n",
       "\n",
       "    .dataframe tbody tr th {\n",
       "        vertical-align: top;\n",
       "    }\n",
       "\n",
       "    .dataframe thead th {\n",
       "        text-align: right;\n",
       "    }\n",
       "</style>\n",
       "<table border=\"1\" class=\"dataframe\">\n",
       "  <thead>\n",
       "    <tr style=\"text-align: right;\">\n",
       "      <th></th>\n",
       "      <th>gender</th>\n",
       "      <th>SeniorCitizen</th>\n",
       "      <th>Partner</th>\n",
       "      <th>Dependents</th>\n",
       "      <th>tenure</th>\n",
       "      <th>PhoneService</th>\n",
       "      <th>MultipleLines</th>\n",
       "      <th>InternetService</th>\n",
       "      <th>OnlineSecurity</th>\n",
       "      <th>OnlineBackup</th>\n",
       "      <th>DeviceProtection</th>\n",
       "      <th>TechSupport</th>\n",
       "      <th>StreamingTV</th>\n",
       "      <th>StreamingMovies</th>\n",
       "      <th>Contract</th>\n",
       "      <th>PaperlessBilling</th>\n",
       "      <th>PaymentMethod</th>\n",
       "      <th>MonthlyCharges</th>\n",
       "      <th>TotalCharges</th>\n",
       "    </tr>\n",
       "  </thead>\n",
       "  <tbody>\n",
       "    <tr>\n",
       "      <th>0</th>\n",
       "      <td>Female</td>\n",
       "      <td>No</td>\n",
       "      <td>Yes</td>\n",
       "      <td>No</td>\n",
       "      <td>1</td>\n",
       "      <td>No</td>\n",
       "      <td>No phone service</td>\n",
       "      <td>DSL</td>\n",
       "      <td>No</td>\n",
       "      <td>Yes</td>\n",
       "      <td>No</td>\n",
       "      <td>No</td>\n",
       "      <td>No</td>\n",
       "      <td>No</td>\n",
       "      <td>Month-to-month</td>\n",
       "      <td>Yes</td>\n",
       "      <td>Electronic check</td>\n",
       "      <td>29.850000</td>\n",
       "      <td>29.85</td>\n",
       "    </tr>\n",
       "    <tr>\n",
       "      <th>1</th>\n",
       "      <td>Male</td>\n",
       "      <td>No</td>\n",
       "      <td>No</td>\n",
       "      <td>No</td>\n",
       "      <td>34</td>\n",
       "      <td>Yes</td>\n",
       "      <td>No</td>\n",
       "      <td>DSL</td>\n",
       "      <td>Yes</td>\n",
       "      <td>No</td>\n",
       "      <td>Yes</td>\n",
       "      <td>No</td>\n",
       "      <td>No</td>\n",
       "      <td>No</td>\n",
       "      <td>One year</td>\n",
       "      <td>No</td>\n",
       "      <td>Mailed check</td>\n",
       "      <td>56.950001</td>\n",
       "      <td>1889.50</td>\n",
       "    </tr>\n",
       "  </tbody>\n",
       "</table>\n",
       "</div>"
      ],
      "text/plain": [
       "   gender SeniorCitizen Partner Dependents  tenure PhoneService  \\\n",
       "0  Female            No     Yes         No       1           No   \n",
       "1    Male            No      No         No      34          Yes   \n",
       "\n",
       "      MultipleLines InternetService OnlineSecurity OnlineBackup  \\\n",
       "0  No phone service             DSL             No          Yes   \n",
       "1                No             DSL            Yes           No   \n",
       "\n",
       "  DeviceProtection TechSupport StreamingTV StreamingMovies        Contract  \\\n",
       "0               No          No          No              No  Month-to-month   \n",
       "1              Yes          No          No              No        One year   \n",
       "\n",
       "  PaperlessBilling     PaymentMethod  MonthlyCharges  TotalCharges  \n",
       "0              Yes  Electronic check       29.850000         29.85  \n",
       "1               No      Mailed check       56.950001       1889.50  "
      ]
     },
     "execution_count": 54,
     "metadata": {},
     "output_type": "execute_result"
    }
   ],
   "source": [
    "X = df_concat.drop('Churn', axis=1)\n",
    "\n",
    "X.head(2)"
   ]
  },
  {
   "cell_type": "code",
   "execution_count": 55,
   "metadata": {},
   "outputs": [
    {
     "data": {
      "text/plain": [
       "0        No\n",
       "1        No\n",
       "2       Yes\n",
       "3        No\n",
       "4       Yes\n",
       "       ... \n",
       "2038     No\n",
       "2039     No\n",
       "2040     No\n",
       "2041    Yes\n",
       "2042     No\n",
       "Name: Churn, Length: 5034, dtype: object"
      ]
     },
     "execution_count": 55,
     "metadata": {},
     "output_type": "execute_result"
    }
   ],
   "source": [
    "y = df_concat['Churn']\n",
    "\n",
    "y"
   ]
  },
  {
   "cell_type": "markdown",
   "metadata": {},
   "source": [
    "**Slitting Data into training and evaluation**"
   ]
  },
  {
   "cell_type": "code",
   "execution_count": 56,
   "metadata": {},
   "outputs": [
    {
     "name": "stdout",
     "output_type": "stream",
     "text": [
      "Churn\n",
      "No     3698\n",
      "Yes    1336\n",
      "Name: count, dtype: int64\n"
     ]
    }
   ],
   "source": [
    "# import pandas as pd\n",
    "class_distribution = pd.Series(y).value_counts()\n",
    "print(class_distribution)\n"
   ]
  },
  {
   "cell_type": "code",
   "execution_count": 57,
   "metadata": {},
   "outputs": [],
   "source": [
    "# using train test split to split the data with test size of 0.2\n",
    "\n",
    "X_train, X_test, y_train, y_test = train_test_split(X, y, test_size=0.2, random_state=42, stratify=y)\n"
   ]
  },
  {
   "cell_type": "code",
   "execution_count": 58,
   "metadata": {},
   "outputs": [
    {
     "data": {
      "text/html": [
       "<div>\n",
       "<style scoped>\n",
       "    .dataframe tbody tr th:only-of-type {\n",
       "        vertical-align: middle;\n",
       "    }\n",
       "\n",
       "    .dataframe tbody tr th {\n",
       "        vertical-align: top;\n",
       "    }\n",
       "\n",
       "    .dataframe thead th {\n",
       "        text-align: right;\n",
       "    }\n",
       "</style>\n",
       "<table border=\"1\" class=\"dataframe\">\n",
       "  <thead>\n",
       "    <tr style=\"text-align: right;\">\n",
       "      <th></th>\n",
       "      <th>gender</th>\n",
       "      <th>SeniorCitizen</th>\n",
       "      <th>Partner</th>\n",
       "      <th>Dependents</th>\n",
       "      <th>tenure</th>\n",
       "      <th>PhoneService</th>\n",
       "      <th>MultipleLines</th>\n",
       "      <th>InternetService</th>\n",
       "      <th>OnlineSecurity</th>\n",
       "      <th>OnlineBackup</th>\n",
       "      <th>DeviceProtection</th>\n",
       "      <th>TechSupport</th>\n",
       "      <th>StreamingTV</th>\n",
       "      <th>StreamingMovies</th>\n",
       "      <th>Contract</th>\n",
       "      <th>PaperlessBilling</th>\n",
       "      <th>PaymentMethod</th>\n",
       "      <th>MonthlyCharges</th>\n",
       "      <th>TotalCharges</th>\n",
       "    </tr>\n",
       "  </thead>\n",
       "  <tbody>\n",
       "    <tr>\n",
       "      <th>581</th>\n",
       "      <td>Male</td>\n",
       "      <td>No</td>\n",
       "      <td>Yes</td>\n",
       "      <td>Yes</td>\n",
       "      <td>68</td>\n",
       "      <td>Yes</td>\n",
       "      <td>Yes</td>\n",
       "      <td>Fiber optic</td>\n",
       "      <td>Yes</td>\n",
       "      <td>Yes</td>\n",
       "      <td>Yes</td>\n",
       "      <td>Yes</td>\n",
       "      <td>Yes</td>\n",
       "      <td>Yes</td>\n",
       "      <td>Two year</td>\n",
       "      <td>Yes</td>\n",
       "      <td>Electronic check</td>\n",
       "      <td>113.150000</td>\n",
       "      <td>7856.000000</td>\n",
       "    </tr>\n",
       "    <tr>\n",
       "      <th>1819</th>\n",
       "      <td>Female</td>\n",
       "      <td>No</td>\n",
       "      <td>Yes</td>\n",
       "      <td>Yes</td>\n",
       "      <td>61</td>\n",
       "      <td>No</td>\n",
       "      <td>No phone service</td>\n",
       "      <td>DSL</td>\n",
       "      <td>No</td>\n",
       "      <td>Yes</td>\n",
       "      <td>Yes</td>\n",
       "      <td>Yes</td>\n",
       "      <td>Yes</td>\n",
       "      <td>No</td>\n",
       "      <td>Two year</td>\n",
       "      <td>No</td>\n",
       "      <td>Credit card (automatic)</td>\n",
       "      <td>51.349998</td>\n",
       "      <td>3244.399902</td>\n",
       "    </tr>\n",
       "  </tbody>\n",
       "</table>\n",
       "</div>"
      ],
      "text/plain": [
       "      gender SeniorCitizen Partner Dependents  tenure PhoneService  \\\n",
       "581     Male            No     Yes        Yes      68          Yes   \n",
       "1819  Female            No     Yes        Yes      61           No   \n",
       "\n",
       "         MultipleLines InternetService OnlineSecurity OnlineBackup  \\\n",
       "581                Yes     Fiber optic            Yes          Yes   \n",
       "1819  No phone service             DSL             No          Yes   \n",
       "\n",
       "     DeviceProtection TechSupport StreamingTV StreamingMovies  Contract  \\\n",
       "581               Yes         Yes         Yes             Yes  Two year   \n",
       "1819              Yes         Yes         Yes              No  Two year   \n",
       "\n",
       "     PaperlessBilling            PaymentMethod  MonthlyCharges  TotalCharges  \n",
       "581               Yes         Electronic check      113.150000   7856.000000  \n",
       "1819               No  Credit card (automatic)       51.349998   3244.399902  "
      ]
     },
     "execution_count": 58,
     "metadata": {},
     "output_type": "execute_result"
    }
   ],
   "source": [
    "X_train.head(2)"
   ]
  },
  {
   "cell_type": "markdown",
   "metadata": {},
   "source": [
    "**Feature Engineering**"
   ]
  },
  {
   "cell_type": "code",
   "execution_count": 59,
   "metadata": {},
   "outputs": [
    {
     "data": {
      "text/plain": [
       "Index(['tenure', 'MonthlyCharges', 'TotalCharges'], dtype='object')"
      ]
     },
     "execution_count": 59,
     "metadata": {},
     "output_type": "execute_result"
    }
   ],
   "source": [
    "numeric_columns = X.select_dtypes(include='number').columns\n",
    "numeric_columns\n"
   ]
  },
  {
   "cell_type": "code",
   "execution_count": 60,
   "metadata": {},
   "outputs": [
    {
     "data": {
      "text/plain": [
       "Index(['gender', 'SeniorCitizen', 'Partner', 'Dependents', 'PhoneService',\n",
       "       'MultipleLines', 'InternetService', 'OnlineSecurity', 'OnlineBackup',\n",
       "       'DeviceProtection', 'TechSupport', 'StreamingTV', 'StreamingMovies',\n",
       "       'Contract', 'PaperlessBilling', 'PaymentMethod'],\n",
       "      dtype='object')"
      ]
     },
     "execution_count": 60,
     "metadata": {},
     "output_type": "execute_result"
    }
   ],
   "source": [
    "categorical_columns = X.select_dtypes(include='object').columns\n",
    "categorical_columns"
   ]
  },
  {
   "cell_type": "markdown",
   "metadata": {},
   "source": [
    "## **Data Encoding** ##\n",
    "\n",
    "**Normalization & Scaling**\n",
    "\n",
    "**Creating Data Processing Pipeline**"
   ]
  },
  {
   "cell_type": "code",
   "execution_count": 61,
   "metadata": {},
   "outputs": [],
   "source": [
    "# creating a pipeline\n",
    "\n",
    "numeric_pipeline = Pipeline(steps=[\n",
    "    ('num_imputer',SimpleImputer(strategy='mean')),\n",
    "    ('scaler ',RobustScaler()),\n",
    "])\n",
    " \n",
    "categorical_pipeline = Pipeline(steps=[\n",
    "    ('cat_imputer',SimpleImputer(strategy='most_frequent')),\n",
    "    ('encoder',OneHotEncoder()),\n",
    "])\n",
    " \n",
    "Preprocessor =ColumnTransformer([\n",
    "    ('numerical_transformations',numeric_pipeline,numeric_columns),\n",
    "    ('cat_transformations',categorical_pipeline,categorical_columns)\n",
    " \n",
    "])"
   ]
  },
  {
   "cell_type": "markdown",
   "metadata": {},
   "source": [
    "**Label & Target Encoding**"
   ]
  },
  {
   "cell_type": "code",
   "execution_count": 62,
   "metadata": {},
   "outputs": [],
   "source": [
    "LabelEncoder = LabelEncoder()\n",
    "y_train_encoded = LabelEncoder.fit_transform(y_train)\n",
    "y_test_encoded = LabelEncoder.transform(y_test)"
   ]
  },
  {
   "cell_type": "markdown",
   "metadata": {},
   "source": [
    "## **Modeling** ##\n",
    "\n",
    "**Machine Learning Models Training and creating Pipelines**\n",
    "\n",
    "\n",
    "*Decision Tree Lassifier*\n",
    "\n",
    "*Random Forest Model*\n",
    "\n",
    "*Support Vector Machine Model*\n",
    "\n",
    "*Naives Bayes Classifier*\n",
    "\n",
    "*Gradient Boosting Classifier*"
   ]
  },
  {
   "cell_type": "markdown",
   "metadata": {},
   "source": [
    "**Machine Learning Pipeline (Unbalanced Data)**\n",
    "\n",
    "*Initializing the machine learning models, each identified by a name and associated with an instance of a scikit-learn classifier for training.*"
   ]
  },
  {
   "cell_type": "code",
   "execution_count": 63,
   "metadata": {},
   "outputs": [],
   "source": [
    "models = [\n",
    "    ('decision_tree_classifier',DecisionTreeClassifier(random_state=42)),\n",
    "    ('svc_classifier',SVC(random_state=42, probability=True)),\n",
    "    ('random_forest_classifier',RandomForestClassifier(random_state=42)),\n",
    "    ('naive_bayes_classifier',GaussianNB()),\n",
    "    ('gradient_boost_classifier',GradientBoostingClassifier()),\n",
    "\n",
    "]"
   ]
  },
  {
   "cell_type": "markdown",
   "metadata": {},
   "source": [
    "**Creating a ML Pipeline for the Data Models**"
   ]
  },
  {
   "cell_type": "code",
   "execution_count": 64,
   "metadata": {},
   "outputs": [],
   "source": [
    "# creating machine learning pipelines\n",
    "\n",
    "# decision tree pipeline\n",
    "decision_tree= Pipeline([\n",
    "    ('preprocessor',Preprocessor ),\n",
    "    ('classifier', DecisionTreeClassifier(random_state=42))\n",
    "])\n",
    "\n",
    "# Random Forest Pipeline\n",
    "random_forest = Pipeline([\n",
    "    ('preprocessor', Preprocessor),\n",
    "    ('classifier', RandomForestClassifier(random_state=42))\n",
    "])\n",
    "\n",
    "\n",
    "# KNN model\n",
    "support_vector_machine = Pipeline([\n",
    "    ('preprocessor', Preprocessor),\n",
    "    ('classifier', SVC(kernel='rbf', C=1.0, gamma='scale', random_state=42))\n",
    "])\n",
    "\n",
    "\n",
    "# Gradient Descent model (Gradient Boosting)\n",
    "gradient_boost_model = Pipeline([\n",
    "    ('preprocessor', Preprocessor),\n",
    "    ('classifier', GradientBoostingClassifier())\n",
    "])\n",
    "naives_bayes_model = Pipeline([\n",
    "    ('preprocessor',Preprocessor),\n",
    "    ('classifier',GaussianNB())\n",
    "])"
   ]
  },
  {
   "cell_type": "markdown",
   "metadata": {},
   "source": [
    "**Evaluating the machine learning models, applying common preprocessing step, and recording the performance metrics for each model in a DataFrame on unbalanced data.**"
   ]
  },
  {
   "cell_type": "code",
   "execution_count": 65,
   "metadata": {},
   "outputs": [
    {
     "data": {
      "text/html": [
       "<div>\n",
       "<style scoped>\n",
       "    .dataframe tbody tr th:only-of-type {\n",
       "        vertical-align: middle;\n",
       "    }\n",
       "\n",
       "    .dataframe tbody tr th {\n",
       "        vertical-align: top;\n",
       "    }\n",
       "\n",
       "    .dataframe thead th {\n",
       "        text-align: right;\n",
       "    }\n",
       "</style>\n",
       "<table border=\"1\" class=\"dataframe\">\n",
       "  <thead>\n",
       "    <tr style=\"text-align: right;\">\n",
       "      <th></th>\n",
       "      <th>Model_name</th>\n",
       "      <th>Acuracy</th>\n",
       "      <th>Precision</th>\n",
       "      <th>Recall</th>\n",
       "      <th>F1_score</th>\n",
       "    </tr>\n",
       "  </thead>\n",
       "  <tbody>\n",
       "    <tr>\n",
       "      <th>0</th>\n",
       "      <td>decision_tree_classifier</td>\n",
       "      <td>0.728898</td>\n",
       "      <td>0.731188</td>\n",
       "      <td>0.728898</td>\n",
       "      <td>0.730007</td>\n",
       "    </tr>\n",
       "    <tr>\n",
       "      <th>1</th>\n",
       "      <td>svc_classifier</td>\n",
       "      <td>0.806356</td>\n",
       "      <td>0.797585</td>\n",
       "      <td>0.806356</td>\n",
       "      <td>0.799676</td>\n",
       "    </tr>\n",
       "    <tr>\n",
       "      <th>2</th>\n",
       "      <td>random_forest_classifier</td>\n",
       "      <td>0.795432</td>\n",
       "      <td>0.784566</td>\n",
       "      <td>0.795432</td>\n",
       "      <td>0.786826</td>\n",
       "    </tr>\n",
       "    <tr>\n",
       "      <th>3</th>\n",
       "      <td>naive_bayes_classifier</td>\n",
       "      <td>0.647468</td>\n",
       "      <td>0.800159</td>\n",
       "      <td>0.647468</td>\n",
       "      <td>0.666111</td>\n",
       "    </tr>\n",
       "    <tr>\n",
       "      <th>4</th>\n",
       "      <td>gradient_boost_classifier</td>\n",
       "      <td>0.811321</td>\n",
       "      <td>0.803296</td>\n",
       "      <td>0.811321</td>\n",
       "      <td>0.805272</td>\n",
       "    </tr>\n",
       "  </tbody>\n",
       "</table>\n",
       "</div>"
      ],
      "text/plain": [
       "                  Model_name   Acuracy  Precision    Recall  F1_score\n",
       "0   decision_tree_classifier  0.728898   0.731188  0.728898  0.730007\n",
       "1             svc_classifier  0.806356   0.797585  0.806356  0.799676\n",
       "2   random_forest_classifier  0.795432   0.784566  0.795432  0.786826\n",
       "3     naive_bayes_classifier  0.647468   0.800159  0.647468  0.666111\n",
       "4  gradient_boost_classifier  0.811321   0.803296  0.811321  0.805272"
      ]
     },
     "execution_count": 65,
     "metadata": {},
     "output_type": "execute_result"
    }
   ],
   "source": [
    "from sklearn.compose import ColumnTransformer\n",
    "\n",
    "# Assuming Preprocessor is your preprocessing step\n",
    "preprocessor = Preprocessor\n",
    "\n",
    "# Define a column transformer that applies preprocessing only to DataFrame columns\n",
    "preprocessor = ColumnTransformer(\n",
    "    transformers=[\n",
    "        ('preprocessor', preprocessor, list(X_train.columns))\n",
    "    ],\n",
    "    remainder='passthrough'\n",
    ")\n",
    "\n",
    "Unbalance_metrics = pd.DataFrame(columns=[\"Model_name\", \"Acuracy\", \"Precision\", \"Recall\", \"F1_score\"])\n",
    "\n",
    "for model_name, classifier in models:\n",
    "    pipeline = Pipeline(steps=[\n",
    "        ('preprocessor', preprocessor),\n",
    "        ('classifier', classifier),\n",
    "    ])\n",
    "\n",
    "    pipeline.fit(X_train, y_train_encoded)\n",
    "\n",
    "    y_pred = pipeline.predict(X_test)\n",
    "\n",
    "    metrics = classification_report(y_test_encoded, y_pred, output_dict=True)\n",
    "\n",
    "    accuracy = metrics['accuracy']\n",
    "    precision = metrics['weighted avg']['precision']\n",
    "    recall = metrics['weighted avg']['recall']\n",
    "    F1_score = metrics['weighted avg']['f1-score']\n",
    "\n",
    "    Unbalance_metrics.loc[len(Unbalance_metrics)] = [model_name, accuracy, precision, recall, F1_score]\n",
    "\n",
    "Unbalance_metrics\n"
   ]
  },
  {
   "cell_type": "code",
   "execution_count": 66,
   "metadata": {},
   "outputs": [
    {
     "data": {
      "text/plain": [
       "Churn\n",
       "No     2958\n",
       "Yes    1069\n",
       "Name: count, dtype: int64"
      ]
     },
     "execution_count": 66,
     "metadata": {},
     "output_type": "execute_result"
    }
   ],
   "source": [
    "y_train.value_counts()"
   ]
  },
  {
   "cell_type": "markdown",
   "metadata": {},
   "source": [
    "## **Evaluation** ##\n",
    "\n",
    "**Using Oversampling to Train and compare Balance the Dataset**"
   ]
  },
  {
   "cell_type": "code",
   "execution_count": 67,
   "metadata": {},
   "outputs": [],
   "source": [
    "# using over sampling method on the dataset to balance your dataset\n",
    "sampler = RandomOverSampler(random_state=42)\n",
    "X_train_resampled,y_train_resampled = sampler.fit_resample(X_train,y_train_encoded)"
   ]
  },
  {
   "cell_type": "markdown",
   "metadata": {},
   "source": [
    "**Training and comparing Balanced Dataset**\n",
    "\n",
    "*Automating the training and evaluation of the machine learning models, making it easy to compare their performance. The pipeline ensures consistent preprocessing steps for each model, and the classification report helps assess their effectiveness.*"
   ]
  },
  {
   "cell_type": "code",
   "execution_count": 68,
   "metadata": {},
   "outputs": [
    {
     "data": {
      "text/html": [
       "<div>\n",
       "<style scoped>\n",
       "    .dataframe tbody tr th:only-of-type {\n",
       "        vertical-align: middle;\n",
       "    }\n",
       "\n",
       "    .dataframe tbody tr th {\n",
       "        vertical-align: top;\n",
       "    }\n",
       "\n",
       "    .dataframe thead th {\n",
       "        text-align: right;\n",
       "    }\n",
       "</style>\n",
       "<table border=\"1\" class=\"dataframe\">\n",
       "  <thead>\n",
       "    <tr style=\"text-align: right;\">\n",
       "      <th></th>\n",
       "      <th>Model_name</th>\n",
       "      <th>Accuracy</th>\n",
       "      <th>Precision</th>\n",
       "      <th>Recall</th>\n",
       "      <th>F1_score</th>\n",
       "    </tr>\n",
       "  </thead>\n",
       "  <tbody>\n",
       "    <tr>\n",
       "      <th>0</th>\n",
       "      <td>decision_tree_classifier</td>\n",
       "      <td>0.734856</td>\n",
       "      <td>0.734856</td>\n",
       "      <td>0.739056</td>\n",
       "      <td>0.736832</td>\n",
       "    </tr>\n",
       "    <tr>\n",
       "      <th>1</th>\n",
       "      <td>svc_classifier</td>\n",
       "      <td>0.743793</td>\n",
       "      <td>0.743793</td>\n",
       "      <td>0.797133</td>\n",
       "      <td>0.756927</td>\n",
       "    </tr>\n",
       "    <tr>\n",
       "      <th>2</th>\n",
       "      <td>random_forest_classifier</td>\n",
       "      <td>0.781529</td>\n",
       "      <td>0.781529</td>\n",
       "      <td>0.780496</td>\n",
       "      <td>0.780999</td>\n",
       "    </tr>\n",
       "    <tr>\n",
       "      <th>3</th>\n",
       "      <td>naive_bayes_classifier</td>\n",
       "      <td>0.637537</td>\n",
       "      <td>0.637537</td>\n",
       "      <td>0.798701</td>\n",
       "      <td>0.656024</td>\n",
       "    </tr>\n",
       "    <tr>\n",
       "      <th>4</th>\n",
       "      <td>gradient_boost_classifier</td>\n",
       "      <td>0.750745</td>\n",
       "      <td>0.750745</td>\n",
       "      <td>0.808112</td>\n",
       "      <td>0.763903</td>\n",
       "    </tr>\n",
       "  </tbody>\n",
       "</table>\n",
       "</div>"
      ],
      "text/plain": [
       "                  Model_name  Accuracy  Precision    Recall  F1_score\n",
       "0   decision_tree_classifier  0.734856   0.734856  0.739056  0.736832\n",
       "1             svc_classifier  0.743793   0.743793  0.797133  0.756927\n",
       "2   random_forest_classifier  0.781529   0.781529  0.780496  0.780999\n",
       "3     naive_bayes_classifier  0.637537   0.637537  0.798701  0.656024\n",
       "4  gradient_boost_classifier  0.750745   0.750745  0.808112  0.763903"
      ]
     },
     "execution_count": 68,
     "metadata": {},
     "output_type": "execute_result"
    }
   ],
   "source": [
    "# using over sampling method on the dataset to balance your dataset\n",
    "sampler = RandomOverSampler(random_state=42)\n",
    "X_train_resampled,y_train_resampled = sampler.fit_resample(X_train,y_train_encoded)\n",
    " \n",
    "balanced_metrics = pd.DataFrame(columns=['Model_name','Accuracy','Precision','Recall','F1_score'])\n",
    "# looping over the models\n",
    "for model_name,classifier in models:\n",
    "    pipeline=Pipeline(steps=[\n",
    "        ('preprocessor',preprocessor),\n",
    "        ('classifier',classifier),\n",
    "    ])\n",
    " \n",
    "    pipeline.fit(X_train_resampled,y_train_resampled)\n",
    "    \n",
    "    # predicting on the testing dataset\n",
    "    oversampler_y_pred = pipeline.predict(X_test)\n",
    "    \n",
    "    balanced_result = classification_report(y_test_encoded,oversampler_y_pred ,output_dict=True)\n",
    "   \n",
    "    accuracy = balanced_result['accuracy']\n",
    "    precision = balanced_result['weighted avg']['precision']\n",
    "    recall = balanced_result['weighted avg']['recall']\n",
    "    f1_score = balanced_result['weighted avg']['f1-score']\n",
    "    balanced_metrics.loc[len(balanced_metrics)]=[model_name,accuracy,recall,precision,f1_score]\n",
    " \n",
    "balanced_metrics"
   ]
  },
  {
   "cell_type": "markdown",
   "metadata": {},
   "source": [
    "**Train and Balance Dataset on SMOTE**"
   ]
  },
  {
   "cell_type": "code",
   "execution_count": 69,
   "metadata": {},
   "outputs": [
    {
     "data": {
      "text/html": [
       "<div>\n",
       "<style scoped>\n",
       "    .dataframe tbody tr th:only-of-type {\n",
       "        vertical-align: middle;\n",
       "    }\n",
       "\n",
       "    .dataframe tbody tr th {\n",
       "        vertical-align: top;\n",
       "    }\n",
       "\n",
       "    .dataframe thead th {\n",
       "        text-align: right;\n",
       "    }\n",
       "</style>\n",
       "<table border=\"1\" class=\"dataframe\">\n",
       "  <thead>\n",
       "    <tr style=\"text-align: right;\">\n",
       "      <th></th>\n",
       "      <th>Model_name</th>\n",
       "      <th>Accuracy</th>\n",
       "      <th>Precision</th>\n",
       "      <th>Recall</th>\n",
       "      <th>F1_score</th>\n",
       "    </tr>\n",
       "  </thead>\n",
       "  <tbody>\n",
       "    <tr>\n",
       "      <th>0</th>\n",
       "      <td>decision_tree_classifier</td>\n",
       "      <td>0.731877</td>\n",
       "      <td>0.731877</td>\n",
       "      <td>0.749022</td>\n",
       "      <td>0.738667</td>\n",
       "    </tr>\n",
       "    <tr>\n",
       "      <th>1</th>\n",
       "      <td>svc_classifier</td>\n",
       "      <td>0.775571</td>\n",
       "      <td>0.775571</td>\n",
       "      <td>0.803379</td>\n",
       "      <td>0.784071</td>\n",
       "    </tr>\n",
       "    <tr>\n",
       "      <th>2</th>\n",
       "      <td>random_forest_classifier</td>\n",
       "      <td>0.786495</td>\n",
       "      <td>0.786495</td>\n",
       "      <td>0.783316</td>\n",
       "      <td>0.784760</td>\n",
       "    </tr>\n",
       "    <tr>\n",
       "      <th>3</th>\n",
       "      <td>naive_bayes_classifier</td>\n",
       "      <td>0.658391</td>\n",
       "      <td>0.658391</td>\n",
       "      <td>0.802028</td>\n",
       "      <td>0.677052</td>\n",
       "    </tr>\n",
       "    <tr>\n",
       "      <th>4</th>\n",
       "      <td>gradient_boost_classifier</td>\n",
       "      <td>0.797418</td>\n",
       "      <td>0.797418</td>\n",
       "      <td>0.806701</td>\n",
       "      <td>0.801100</td>\n",
       "    </tr>\n",
       "  </tbody>\n",
       "</table>\n",
       "</div>"
      ],
      "text/plain": [
       "                  Model_name  Accuracy  Precision    Recall  F1_score\n",
       "0   decision_tree_classifier  0.731877   0.731877  0.749022  0.738667\n",
       "1             svc_classifier  0.775571   0.775571  0.803379  0.784071\n",
       "2   random_forest_classifier  0.786495   0.786495  0.783316  0.784760\n",
       "3     naive_bayes_classifier  0.658391   0.658391  0.802028  0.677052\n",
       "4  gradient_boost_classifier  0.797418   0.797418  0.806701  0.801100"
      ]
     },
     "execution_count": 69,
     "metadata": {},
     "output_type": "execute_result"
    }
   ],
   "source": [
    "all_pipeline ={}\n",
    "smote_df = pd.DataFrame(columns=['Model_name','Accuracy','Precision','Recall','F1_score'])\n",
    "for model_name,classifier in models:\n",
    "    pipeline=imbpipeline(steps=[\n",
    "        ('preprocessor',Preprocessor),\n",
    "        ('smote',SMOTE(random_state=42)),\n",
    "        ('classifier',classifier),\n",
    "    ])\n",
    " \n",
    "    pipeline.fit(X_train,y_train_encoded)\n",
    "    \n",
    "    # predicting on the testing dataset\n",
    "    smote_y_pred = pipeline.predict(X_test)\n",
    "    all_pipeline[model_name] = pipeline\n",
    "    smote_dict = classification_report(y_test_encoded,smote_y_pred,output_dict=True)\n",
    "   \n",
    "    accuracy = smote_dict['accuracy']\n",
    "    precision = smote_dict['weighted avg']['precision']\n",
    "    recall = smote_dict['weighted avg']['recall']\n",
    "    f1_score = smote_dict['weighted avg']['f1-score']\n",
    "    smote_df.loc[len(smote_df)]=[model_name,accuracy,recall,precision,f1_score]\n",
    " \n",
    "smote_df"
   ]
  },
  {
   "cell_type": "markdown",
   "metadata": {},
   "source": [
    "**Train Data on Feature Importance and Selection**\n",
    "\n",
    "*Selecting the 7 most informative features from the dataset using mutual information in order to retain the features that provide the most relevant information for the task*"
   ]
  },
  {
   "cell_type": "code",
   "execution_count": 70,
   "metadata": {},
   "outputs": [
    {
     "data": {
      "text/html": [
       "<div>\n",
       "<style scoped>\n",
       "    .dataframe tbody tr th:only-of-type {\n",
       "        vertical-align: middle;\n",
       "    }\n",
       "\n",
       "    .dataframe tbody tr th {\n",
       "        vertical-align: top;\n",
       "    }\n",
       "\n",
       "    .dataframe thead th {\n",
       "        text-align: right;\n",
       "    }\n",
       "</style>\n",
       "<table border=\"1\" class=\"dataframe\">\n",
       "  <thead>\n",
       "    <tr style=\"text-align: right;\">\n",
       "      <th></th>\n",
       "      <th>Model_name</th>\n",
       "      <th>Accuracy</th>\n",
       "      <th>Precision</th>\n",
       "      <th>Recall</th>\n",
       "      <th>F1_score</th>\n",
       "    </tr>\n",
       "  </thead>\n",
       "  <tbody>\n",
       "    <tr>\n",
       "      <th>0</th>\n",
       "      <td>decision_tree_classifier</td>\n",
       "      <td>0.738828</td>\n",
       "      <td>0.738828</td>\n",
       "      <td>0.751052</td>\n",
       "      <td>0.743942</td>\n",
       "    </tr>\n",
       "    <tr>\n",
       "      <th>1</th>\n",
       "      <td>svc_classifier</td>\n",
       "      <td>0.758689</td>\n",
       "      <td>0.758689</td>\n",
       "      <td>0.796993</td>\n",
       "      <td>0.769427</td>\n",
       "    </tr>\n",
       "    <tr>\n",
       "      <th>2</th>\n",
       "      <td>random_forest_classifier</td>\n",
       "      <td>0.776564</td>\n",
       "      <td>0.776564</td>\n",
       "      <td>0.776297</td>\n",
       "      <td>0.776430</td>\n",
       "    </tr>\n",
       "    <tr>\n",
       "      <th>3</th>\n",
       "      <td>naive_bayes_classifier</td>\n",
       "      <td>0.734856</td>\n",
       "      <td>0.734856</td>\n",
       "      <td>0.809792</td>\n",
       "      <td>0.749898</td>\n",
       "    </tr>\n",
       "    <tr>\n",
       "      <th>4</th>\n",
       "      <td>gradient_boost_classifier</td>\n",
       "      <td>0.786495</td>\n",
       "      <td>0.786495</td>\n",
       "      <td>0.809481</td>\n",
       "      <td>0.793794</td>\n",
       "    </tr>\n",
       "  </tbody>\n",
       "</table>\n",
       "</div>"
      ],
      "text/plain": [
       "                  Model_name  Accuracy  Precision    Recall  F1_score\n",
       "0   decision_tree_classifier  0.738828   0.738828  0.751052  0.743942\n",
       "1             svc_classifier  0.758689   0.758689  0.796993  0.769427\n",
       "2   random_forest_classifier  0.776564   0.776564  0.776297  0.776430\n",
       "3     naive_bayes_classifier  0.734856   0.734856  0.809792  0.749898\n",
       "4  gradient_boost_classifier  0.786495   0.786495  0.809481  0.793794"
      ]
     },
     "execution_count": 70,
     "metadata": {},
     "output_type": "execute_result"
    }
   ],
   "source": [
    "# using kbest to select the best features\n",
    "selection = SelectKBest(mutual_info_classif,k=10)\n",
    " \n",
    "fi_smote_df = pd.DataFrame(columns=['Model_name','Accuracy','Precision','Recall','F1_score'])\n",
    " \n",
    "all_pipeline ={}\n",
    "for model_name,classifier in models:\n",
    "    pipeline=imbpipeline(steps=[\n",
    "        ('preprocessor',Preprocessor),\n",
    "        ('smote',SMOTE(random_state=42)),\n",
    "        ('feature_selection',selection),\n",
    "        ('classifier',classifier),\n",
    "        \n",
    "    ])\n",
    " \n",
    "    pipeline.fit(X_train,y_train_encoded)\n",
    " \n",
    "    fi_y_pred = pipeline.predict(X_test)\n",
    " \n",
    "    all_pipeline[model_name] = pipeline\n",
    "    \n",
    "    fi_smote_dict = classification_report(y_test_encoded,fi_y_pred,output_dict=True)\n",
    "   \n",
    "    accuracy = fi_smote_dict['accuracy']\n",
    "    precision = fi_smote_dict['weighted avg']['precision']\n",
    "    recall = fi_smote_dict['weighted avg']['recall']\n",
    "    f1_score = fi_smote_dict['weighted avg']['f1-score']\n",
    "    fi_smote_df.loc[len(fi_smote_df)]=[model_name,accuracy,recall,precision,f1_score]\n",
    " \n",
    "fi_smote_df"
   ]
  },
  {
   "cell_type": "markdown",
   "metadata": {},
   "source": [
    "**Visualize ROC Curve**"
   ]
  },
  {
   "cell_type": "code",
   "execution_count": 71,
   "metadata": {},
   "outputs": [
    {
     "data": {
      "image/png": "[encoded data removed]",
      "text/plain": [
       "<Figure size 800x800 with 1 Axes>"
      ]
     },
     "metadata": {},
     "output_type": "display_data"
    }
   ],
   "source": [
    "# Plot ROC curve\n",
    "fig,ax = plt.subplots(figsize=(8,8))\n",
    "roc_auc_curve_data = {}\n",
    "for model_name,classifier in models:\n",
    "    pipeline=imbpipeline(steps=[\n",
    "        ('preprocessor',Preprocessor),\n",
    "        ('smote',SMOTE(random_state=42)),\n",
    "        ('feature_selection',selection),\n",
    "        ('classifier',classifier),\n",
    "        \n",
    "    ])\n",
    "    pipeline.fit(X_train,y_train_encoded)\n",
    " \n",
    "    y_score = pipeline.predict_proba(X_test)[:,1]\n",
    "    fpr,tpr,threshold= roc_curve(y_test_encoded,y_score)\n",
    "    roc_auc = auc(fpr,tpr)\n",
    " \n",
    "    roc_auc_curve_df = pd.DataFrame({'false positive rate':fpr,'True positive rate':tpr,'Threshold':threshold})\n",
    "    roc_auc_curve_data[model_name] = roc_auc_curve_df\n",
    " \n",
    "    ax.plot(fpr,tpr,label =f'{model_name}(AUC={roc_auc:.2f})')\n",
    "    ax.plot([0, 1], [0, 1], color='navy', linestyle='--')\n",
    "plt.xlabel('False Positive Rate')\n",
    "plt.ylabel('True Positive Rate')\n",
    "plt.title('Receiver Operating Characteristics ROC Curve')\n",
    "plt.legend(loc=\"lower right\")\n",
    "plt.show()"
   ]
  },
  {
   "cell_type": "markdown",
   "metadata": {},
   "source": [
    "**From the curve we can see that gradient boosting classifier covered the most area with an auc of 0.85, it is the best performing model so far**"
   ]
  },
  {
   "cell_type": "markdown",
   "metadata": {},
   "source": [
    "**Confusion matrix"
   ]
  },
  {
   "cell_type": "code",
   "execution_count": 72,
   "metadata": {},
   "outputs": [
    {
     "data": {
      "text/plain": [
       "array([[597, 143],\n",
       "       [ 72, 195]], dtype=int64)"
      ]
     },
     "execution_count": 72,
     "metadata": {},
     "output_type": "execute_result"
    }
   ],
   "source": [
    "gradient_pipeline = all_pipeline['gradient_boost_classifier']\n",
    "#('gradient_boost_classifier',GradientBoostingClassifier()),\n",
    " \n",
    "grad_y_pred =gradient_pipeline.predict(X_test)\n",
    "matrix = confusion_matrix(y_test_encoded, grad_y_pred)\n",
    "matrix\n"
   ]
  },
  {
   "cell_type": "code",
   "execution_count": 73,
   "metadata": {},
   "outputs": [
    {
     "data": {
      "text/plain": [
       "<Axes: >"
      ]
     },
     "execution_count": 73,
     "metadata": {},
     "output_type": "execute_result"
    },
    {
     "data": {
      "image/png": "[encoded data removed]",
      "text/plain": [
       "<Figure size 640x480 with 2 Axes>"
      ]
     },
     "metadata": {},
     "output_type": "display_data"
    }
   ],
   "source": [
    "sns.heatmap(data=matrix,annot=True,fmt='d',cmap='coolwarm')"
   ]
  },
  {
   "cell_type": "markdown",
   "metadata": {},
   "source": [
    "**Setting threshold**"
   ]
  },
  {
   "cell_type": "code",
   "execution_count": 74,
   "metadata": {},
   "outputs": [
    {
     "data": {
      "text/plain": [
       "{'decision_tree_classifier':    false positive rate  True positive rate  Threshold\n",
       " 0             0.000000            0.000000        inf\n",
       " 1             0.204054            0.584270   1.000000\n",
       " 2             0.205405            0.584270   0.666667\n",
       " 3             0.208108            0.591760   0.500000\n",
       " 4             0.209459            0.595506   0.200000\n",
       " 5             1.000000            1.000000   0.000000,\n",
       " 'svc_classifier':      false positive rate  True positive rate  Threshold\n",
       " 0               0.000000            0.000000        inf\n",
       " 1               0.000000            0.003745   0.883344\n",
       " 2               0.000000            0.018727   0.876420\n",
       " 3               0.001351            0.018727   0.874222\n",
       " 4               0.001351            0.029963   0.868646\n",
       " ..                   ...                 ...        ...\n",
       " 282             0.952703            0.992509   0.082535\n",
       " 283             0.952703            0.996255   0.081619\n",
       " 284             0.997297            0.996255   0.049623\n",
       " 285             0.997297            1.000000   0.046743\n",
       " 286             1.000000            1.000000   0.037246\n",
       " \n",
       " [287 rows x 3 columns],\n",
       " 'random_forest_classifier':      false positive rate  True positive rate  Threshold\n",
       " 0               0.000000            0.000000        inf\n",
       " 1               0.005405            0.082397   1.000000\n",
       " 2               0.005405            0.086142   0.996667\n",
       " 3               0.008108            0.123596   0.990000\n",
       " 4               0.012162            0.146067   0.980000\n",
       " ..                   ...                 ...        ...\n",
       " 120             0.651351            0.973783   0.030000\n",
       " 121             0.651351            0.977528   0.021667\n",
       " 122             0.697297            0.981273   0.020000\n",
       " 123             0.774324            0.985019   0.010000\n",
       " 124             1.000000            1.000000   0.000000\n",
       " \n",
       " [125 rows x 3 columns],\n",
       " 'naive_bayes_classifier':      false positive rate  True positive rate     Threshold\n",
       " 0               0.000000            0.000000           inf\n",
       " 1               0.000000            0.003745  9.998313e-01\n",
       " 2               0.000000            0.063670  9.998061e-01\n",
       " 3               0.001351            0.063670  9.998055e-01\n",
       " 4               0.001351            0.071161  9.998037e-01\n",
       " ..                   ...                 ...           ...\n",
       " 284             0.837838            1.000000  1.855153e-13\n",
       " 285             0.840541            1.000000  1.782586e-13\n",
       " 286             0.877027            1.000000  9.722997e-14\n",
       " 287             0.879730            1.000000  9.623680e-14\n",
       " 288             1.000000            1.000000  4.692295e-15\n",
       " \n",
       " [289 rows x 3 columns],\n",
       " 'gradient_boost_classifier':      false positive rate  True positive rate  Threshold\n",
       " 0               0.000000            0.000000        inf\n",
       " 1               0.000000            0.003745   0.925137\n",
       " 2               0.000000            0.014981   0.916430\n",
       " 3               0.000000            0.029963   0.911822\n",
       " 4               0.000000            0.037453   0.911046\n",
       " ..                   ...                 ...        ...\n",
       " 355             0.979730            1.000000   0.014815\n",
       " 356             0.986486            1.000000   0.014110\n",
       " 357             0.993243            1.000000   0.013981\n",
       " 358             0.998649            1.000000   0.013095\n",
       " 359             1.000000            1.000000   0.012473\n",
       " \n",
       " [360 rows x 3 columns]}"
      ]
     },
     "execution_count": 74,
     "metadata": {},
     "output_type": "execute_result"
    }
   ],
   "source": [
    "# checking the fpr,tpr and threshold \n",
    "roc_auc_curve_data"
   ]
  },
  {
   "cell_type": "markdown",
   "metadata": {},
   "source": [
    "**Defining the Threshhold**"
   ]
  },
  {
   "cell_type": "code",
   "execution_count": 75,
   "metadata": {},
   "outputs": [],
   "source": [
    "# setting threshold and using the threshold to predict on X_test\n",
    "threshold = 0.11\n",
    "y_pred_proba = gradient_pipeline.predict_proba(X_test)[:, 1]\n",
    "binary_prediction = (y_pred_proba > threshold)\n",
    "threshold_matrix = confusion_matrix(y_test_encoded,binary_prediction)"
   ]
  },
  {
   "cell_type": "code",
   "execution_count": 76,
   "metadata": {},
   "outputs": [
    {
     "data": {
      "text/plain": [
       "<Axes: >"
      ]
     },
     "execution_count": 76,
     "metadata": {},
     "output_type": "execute_result"
    },
    {
     "data": {
      "image/png": "[encoded data removed]",
      "text/plain": [
       "<Figure size 640x480 with 2 Axes>"
      ]
     },
     "metadata": {},
     "output_type": "display_data"
    }
   ],
   "source": [
    "# Printing the Confusion Matrix\n",
    "sns.heatmap(data=threshold_matrix,annot=True,fmt='d',cmap='coolwarm')"
   ]
  },
  {
   "cell_type": "markdown",
   "metadata": {},
   "source": [
    "### Hyperparameter Tuning\n",
    "\n",
    "**Create a dictionary of tuning parameters (hyperparameters)**"
   ]
  },
  {
   "cell_type": "code",
   "execution_count": 77,
   "metadata": {},
   "outputs": [
    {
     "data": {
      "text/html": [
       "<style>#sk-container-id-1 {color: black;}#sk-container-id-1 pre{padding: 0;}#sk-container-id-1 div.sk-toggleable {background-color: white;}#sk-container-id-1 label.sk-toggleable__label {cursor: pointer;display: block;width: 100%;margin-bottom: 0;padding: 0.3em;box-sizing: border-box;text-align: center;}#sk-container-id-1 label.sk-toggleable__label-arrow:before {content: \"▸\";float: left;margin-right: 0.25em;color: #696969;}#sk-container-id-1 label.sk-toggleable__label-arrow:hover:before {color: black;}#sk-container-id-1 div.sk-estimator:hover label.sk-toggleable__label-arrow:before {color: black;}#sk-container-id-1 div.sk-toggleable__content {max-height: 0;max-width: 0;overflow: hidden;text-align: left;background-color: #f0f8ff;}#sk-container-id-1 div.sk-toggleable__content pre {margin: 0.2em;color: black;border-radius: 0.25em;background-color: #f0f8ff;}#sk-container-id-1 input.sk-toggleable__control:checked~div.sk-toggleable__content {max-height: 200px;max-width: 100%;overflow: auto;}#sk-container-id-1 input.sk-toggleable__control:checked~label.sk-toggleable__label-arrow:before {content: \"▾\";}#sk-container-id-1 div.sk-estimator input.sk-toggleable__control:checked~label.sk-toggleable__label {background-color: #d4ebff;}#sk-container-id-1 div.sk-label input.sk-toggleable__control:checked~label.sk-toggleable__label {background-color: #d4ebff;}#sk-container-id-1 input.sk-hidden--visually {border: 0;clip: rect(1px 1px 1px 1px);clip: rect(1px, 1px, 1px, 1px);height: 1px;margin: -1px;overflow: hidden;padding: 0;position: absolute;width: 1px;}#sk-container-id-1 div.sk-estimator {font-family: monospace;background-color: #f0f8ff;border: 1px dotted black;border-radius: 0.25em;box-sizing: border-box;margin-bottom: 0.5em;}#sk-container-id-1 div.sk-estimator:hover {background-color: #d4ebff;}#sk-container-id-1 div.sk-parallel-item::after {content: \"\";width: 100%;border-bottom: 1px solid gray;flex-grow: 1;}#sk-container-id-1 div.sk-label:hover label.sk-toggleable__label {background-color: #d4ebff;}#sk-container-id-1 div.sk-serial::before {content: \"\";position: absolute;border-left: 1px solid gray;box-sizing: border-box;top: 0;bottom: 0;left: 50%;z-index: 0;}#sk-container-id-1 div.sk-serial {display: flex;flex-direction: column;align-items: center;background-color: white;padding-right: 0.2em;padding-left: 0.2em;position: relative;}#sk-container-id-1 div.sk-item {position: relative;z-index: 1;}#sk-container-id-1 div.sk-parallel {display: flex;align-items: stretch;justify-content: center;background-color: white;position: relative;}#sk-container-id-1 div.sk-item::before, #sk-container-id-1 div.sk-parallel-item::before {content: \"\";position: absolute;border-left: 1px solid gray;box-sizing: border-box;top: 0;bottom: 0;left: 50%;z-index: -1;}#sk-container-id-1 div.sk-parallel-item {display: flex;flex-direction: column;z-index: 1;position: relative;background-color: white;}#sk-container-id-1 div.sk-parallel-item:first-child::after {align-self: flex-end;width: 50%;}#sk-container-id-1 div.sk-parallel-item:last-child::after {align-self: flex-start;width: 50%;}#sk-container-id-1 div.sk-parallel-item:only-child::after {width: 0;}#sk-container-id-1 div.sk-dashed-wrapped {border: 1px dashed gray;margin: 0 0.4em 0.5em 0.4em;box-sizing: border-box;padding-bottom: 0.4em;background-color: white;}#sk-container-id-1 div.sk-label label {font-family: monospace;font-weight: bold;display: inline-block;line-height: 1.2em;}#sk-container-id-1 div.sk-label-container {text-align: center;}#sk-container-id-1 div.sk-container {/* jupyter's `normalize.less` sets `[hidden] { display: none; }` but bootstrap.min.css set `[hidden] { display: none !important; }` so we also need the `!important` here to be able to override the default hidden behavior on the sphinx rendered scikit-learn.org. See: https://github.com/scikit-learn/scikit-learn/issues/21755 */display: inline-block !important;position: relative;}#sk-container-id-1 div.sk-text-repr-fallback {display: none;}</style><div id=\"sk-container-id-1\" class=\"sk-top-container\"><div class=\"sk-text-repr-fallback\"><pre>GridSearchCV(cv=5,\n",
       "             estimator=Pipeline(steps=[(&#x27;preprocessor&#x27;,\n",
       "                                        ColumnTransformer(transformers=[(&#x27;numerical_transformations&#x27;,\n",
       "                                                                         Pipeline(steps=[(&#x27;num_imputer&#x27;,\n",
       "                                                                                          SimpleImputer()),\n",
       "                                                                                         (&#x27;scaler &#x27;,\n",
       "                                                                                          RobustScaler())]),\n",
       "                                                                         Index([&#x27;tenure&#x27;, &#x27;MonthlyCharges&#x27;, &#x27;TotalCharges&#x27;], dtype=&#x27;object&#x27;)),\n",
       "                                                                        (&#x27;cat_transformations&#x27;,\n",
       "                                                                         Pipeline(steps=[(&#x27;cat_imputer&#x27;,\n",
       "                                                                                          SimpleImputer(strategy=&#x27;most_freq...\n",
       "      dtype=&#x27;object&#x27;))])),\n",
       "                                       (&#x27;smote&#x27;, SMOTE(random_state=42)),\n",
       "                                       (&#x27;feature_selection&#x27;,\n",
       "                                        SelectKBest(score_func=&lt;function mutual_info_classif at 0x000001BE808F30A0&gt;)),\n",
       "                                       (&#x27;classifier&#x27;,\n",
       "                                        GradientBoostingClassifier())]),\n",
       "             param_grid={&#x27;classifier__max_depth&#x27;: [None, 10, 20],\n",
       "                         &#x27;classifier__min_samples_split&#x27;: [2, 5, 10],\n",
       "                         &#x27;classifier__n_estimators&#x27;: [5, 10, 15],\n",
       "                         &#x27;feature_selection__k&#x27;: [5, 10, 15]},\n",
       "             scoring=&#x27;f1&#x27;)</pre><b>In a Jupyter environment, please rerun this cell to show the HTML representation or trust the notebook. <br />On GitHub, the HTML representation is unable to render, please try loading this page with nbviewer.org.</b></div><div class=\"sk-container\" hidden><div class=\"sk-item sk-dashed-wrapped\"><div class=\"sk-label-container\"><div class=\"sk-label sk-toggleable\"><input class=\"sk-toggleable__control sk-hidden--visually\" id=\"sk-estimator-id-1\" type=\"checkbox\" ><label for=\"sk-estimator-id-1\" class=\"sk-toggleable__label sk-toggleable__label-arrow\">GridSearchCV</label><div class=\"sk-toggleable__content\"><pre>GridSearchCV(cv=5,\n",
       "             estimator=Pipeline(steps=[(&#x27;preprocessor&#x27;,\n",
       "                                        ColumnTransformer(transformers=[(&#x27;numerical_transformations&#x27;,\n",
       "                                                                         Pipeline(steps=[(&#x27;num_imputer&#x27;,\n",
       "                                                                                          SimpleImputer()),\n",
       "                                                                                         (&#x27;scaler &#x27;,\n",
       "                                                                                          RobustScaler())]),\n",
       "                                                                         Index([&#x27;tenure&#x27;, &#x27;MonthlyCharges&#x27;, &#x27;TotalCharges&#x27;], dtype=&#x27;object&#x27;)),\n",
       "                                                                        (&#x27;cat_transformations&#x27;,\n",
       "                                                                         Pipeline(steps=[(&#x27;cat_imputer&#x27;,\n",
       "                                                                                          SimpleImputer(strategy=&#x27;most_freq...\n",
       "      dtype=&#x27;object&#x27;))])),\n",
       "                                       (&#x27;smote&#x27;, SMOTE(random_state=42)),\n",
       "                                       (&#x27;feature_selection&#x27;,\n",
       "                                        SelectKBest(score_func=&lt;function mutual_info_classif at 0x000001BE808F30A0&gt;)),\n",
       "                                       (&#x27;classifier&#x27;,\n",
       "                                        GradientBoostingClassifier())]),\n",
       "             param_grid={&#x27;classifier__max_depth&#x27;: [None, 10, 20],\n",
       "                         &#x27;classifier__min_samples_split&#x27;: [2, 5, 10],\n",
       "                         &#x27;classifier__n_estimators&#x27;: [5, 10, 15],\n",
       "                         &#x27;feature_selection__k&#x27;: [5, 10, 15]},\n",
       "             scoring=&#x27;f1&#x27;)</pre></div></div></div><div class=\"sk-parallel\"><div class=\"sk-parallel-item\"><div class=\"sk-item\"><div class=\"sk-label-container\"><div class=\"sk-label sk-toggleable\"><input class=\"sk-toggleable__control sk-hidden--visually\" id=\"sk-estimator-id-2\" type=\"checkbox\" ><label for=\"sk-estimator-id-2\" class=\"sk-toggleable__label sk-toggleable__label-arrow\">estimator: Pipeline</label><div class=\"sk-toggleable__content\"><pre>Pipeline(steps=[(&#x27;preprocessor&#x27;,\n",
       "                 ColumnTransformer(transformers=[(&#x27;numerical_transformations&#x27;,\n",
       "                                                  Pipeline(steps=[(&#x27;num_imputer&#x27;,\n",
       "                                                                   SimpleImputer()),\n",
       "                                                                  (&#x27;scaler &#x27;,\n",
       "                                                                   RobustScaler())]),\n",
       "                                                  Index([&#x27;tenure&#x27;, &#x27;MonthlyCharges&#x27;, &#x27;TotalCharges&#x27;], dtype=&#x27;object&#x27;)),\n",
       "                                                 (&#x27;cat_transformations&#x27;,\n",
       "                                                  Pipeline(steps=[(&#x27;cat_imputer&#x27;,\n",
       "                                                                   SimpleImputer(strategy=&#x27;most_frequent&#x27;)),\n",
       "                                                                  (&#x27;encoder&#x27;,\n",
       "                                                                   OneHotEnc...\n",
       "       &#x27;MultipleLines&#x27;, &#x27;InternetService&#x27;, &#x27;OnlineSecurity&#x27;, &#x27;OnlineBackup&#x27;,\n",
       "       &#x27;DeviceProtection&#x27;, &#x27;TechSupport&#x27;, &#x27;StreamingTV&#x27;, &#x27;StreamingMovies&#x27;,\n",
       "       &#x27;Contract&#x27;, &#x27;PaperlessBilling&#x27;, &#x27;PaymentMethod&#x27;],\n",
       "      dtype=&#x27;object&#x27;))])),\n",
       "                (&#x27;smote&#x27;, SMOTE(random_state=42)),\n",
       "                (&#x27;feature_selection&#x27;,\n",
       "                 SelectKBest(score_func=&lt;function mutual_info_classif at 0x000001BE808F30A0&gt;)),\n",
       "                (&#x27;classifier&#x27;, GradientBoostingClassifier())])</pre></div></div></div><div class=\"sk-serial\"><div class=\"sk-item\"><div class=\"sk-serial\"><div class=\"sk-item sk-dashed-wrapped\"><div class=\"sk-label-container\"><div class=\"sk-label sk-toggleable\"><input class=\"sk-toggleable__control sk-hidden--visually\" id=\"sk-estimator-id-3\" type=\"checkbox\" ><label for=\"sk-estimator-id-3\" class=\"sk-toggleable__label sk-toggleable__label-arrow\">preprocessor: ColumnTransformer</label><div class=\"sk-toggleable__content\"><pre>ColumnTransformer(transformers=[(&#x27;numerical_transformations&#x27;,\n",
       "                                 Pipeline(steps=[(&#x27;num_imputer&#x27;,\n",
       "                                                  SimpleImputer()),\n",
       "                                                 (&#x27;scaler &#x27;, RobustScaler())]),\n",
       "                                 Index([&#x27;tenure&#x27;, &#x27;MonthlyCharges&#x27;, &#x27;TotalCharges&#x27;], dtype=&#x27;object&#x27;)),\n",
       "                                (&#x27;cat_transformations&#x27;,\n",
       "                                 Pipeline(steps=[(&#x27;cat_imputer&#x27;,\n",
       "                                                  SimpleImputer(strategy=&#x27;most_frequent&#x27;)),\n",
       "                                                 (&#x27;encoder&#x27;, OneHotEncoder())]),\n",
       "                                 Index([&#x27;gender&#x27;, &#x27;SeniorCitizen&#x27;, &#x27;Partner&#x27;, &#x27;Dependents&#x27;, &#x27;PhoneService&#x27;,\n",
       "       &#x27;MultipleLines&#x27;, &#x27;InternetService&#x27;, &#x27;OnlineSecurity&#x27;, &#x27;OnlineBackup&#x27;,\n",
       "       &#x27;DeviceProtection&#x27;, &#x27;TechSupport&#x27;, &#x27;StreamingTV&#x27;, &#x27;StreamingMovies&#x27;,\n",
       "       &#x27;Contract&#x27;, &#x27;PaperlessBilling&#x27;, &#x27;PaymentMethod&#x27;],\n",
       "      dtype=&#x27;object&#x27;))])</pre></div></div></div><div class=\"sk-parallel\"><div class=\"sk-parallel-item\"><div class=\"sk-item\"><div class=\"sk-label-container\"><div class=\"sk-label sk-toggleable\"><input class=\"sk-toggleable__control sk-hidden--visually\" id=\"sk-estimator-id-4\" type=\"checkbox\" ><label for=\"sk-estimator-id-4\" class=\"sk-toggleable__label sk-toggleable__label-arrow\">numerical_transformations</label><div class=\"sk-toggleable__content\"><pre>Index([&#x27;tenure&#x27;, &#x27;MonthlyCharges&#x27;, &#x27;TotalCharges&#x27;], dtype=&#x27;object&#x27;)</pre></div></div></div><div class=\"sk-serial\"><div class=\"sk-item\"><div class=\"sk-serial\"><div class=\"sk-item\"><div class=\"sk-estimator sk-toggleable\"><input class=\"sk-toggleable__control sk-hidden--visually\" id=\"sk-estimator-id-5\" type=\"checkbox\" ><label for=\"sk-estimator-id-5\" class=\"sk-toggleable__label sk-toggleable__label-arrow\">SimpleImputer</label><div class=\"sk-toggleable__content\"><pre>SimpleImputer()</pre></div></div></div><div class=\"sk-item\"><div class=\"sk-estimator sk-toggleable\"><input class=\"sk-toggleable__control sk-hidden--visually\" id=\"sk-estimator-id-6\" type=\"checkbox\" ><label for=\"sk-estimator-id-6\" class=\"sk-toggleable__label sk-toggleable__label-arrow\">RobustScaler</label><div class=\"sk-toggleable__content\"><pre>RobustScaler()</pre></div></div></div></div></div></div></div></div><div class=\"sk-parallel-item\"><div class=\"sk-item\"><div class=\"sk-label-container\"><div class=\"sk-label sk-toggleable\"><input class=\"sk-toggleable__control sk-hidden--visually\" id=\"sk-estimator-id-7\" type=\"checkbox\" ><label for=\"sk-estimator-id-7\" class=\"sk-toggleable__label sk-toggleable__label-arrow\">cat_transformations</label><div class=\"sk-toggleable__content\"><pre>Index([&#x27;gender&#x27;, &#x27;SeniorCitizen&#x27;, &#x27;Partner&#x27;, &#x27;Dependents&#x27;, &#x27;PhoneService&#x27;,\n",
       "       &#x27;MultipleLines&#x27;, &#x27;InternetService&#x27;, &#x27;OnlineSecurity&#x27;, &#x27;OnlineBackup&#x27;,\n",
       "       &#x27;DeviceProtection&#x27;, &#x27;TechSupport&#x27;, &#x27;StreamingTV&#x27;, &#x27;StreamingMovies&#x27;,\n",
       "       &#x27;Contract&#x27;, &#x27;PaperlessBilling&#x27;, &#x27;PaymentMethod&#x27;],\n",
       "      dtype=&#x27;object&#x27;)</pre></div></div></div><div class=\"sk-serial\"><div class=\"sk-item\"><div class=\"sk-serial\"><div class=\"sk-item\"><div class=\"sk-estimator sk-toggleable\"><input class=\"sk-toggleable__control sk-hidden--visually\" id=\"sk-estimator-id-8\" type=\"checkbox\" ><label for=\"sk-estimator-id-8\" class=\"sk-toggleable__label sk-toggleable__label-arrow\">SimpleImputer</label><div class=\"sk-toggleable__content\"><pre>SimpleImputer(strategy=&#x27;most_frequent&#x27;)</pre></div></div></div><div class=\"sk-item\"><div class=\"sk-estimator sk-toggleable\"><input class=\"sk-toggleable__control sk-hidden--visually\" id=\"sk-estimator-id-9\" type=\"checkbox\" ><label for=\"sk-estimator-id-9\" class=\"sk-toggleable__label sk-toggleable__label-arrow\">OneHotEncoder</label><div class=\"sk-toggleable__content\"><pre>OneHotEncoder()</pre></div></div></div></div></div></div></div></div></div></div><div class=\"sk-item\"><div class=\"sk-estimator sk-toggleable\"><input class=\"sk-toggleable__control sk-hidden--visually\" id=\"sk-estimator-id-10\" type=\"checkbox\" ><label for=\"sk-estimator-id-10\" class=\"sk-toggleable__label sk-toggleable__label-arrow\">SMOTE</label><div class=\"sk-toggleable__content\"><pre>SMOTE(random_state=42)</pre></div></div></div><div class=\"sk-item\"><div class=\"sk-estimator sk-toggleable\"><input class=\"sk-toggleable__control sk-hidden--visually\" id=\"sk-estimator-id-11\" type=\"checkbox\" ><label for=\"sk-estimator-id-11\" class=\"sk-toggleable__label sk-toggleable__label-arrow\">SelectKBest</label><div class=\"sk-toggleable__content\"><pre>SelectKBest(score_func=&lt;function mutual_info_classif at 0x000001BE808F30A0&gt;)</pre></div></div></div><div class=\"sk-item\"><div class=\"sk-estimator sk-toggleable\"><input class=\"sk-toggleable__control sk-hidden--visually\" id=\"sk-estimator-id-12\" type=\"checkbox\" ><label for=\"sk-estimator-id-12\" class=\"sk-toggleable__label sk-toggleable__label-arrow\">GradientBoostingClassifier</label><div class=\"sk-toggleable__content\"><pre>GradientBoostingClassifier()</pre></div></div></div></div></div></div></div></div></div></div></div></div>"
      ],
      "text/plain": [
       "GridSearchCV(cv=5,\n",
       "             estimator=Pipeline(steps=[('preprocessor',\n",
       "                                        ColumnTransformer(transformers=[('numerical_transformations',\n",
       "                                                                         Pipeline(steps=[('num_imputer',\n",
       "                                                                                          SimpleImputer()),\n",
       "                                                                                         ('scaler ',\n",
       "                                                                                          RobustScaler())]),\n",
       "                                                                         Index(['tenure', 'MonthlyCharges', 'TotalCharges'], dtype='object')),\n",
       "                                                                        ('cat_transformations',\n",
       "                                                                         Pipeline(steps=[('cat_imputer',\n",
       "                                                                                          SimpleImputer(strategy='most_freq...\n",
       "      dtype='object'))])),\n",
       "                                       ('smote', SMOTE(random_state=42)),\n",
       "                                       ('feature_selection',\n",
       "                                        SelectKBest(score_func=<function mutual_info_classif at 0x000001BE808F30A0>)),\n",
       "                                       ('classifier',\n",
       "                                        GradientBoostingClassifier())]),\n",
       "             param_grid={'classifier__max_depth': [None, 10, 20],\n",
       "                         'classifier__min_samples_split': [2, 5, 10],\n",
       "                         'classifier__n_estimators': [5, 10, 15],\n",
       "                         'feature_selection__k': [5, 10, 15]},\n",
       "             scoring='f1')"
      ]
     },
     "execution_count": 77,
     "metadata": {},
     "output_type": "execute_result"
    }
   ],
   "source": [
    "params_grid = {\n",
    "    'feature_selection__k': [5, 10, 15],  \n",
    "    'classifier__n_estimators': [5, 10, 15],\n",
    "    'classifier__max_depth': [None, 10, 20],\n",
    "    'classifier__min_samples_split': [2, 5, 10],\n",
    "}\n",
    " \n",
    "searcher = GridSearchCV(\n",
    "    estimator=gradient_pipeline,\n",
    "    param_grid=params_grid,\n",
    "    cv=5, scoring='f1'\n",
    "    )\n",
    "searcher.fit(X_train, y_train_encoded)"
   ]
  },
  {
   "cell_type": "code",
   "execution_count": 78,
   "metadata": {},
   "outputs": [
    {
     "data": {
      "text/html": [
       "<div>\n",
       "<style scoped>\n",
       "    .dataframe tbody tr th:only-of-type {\n",
       "        vertical-align: middle;\n",
       "    }\n",
       "\n",
       "    .dataframe tbody tr th {\n",
       "        vertical-align: top;\n",
       "    }\n",
       "\n",
       "    .dataframe thead th {\n",
       "        text-align: right;\n",
       "    }\n",
       "</style>\n",
       "<table border=\"1\" class=\"dataframe\">\n",
       "  <thead>\n",
       "    <tr style=\"text-align: right;\">\n",
       "      <th></th>\n",
       "      <th>mean_fit_time</th>\n",
       "      <th>std_fit_time</th>\n",
       "      <th>mean_score_time</th>\n",
       "      <th>std_score_time</th>\n",
       "      <th>param_classifier__max_depth</th>\n",
       "      <th>param_classifier__min_samples_split</th>\n",
       "      <th>param_classifier__n_estimators</th>\n",
       "      <th>param_feature_selection__k</th>\n",
       "      <th>params</th>\n",
       "      <th>split0_test_score</th>\n",
       "      <th>split1_test_score</th>\n",
       "      <th>split2_test_score</th>\n",
       "      <th>split3_test_score</th>\n",
       "      <th>split4_test_score</th>\n",
       "      <th>mean_test_score</th>\n",
       "      <th>std_test_score</th>\n",
       "      <th>rank_test_score</th>\n",
       "    </tr>\n",
       "  </thead>\n",
       "  <tbody>\n",
       "    <tr>\n",
       "      <th>0</th>\n",
       "      <td>7.662222</td>\n",
       "      <td>0.777213</td>\n",
       "      <td>0.112336</td>\n",
       "      <td>0.120051</td>\n",
       "      <td>None</td>\n",
       "      <td>2</td>\n",
       "      <td>5</td>\n",
       "      <td>5</td>\n",
       "      <td>{'classifier__max_depth': None, 'classifier__m...</td>\n",
       "      <td>0.471744</td>\n",
       "      <td>0.509978</td>\n",
       "      <td>0.487923</td>\n",
       "      <td>0.489796</td>\n",
       "      <td>0.513347</td>\n",
       "      <td>0.494558</td>\n",
       "      <td>0.015349</td>\n",
       "      <td>80</td>\n",
       "    </tr>\n",
       "    <tr>\n",
       "      <th>1</th>\n",
       "      <td>7.015791</td>\n",
       "      <td>0.836944</td>\n",
       "      <td>0.044175</td>\n",
       "      <td>0.012148</td>\n",
       "      <td>None</td>\n",
       "      <td>2</td>\n",
       "      <td>5</td>\n",
       "      <td>10</td>\n",
       "      <td>{'classifier__max_depth': None, 'classifier__m...</td>\n",
       "      <td>0.539957</td>\n",
       "      <td>0.516269</td>\n",
       "      <td>0.502110</td>\n",
       "      <td>0.538793</td>\n",
       "      <td>0.544662</td>\n",
       "      <td>0.528358</td>\n",
       "      <td>0.016397</td>\n",
       "      <td>55</td>\n",
       "    </tr>\n",
       "    <tr>\n",
       "      <th>2</th>\n",
       "      <td>6.832296</td>\n",
       "      <td>0.260731</td>\n",
       "      <td>0.074158</td>\n",
       "      <td>0.047130</td>\n",
       "      <td>None</td>\n",
       "      <td>2</td>\n",
       "      <td>5</td>\n",
       "      <td>15</td>\n",
       "      <td>{'classifier__max_depth': None, 'classifier__m...</td>\n",
       "      <td>0.542601</td>\n",
       "      <td>0.488584</td>\n",
       "      <td>0.534979</td>\n",
       "      <td>0.516949</td>\n",
       "      <td>0.509636</td>\n",
       "      <td>0.518550</td>\n",
       "      <td>0.019122</td>\n",
       "      <td>67</td>\n",
       "    </tr>\n",
       "    <tr>\n",
       "      <th>3</th>\n",
       "      <td>6.933039</td>\n",
       "      <td>0.864185</td>\n",
       "      <td>0.062964</td>\n",
       "      <td>0.042398</td>\n",
       "      <td>None</td>\n",
       "      <td>2</td>\n",
       "      <td>10</td>\n",
       "      <td>5</td>\n",
       "      <td>{'classifier__max_depth': None, 'classifier__m...</td>\n",
       "      <td>0.490654</td>\n",
       "      <td>0.514541</td>\n",
       "      <td>0.474576</td>\n",
       "      <td>0.489796</td>\n",
       "      <td>0.520325</td>\n",
       "      <td>0.497979</td>\n",
       "      <td>0.016982</td>\n",
       "      <td>78</td>\n",
       "    </tr>\n",
       "    <tr>\n",
       "      <th>4</th>\n",
       "      <td>8.120363</td>\n",
       "      <td>0.299051</td>\n",
       "      <td>0.039774</td>\n",
       "      <td>0.005810</td>\n",
       "      <td>None</td>\n",
       "      <td>2</td>\n",
       "      <td>10</td>\n",
       "      <td>10</td>\n",
       "      <td>{'classifier__max_depth': None, 'classifier__m...</td>\n",
       "      <td>0.532468</td>\n",
       "      <td>0.511211</td>\n",
       "      <td>0.502128</td>\n",
       "      <td>0.505593</td>\n",
       "      <td>0.552463</td>\n",
       "      <td>0.520772</td>\n",
       "      <td>0.019029</td>\n",
       "      <td>65</td>\n",
       "    </tr>\n",
       "    <tr>\n",
       "      <th>...</th>\n",
       "      <td>...</td>\n",
       "      <td>...</td>\n",
       "      <td>...</td>\n",
       "      <td>...</td>\n",
       "      <td>...</td>\n",
       "      <td>...</td>\n",
       "      <td>...</td>\n",
       "      <td>...</td>\n",
       "      <td>...</td>\n",
       "      <td>...</td>\n",
       "      <td>...</td>\n",
       "      <td>...</td>\n",
       "      <td>...</td>\n",
       "      <td>...</td>\n",
       "      <td>...</td>\n",
       "      <td>...</td>\n",
       "      <td>...</td>\n",
       "    </tr>\n",
       "    <tr>\n",
       "      <th>76</th>\n",
       "      <td>6.281212</td>\n",
       "      <td>0.460005</td>\n",
       "      <td>0.039178</td>\n",
       "      <td>0.002313</td>\n",
       "      <td>20</td>\n",
       "      <td>10</td>\n",
       "      <td>10</td>\n",
       "      <td>10</td>\n",
       "      <td>{'classifier__max_depth': 20, 'classifier__min...</td>\n",
       "      <td>0.537778</td>\n",
       "      <td>0.528889</td>\n",
       "      <td>0.530526</td>\n",
       "      <td>0.545455</td>\n",
       "      <td>0.562368</td>\n",
       "      <td>0.541003</td>\n",
       "      <td>0.012192</td>\n",
       "      <td>42</td>\n",
       "    </tr>\n",
       "    <tr>\n",
       "      <th>77</th>\n",
       "      <td>7.674215</td>\n",
       "      <td>0.807085</td>\n",
       "      <td>0.057168</td>\n",
       "      <td>0.021963</td>\n",
       "      <td>20</td>\n",
       "      <td>10</td>\n",
       "      <td>10</td>\n",
       "      <td>15</td>\n",
       "      <td>{'classifier__max_depth': 20, 'classifier__min...</td>\n",
       "      <td>0.543820</td>\n",
       "      <td>0.545882</td>\n",
       "      <td>0.536797</td>\n",
       "      <td>0.530702</td>\n",
       "      <td>0.564103</td>\n",
       "      <td>0.544261</td>\n",
       "      <td>0.011279</td>\n",
       "      <td>40</td>\n",
       "    </tr>\n",
       "    <tr>\n",
       "      <th>78</th>\n",
       "      <td>6.102913</td>\n",
       "      <td>0.701206</td>\n",
       "      <td>0.042574</td>\n",
       "      <td>0.002869</td>\n",
       "      <td>20</td>\n",
       "      <td>10</td>\n",
       "      <td>15</td>\n",
       "      <td>5</td>\n",
       "      <td>{'classifier__max_depth': 20, 'classifier__min...</td>\n",
       "      <td>0.515152</td>\n",
       "      <td>0.524664</td>\n",
       "      <td>0.509009</td>\n",
       "      <td>0.500000</td>\n",
       "      <td>0.557447</td>\n",
       "      <td>0.521254</td>\n",
       "      <td>0.019801</td>\n",
       "      <td>63</td>\n",
       "    </tr>\n",
       "    <tr>\n",
       "      <th>79</th>\n",
       "      <td>7.493520</td>\n",
       "      <td>0.973403</td>\n",
       "      <td>0.043976</td>\n",
       "      <td>0.012689</td>\n",
       "      <td>20</td>\n",
       "      <td>10</td>\n",
       "      <td>15</td>\n",
       "      <td>10</td>\n",
       "      <td>{'classifier__max_depth': 20, 'classifier__min...</td>\n",
       "      <td>0.556291</td>\n",
       "      <td>0.551724</td>\n",
       "      <td>0.549356</td>\n",
       "      <td>0.553571</td>\n",
       "      <td>0.546973</td>\n",
       "      <td>0.551583</td>\n",
       "      <td>0.003236</td>\n",
       "      <td>34</td>\n",
       "    </tr>\n",
       "    <tr>\n",
       "      <th>80</th>\n",
       "      <td>8.177528</td>\n",
       "      <td>0.876866</td>\n",
       "      <td>0.045374</td>\n",
       "      <td>0.007653</td>\n",
       "      <td>20</td>\n",
       "      <td>10</td>\n",
       "      <td>15</td>\n",
       "      <td>15</td>\n",
       "      <td>{'classifier__max_depth': 20, 'classifier__min...</td>\n",
       "      <td>0.565517</td>\n",
       "      <td>0.526807</td>\n",
       "      <td>0.552743</td>\n",
       "      <td>0.554113</td>\n",
       "      <td>0.555556</td>\n",
       "      <td>0.550947</td>\n",
       "      <td>0.012881</td>\n",
       "      <td>35</td>\n",
       "    </tr>\n",
       "  </tbody>\n",
       "</table>\n",
       "<p>81 rows × 17 columns</p>\n",
       "</div>"
      ],
      "text/plain": [
       "    mean_fit_time  std_fit_time  mean_score_time  std_score_time  \\\n",
       "0        7.662222      0.777213         0.112336        0.120051   \n",
       "1        7.015791      0.836944         0.044175        0.012148   \n",
       "2        6.832296      0.260731         0.074158        0.047130   \n",
       "3        6.933039      0.864185         0.062964        0.042398   \n",
       "4        8.120363      0.299051         0.039774        0.005810   \n",
       "..            ...           ...              ...             ...   \n",
       "76       6.281212      0.460005         0.039178        0.002313   \n",
       "77       7.674215      0.807085         0.057168        0.021963   \n",
       "78       6.102913      0.701206         0.042574        0.002869   \n",
       "79       7.493520      0.973403         0.043976        0.012689   \n",
       "80       8.177528      0.876866         0.045374        0.007653   \n",
       "\n",
       "   param_classifier__max_depth param_classifier__min_samples_split  \\\n",
       "0                         None                                   2   \n",
       "1                         None                                   2   \n",
       "2                         None                                   2   \n",
       "3                         None                                   2   \n",
       "4                         None                                   2   \n",
       "..                         ...                                 ...   \n",
       "76                          20                                  10   \n",
       "77                          20                                  10   \n",
       "78                          20                                  10   \n",
       "79                          20                                  10   \n",
       "80                          20                                  10   \n",
       "\n",
       "   param_classifier__n_estimators param_feature_selection__k  \\\n",
       "0                               5                          5   \n",
       "1                               5                         10   \n",
       "2                               5                         15   \n",
       "3                              10                          5   \n",
       "4                              10                         10   \n",
       "..                            ...                        ...   \n",
       "76                             10                         10   \n",
       "77                             10                         15   \n",
       "78                             15                          5   \n",
       "79                             15                         10   \n",
       "80                             15                         15   \n",
       "\n",
       "                                               params  split0_test_score  \\\n",
       "0   {'classifier__max_depth': None, 'classifier__m...           0.471744   \n",
       "1   {'classifier__max_depth': None, 'classifier__m...           0.539957   \n",
       "2   {'classifier__max_depth': None, 'classifier__m...           0.542601   \n",
       "3   {'classifier__max_depth': None, 'classifier__m...           0.490654   \n",
       "4   {'classifier__max_depth': None, 'classifier__m...           0.532468   \n",
       "..                                                ...                ...   \n",
       "76  {'classifier__max_depth': 20, 'classifier__min...           0.537778   \n",
       "77  {'classifier__max_depth': 20, 'classifier__min...           0.543820   \n",
       "78  {'classifier__max_depth': 20, 'classifier__min...           0.515152   \n",
       "79  {'classifier__max_depth': 20, 'classifier__min...           0.556291   \n",
       "80  {'classifier__max_depth': 20, 'classifier__min...           0.565517   \n",
       "\n",
       "    split1_test_score  split2_test_score  split3_test_score  \\\n",
       "0            0.509978           0.487923           0.489796   \n",
       "1            0.516269           0.502110           0.538793   \n",
       "2            0.488584           0.534979           0.516949   \n",
       "3            0.514541           0.474576           0.489796   \n",
       "4            0.511211           0.502128           0.505593   \n",
       "..                ...                ...                ...   \n",
       "76           0.528889           0.530526           0.545455   \n",
       "77           0.545882           0.536797           0.530702   \n",
       "78           0.524664           0.509009           0.500000   \n",
       "79           0.551724           0.549356           0.553571   \n",
       "80           0.526807           0.552743           0.554113   \n",
       "\n",
       "    split4_test_score  mean_test_score  std_test_score  rank_test_score  \n",
       "0            0.513347         0.494558        0.015349               80  \n",
       "1            0.544662         0.528358        0.016397               55  \n",
       "2            0.509636         0.518550        0.019122               67  \n",
       "3            0.520325         0.497979        0.016982               78  \n",
       "4            0.552463         0.520772        0.019029               65  \n",
       "..                ...              ...             ...              ...  \n",
       "76           0.562368         0.541003        0.012192               42  \n",
       "77           0.564103         0.544261        0.011279               40  \n",
       "78           0.557447         0.521254        0.019801               63  \n",
       "79           0.546973         0.551583        0.003236               34  \n",
       "80           0.555556         0.550947        0.012881               35  \n",
       "\n",
       "[81 rows x 17 columns]"
      ]
     },
     "execution_count": 78,
     "metadata": {},
     "output_type": "execute_result"
    }
   ],
   "source": [
    "# checking the results of the tuned data in a dataframe\n",
    "search_history = pd.DataFrame(searcher.cv_results_)\n",
    "search_history"
   ]
  },
  {
   "cell_type": "code",
   "execution_count": 79,
   "metadata": {},
   "outputs": [
    {
     "data": {
      "text/plain": [
       "{'classifier__max_depth': 10,\n",
       " 'classifier__min_samples_split': 10,\n",
       " 'classifier__n_estimators': 15,\n",
       " 'feature_selection__k': 15}"
      ]
     },
     "execution_count": 79,
     "metadata": {},
     "output_type": "execute_result"
    }
   ],
   "source": [
    "# checking the best parameter used\n",
    "best_params = searcher.best_params_\n",
    "best_params"
   ]
  },
  {
   "cell_type": "markdown",
   "metadata": {},
   "source": [
    "### Retraining the model with the best Parameters"
   ]
  },
  {
   "cell_type": "code",
   "execution_count": 80,
   "metadata": {},
   "outputs": [
    {
     "data": {
      "text/html": [
       "<style>#sk-container-id-2 {color: black;}#sk-container-id-2 pre{padding: 0;}#sk-container-id-2 div.sk-toggleable {background-color: white;}#sk-container-id-2 label.sk-toggleable__label {cursor: pointer;display: block;width: 100%;margin-bottom: 0;padding: 0.3em;box-sizing: border-box;text-align: center;}#sk-container-id-2 label.sk-toggleable__label-arrow:before {content: \"▸\";float: left;margin-right: 0.25em;color: #696969;}#sk-container-id-2 label.sk-toggleable__label-arrow:hover:before {color: black;}#sk-container-id-2 div.sk-estimator:hover label.sk-toggleable__label-arrow:before {color: black;}#sk-container-id-2 div.sk-toggleable__content {max-height: 0;max-width: 0;overflow: hidden;text-align: left;background-color: #f0f8ff;}#sk-container-id-2 div.sk-toggleable__content pre {margin: 0.2em;color: black;border-radius: 0.25em;background-color: #f0f8ff;}#sk-container-id-2 input.sk-toggleable__control:checked~div.sk-toggleable__content {max-height: 200px;max-width: 100%;overflow: auto;}#sk-container-id-2 input.sk-toggleable__control:checked~label.sk-toggleable__label-arrow:before {content: \"▾\";}#sk-container-id-2 div.sk-estimator input.sk-toggleable__control:checked~label.sk-toggleable__label {background-color: #d4ebff;}#sk-container-id-2 div.sk-label input.sk-toggleable__control:checked~label.sk-toggleable__label {background-color: #d4ebff;}#sk-container-id-2 input.sk-hidden--visually {border: 0;clip: rect(1px 1px 1px 1px);clip: rect(1px, 1px, 1px, 1px);height: 1px;margin: -1px;overflow: hidden;padding: 0;position: absolute;width: 1px;}#sk-container-id-2 div.sk-estimator {font-family: monospace;background-color: #f0f8ff;border: 1px dotted black;border-radius: 0.25em;box-sizing: border-box;margin-bottom: 0.5em;}#sk-container-id-2 div.sk-estimator:hover {background-color: #d4ebff;}#sk-container-id-2 div.sk-parallel-item::after {content: \"\";width: 100%;border-bottom: 1px solid gray;flex-grow: 1;}#sk-container-id-2 div.sk-label:hover label.sk-toggleable__label {background-color: #d4ebff;}#sk-container-id-2 div.sk-serial::before {content: \"\";position: absolute;border-left: 1px solid gray;box-sizing: border-box;top: 0;bottom: 0;left: 50%;z-index: 0;}#sk-container-id-2 div.sk-serial {display: flex;flex-direction: column;align-items: center;background-color: white;padding-right: 0.2em;padding-left: 0.2em;position: relative;}#sk-container-id-2 div.sk-item {position: relative;z-index: 1;}#sk-container-id-2 div.sk-parallel {display: flex;align-items: stretch;justify-content: center;background-color: white;position: relative;}#sk-container-id-2 div.sk-item::before, #sk-container-id-2 div.sk-parallel-item::before {content: \"\";position: absolute;border-left: 1px solid gray;box-sizing: border-box;top: 0;bottom: 0;left: 50%;z-index: -1;}#sk-container-id-2 div.sk-parallel-item {display: flex;flex-direction: column;z-index: 1;position: relative;background-color: white;}#sk-container-id-2 div.sk-parallel-item:first-child::after {align-self: flex-end;width: 50%;}#sk-container-id-2 div.sk-parallel-item:last-child::after {align-self: flex-start;width: 50%;}#sk-container-id-2 div.sk-parallel-item:only-child::after {width: 0;}#sk-container-id-2 div.sk-dashed-wrapped {border: 1px dashed gray;margin: 0 0.4em 0.5em 0.4em;box-sizing: border-box;padding-bottom: 0.4em;background-color: white;}#sk-container-id-2 div.sk-label label {font-family: monospace;font-weight: bold;display: inline-block;line-height: 1.2em;}#sk-container-id-2 div.sk-label-container {text-align: center;}#sk-container-id-2 div.sk-container {/* jupyter's `normalize.less` sets `[hidden] { display: none; }` but bootstrap.min.css set `[hidden] { display: none !important; }` so we also need the `!important` here to be able to override the default hidden behavior on the sphinx rendered scikit-learn.org. See: https://github.com/scikit-learn/scikit-learn/issues/21755 */display: inline-block !important;position: relative;}#sk-container-id-2 div.sk-text-repr-fallback {display: none;}</style><div id=\"sk-container-id-2\" class=\"sk-top-container\"><div class=\"sk-text-repr-fallback\"><pre>Pipeline(steps=[(&#x27;preprocessor&#x27;,\n",
       "                 ColumnTransformer(transformers=[(&#x27;numerical_transformations&#x27;,\n",
       "                                                  Pipeline(steps=[(&#x27;num_imputer&#x27;,\n",
       "                                                                   SimpleImputer()),\n",
       "                                                                  (&#x27;scaler &#x27;,\n",
       "                                                                   RobustScaler())]),\n",
       "                                                  Index([&#x27;tenure&#x27;, &#x27;MonthlyCharges&#x27;, &#x27;TotalCharges&#x27;], dtype=&#x27;object&#x27;)),\n",
       "                                                 (&#x27;cat_transformations&#x27;,\n",
       "                                                  Pipeline(steps=[(&#x27;cat_imputer&#x27;,\n",
       "                                                                   SimpleImputer(strategy=&#x27;most_frequent&#x27;)),\n",
       "                                                                  (&#x27;encoder&#x27;,\n",
       "                                                                   OneHotEnc...\n",
       "       &#x27;DeviceProtection&#x27;, &#x27;TechSupport&#x27;, &#x27;StreamingTV&#x27;, &#x27;StreamingMovies&#x27;,\n",
       "       &#x27;Contract&#x27;, &#x27;PaperlessBilling&#x27;, &#x27;PaymentMethod&#x27;],\n",
       "      dtype=&#x27;object&#x27;))])),\n",
       "                (&#x27;smote&#x27;, SMOTE(random_state=42)),\n",
       "                (&#x27;feature_selection&#x27;,\n",
       "                 SelectKBest(k=15,\n",
       "                             score_func=&lt;function mutual_info_classif at 0x000001BE808F30A0&gt;)),\n",
       "                (&#x27;classifier&#x27;,\n",
       "                 GradientBoostingClassifier(max_depth=10, min_samples_split=10,\n",
       "                                            n_estimators=15))])</pre><b>In a Jupyter environment, please rerun this cell to show the HTML representation or trust the notebook. <br />On GitHub, the HTML representation is unable to render, please try loading this page with nbviewer.org.</b></div><div class=\"sk-container\" hidden><div class=\"sk-item sk-dashed-wrapped\"><div class=\"sk-label-container\"><div class=\"sk-label sk-toggleable\"><input class=\"sk-toggleable__control sk-hidden--visually\" id=\"sk-estimator-id-13\" type=\"checkbox\" ><label for=\"sk-estimator-id-13\" class=\"sk-toggleable__label sk-toggleable__label-arrow\">Pipeline</label><div class=\"sk-toggleable__content\"><pre>Pipeline(steps=[(&#x27;preprocessor&#x27;,\n",
       "                 ColumnTransformer(transformers=[(&#x27;numerical_transformations&#x27;,\n",
       "                                                  Pipeline(steps=[(&#x27;num_imputer&#x27;,\n",
       "                                                                   SimpleImputer()),\n",
       "                                                                  (&#x27;scaler &#x27;,\n",
       "                                                                   RobustScaler())]),\n",
       "                                                  Index([&#x27;tenure&#x27;, &#x27;MonthlyCharges&#x27;, &#x27;TotalCharges&#x27;], dtype=&#x27;object&#x27;)),\n",
       "                                                 (&#x27;cat_transformations&#x27;,\n",
       "                                                  Pipeline(steps=[(&#x27;cat_imputer&#x27;,\n",
       "                                                                   SimpleImputer(strategy=&#x27;most_frequent&#x27;)),\n",
       "                                                                  (&#x27;encoder&#x27;,\n",
       "                                                                   OneHotEnc...\n",
       "       &#x27;DeviceProtection&#x27;, &#x27;TechSupport&#x27;, &#x27;StreamingTV&#x27;, &#x27;StreamingMovies&#x27;,\n",
       "       &#x27;Contract&#x27;, &#x27;PaperlessBilling&#x27;, &#x27;PaymentMethod&#x27;],\n",
       "      dtype=&#x27;object&#x27;))])),\n",
       "                (&#x27;smote&#x27;, SMOTE(random_state=42)),\n",
       "                (&#x27;feature_selection&#x27;,\n",
       "                 SelectKBest(k=15,\n",
       "                             score_func=&lt;function mutual_info_classif at 0x000001BE808F30A0&gt;)),\n",
       "                (&#x27;classifier&#x27;,\n",
       "                 GradientBoostingClassifier(max_depth=10, min_samples_split=10,\n",
       "                                            n_estimators=15))])</pre></div></div></div><div class=\"sk-serial\"><div class=\"sk-item sk-dashed-wrapped\"><div class=\"sk-label-container\"><div class=\"sk-label sk-toggleable\"><input class=\"sk-toggleable__control sk-hidden--visually\" id=\"sk-estimator-id-14\" type=\"checkbox\" ><label for=\"sk-estimator-id-14\" class=\"sk-toggleable__label sk-toggleable__label-arrow\">preprocessor: ColumnTransformer</label><div class=\"sk-toggleable__content\"><pre>ColumnTransformer(transformers=[(&#x27;numerical_transformations&#x27;,\n",
       "                                 Pipeline(steps=[(&#x27;num_imputer&#x27;,\n",
       "                                                  SimpleImputer()),\n",
       "                                                 (&#x27;scaler &#x27;, RobustScaler())]),\n",
       "                                 Index([&#x27;tenure&#x27;, &#x27;MonthlyCharges&#x27;, &#x27;TotalCharges&#x27;], dtype=&#x27;object&#x27;)),\n",
       "                                (&#x27;cat_transformations&#x27;,\n",
       "                                 Pipeline(steps=[(&#x27;cat_imputer&#x27;,\n",
       "                                                  SimpleImputer(strategy=&#x27;most_frequent&#x27;)),\n",
       "                                                 (&#x27;encoder&#x27;, OneHotEncoder())]),\n",
       "                                 Index([&#x27;gender&#x27;, &#x27;SeniorCitizen&#x27;, &#x27;Partner&#x27;, &#x27;Dependents&#x27;, &#x27;PhoneService&#x27;,\n",
       "       &#x27;MultipleLines&#x27;, &#x27;InternetService&#x27;, &#x27;OnlineSecurity&#x27;, &#x27;OnlineBackup&#x27;,\n",
       "       &#x27;DeviceProtection&#x27;, &#x27;TechSupport&#x27;, &#x27;StreamingTV&#x27;, &#x27;StreamingMovies&#x27;,\n",
       "       &#x27;Contract&#x27;, &#x27;PaperlessBilling&#x27;, &#x27;PaymentMethod&#x27;],\n",
       "      dtype=&#x27;object&#x27;))])</pre></div></div></div><div class=\"sk-parallel\"><div class=\"sk-parallel-item\"><div class=\"sk-item\"><div class=\"sk-label-container\"><div class=\"sk-label sk-toggleable\"><input class=\"sk-toggleable__control sk-hidden--visually\" id=\"sk-estimator-id-15\" type=\"checkbox\" ><label for=\"sk-estimator-id-15\" class=\"sk-toggleable__label sk-toggleable__label-arrow\">numerical_transformations</label><div class=\"sk-toggleable__content\"><pre>Index([&#x27;tenure&#x27;, &#x27;MonthlyCharges&#x27;, &#x27;TotalCharges&#x27;], dtype=&#x27;object&#x27;)</pre></div></div></div><div class=\"sk-serial\"><div class=\"sk-item\"><div class=\"sk-serial\"><div class=\"sk-item\"><div class=\"sk-estimator sk-toggleable\"><input class=\"sk-toggleable__control sk-hidden--visually\" id=\"sk-estimator-id-16\" type=\"checkbox\" ><label for=\"sk-estimator-id-16\" class=\"sk-toggleable__label sk-toggleable__label-arrow\">SimpleImputer</label><div class=\"sk-toggleable__content\"><pre>SimpleImputer()</pre></div></div></div><div class=\"sk-item\"><div class=\"sk-estimator sk-toggleable\"><input class=\"sk-toggleable__control sk-hidden--visually\" id=\"sk-estimator-id-17\" type=\"checkbox\" ><label for=\"sk-estimator-id-17\" class=\"sk-toggleable__label sk-toggleable__label-arrow\">RobustScaler</label><div class=\"sk-toggleable__content\"><pre>RobustScaler()</pre></div></div></div></div></div></div></div></div><div class=\"sk-parallel-item\"><div class=\"sk-item\"><div class=\"sk-label-container\"><div class=\"sk-label sk-toggleable\"><input class=\"sk-toggleable__control sk-hidden--visually\" id=\"sk-estimator-id-18\" type=\"checkbox\" ><label for=\"sk-estimator-id-18\" class=\"sk-toggleable__label sk-toggleable__label-arrow\">cat_transformations</label><div class=\"sk-toggleable__content\"><pre>Index([&#x27;gender&#x27;, &#x27;SeniorCitizen&#x27;, &#x27;Partner&#x27;, &#x27;Dependents&#x27;, &#x27;PhoneService&#x27;,\n",
       "       &#x27;MultipleLines&#x27;, &#x27;InternetService&#x27;, &#x27;OnlineSecurity&#x27;, &#x27;OnlineBackup&#x27;,\n",
       "       &#x27;DeviceProtection&#x27;, &#x27;TechSupport&#x27;, &#x27;StreamingTV&#x27;, &#x27;StreamingMovies&#x27;,\n",
       "       &#x27;Contract&#x27;, &#x27;PaperlessBilling&#x27;, &#x27;PaymentMethod&#x27;],\n",
       "      dtype=&#x27;object&#x27;)</pre></div></div></div><div class=\"sk-serial\"><div class=\"sk-item\"><div class=\"sk-serial\"><div class=\"sk-item\"><div class=\"sk-estimator sk-toggleable\"><input class=\"sk-toggleable__control sk-hidden--visually\" id=\"sk-estimator-id-19\" type=\"checkbox\" ><label for=\"sk-estimator-id-19\" class=\"sk-toggleable__label sk-toggleable__label-arrow\">SimpleImputer</label><div class=\"sk-toggleable__content\"><pre>SimpleImputer(strategy=&#x27;most_frequent&#x27;)</pre></div></div></div><div class=\"sk-item\"><div class=\"sk-estimator sk-toggleable\"><input class=\"sk-toggleable__control sk-hidden--visually\" id=\"sk-estimator-id-20\" type=\"checkbox\" ><label for=\"sk-estimator-id-20\" class=\"sk-toggleable__label sk-toggleable__label-arrow\">OneHotEncoder</label><div class=\"sk-toggleable__content\"><pre>OneHotEncoder()</pre></div></div></div></div></div></div></div></div></div></div><div class=\"sk-item\"><div class=\"sk-estimator sk-toggleable\"><input class=\"sk-toggleable__control sk-hidden--visually\" id=\"sk-estimator-id-21\" type=\"checkbox\" ><label for=\"sk-estimator-id-21\" class=\"sk-toggleable__label sk-toggleable__label-arrow\">SMOTE</label><div class=\"sk-toggleable__content\"><pre>SMOTE(random_state=42)</pre></div></div></div><div class=\"sk-item\"><div class=\"sk-estimator sk-toggleable\"><input class=\"sk-toggleable__control sk-hidden--visually\" id=\"sk-estimator-id-22\" type=\"checkbox\" ><label for=\"sk-estimator-id-22\" class=\"sk-toggleable__label sk-toggleable__label-arrow\">SelectKBest</label><div class=\"sk-toggleable__content\"><pre>SelectKBest(k=15,\n",
       "            score_func=&lt;function mutual_info_classif at 0x000001BE808F30A0&gt;)</pre></div></div></div><div class=\"sk-item\"><div class=\"sk-estimator sk-toggleable\"><input class=\"sk-toggleable__control sk-hidden--visually\" id=\"sk-estimator-id-23\" type=\"checkbox\" ><label for=\"sk-estimator-id-23\" class=\"sk-toggleable__label sk-toggleable__label-arrow\">GradientBoostingClassifier</label><div class=\"sk-toggleable__content\"><pre>GradientBoostingClassifier(max_depth=10, min_samples_split=10, n_estimators=15)</pre></div></div></div></div></div></div></div>"
      ],
      "text/plain": [
       "Pipeline(steps=[('preprocessor',\n",
       "                 ColumnTransformer(transformers=[('numerical_transformations',\n",
       "                                                  Pipeline(steps=[('num_imputer',\n",
       "                                                                   SimpleImputer()),\n",
       "                                                                  ('scaler ',\n",
       "                                                                   RobustScaler())]),\n",
       "                                                  Index(['tenure', 'MonthlyCharges', 'TotalCharges'], dtype='object')),\n",
       "                                                 ('cat_transformations',\n",
       "                                                  Pipeline(steps=[('cat_imputer',\n",
       "                                                                   SimpleImputer(strategy='most_frequent')),\n",
       "                                                                  ('encoder',\n",
       "                                                                   OneHotEnc...\n",
       "       'DeviceProtection', 'TechSupport', 'StreamingTV', 'StreamingMovies',\n",
       "       'Contract', 'PaperlessBilling', 'PaymentMethod'],\n",
       "      dtype='object'))])),\n",
       "                ('smote', SMOTE(random_state=42)),\n",
       "                ('feature_selection',\n",
       "                 SelectKBest(k=15,\n",
       "                             score_func=<function mutual_info_classif at 0x000001BE808F30A0>)),\n",
       "                ('classifier',\n",
       "                 GradientBoostingClassifier(max_depth=10, min_samples_split=10,\n",
       "                                            n_estimators=15))])"
      ]
     },
     "execution_count": 80,
     "metadata": {},
     "output_type": "execute_result"
    }
   ],
   "source": [
    "gradient_pipeline.set_params(**best_params)\n",
    "\n",
    "gradient_pipeline.fit(X_train,y_train_encoded)"
   ]
  },
  {
   "cell_type": "markdown",
   "metadata": {},
   "source": [
    "**Testing/Predicting on unknown dataset**"
   ]
  },
  {
   "cell_type": "code",
   "execution_count": 90,
   "metadata": {},
   "outputs": [],
   "source": [
    "# remove customerID column from ThirdDataset as it won't be relevant\n",
    "ThirdDataset = ThirdDataset.drop('customerID',axis=1)"
   ]
  },
  {
   "cell_type": "code",
   "execution_count": 91,
   "metadata": {},
   "outputs": [],
   "source": [
    "prediction = gradient_pipeline.predict(ThirdDataset)\n",
    "prediction=LabelEncoder.inverse_transform(prediction)"
   ]
  },
  {
   "cell_type": "code",
   "execution_count": 92,
   "metadata": {},
   "outputs": [],
   "source": [
    "ThirdDataset['Churn']=prediction"
   ]
  },
  {
   "cell_type": "code",
   "execution_count": 93,
   "metadata": {},
   "outputs": [
    {
     "data": {
      "text/html": [
       "<div>\n",
       "<style scoped>\n",
       "    .dataframe tbody tr th:only-of-type {\n",
       "        vertical-align: middle;\n",
       "    }\n",
       "\n",
       "    .dataframe tbody tr th {\n",
       "        vertical-align: top;\n",
       "    }\n",
       "\n",
       "    .dataframe thead th {\n",
       "        text-align: right;\n",
       "    }\n",
       "</style>\n",
       "<table border=\"1\" class=\"dataframe\">\n",
       "  <thead>\n",
       "    <tr style=\"text-align: right;\">\n",
       "      <th></th>\n",
       "      <th>gender</th>\n",
       "      <th>SeniorCitizen</th>\n",
       "      <th>Partner</th>\n",
       "      <th>Dependents</th>\n",
       "      <th>tenure</th>\n",
       "      <th>PhoneService</th>\n",
       "      <th>MultipleLines</th>\n",
       "      <th>InternetService</th>\n",
       "      <th>OnlineSecurity</th>\n",
       "      <th>OnlineBackup</th>\n",
       "      <th>DeviceProtection</th>\n",
       "      <th>TechSupport</th>\n",
       "      <th>StreamingTV</th>\n",
       "      <th>StreamingMovies</th>\n",
       "      <th>Contract</th>\n",
       "      <th>PaperlessBilling</th>\n",
       "      <th>PaymentMethod</th>\n",
       "      <th>MonthlyCharges</th>\n",
       "      <th>TotalCharges</th>\n",
       "      <th>Churn</th>\n",
       "    </tr>\n",
       "  </thead>\n",
       "  <tbody>\n",
       "    <tr>\n",
       "      <th>0</th>\n",
       "      <td>Male</td>\n",
       "      <td>No</td>\n",
       "      <td>No</td>\n",
       "      <td>No</td>\n",
       "      <td>12</td>\n",
       "      <td>Yes</td>\n",
       "      <td>Yes</td>\n",
       "      <td>Fiber optic</td>\n",
       "      <td>No</td>\n",
       "      <td>No</td>\n",
       "      <td>No</td>\n",
       "      <td>No</td>\n",
       "      <td>Yes</td>\n",
       "      <td>No</td>\n",
       "      <td>Month-to-month</td>\n",
       "      <td>Yes</td>\n",
       "      <td>Electronic check</td>\n",
       "      <td>84.45</td>\n",
       "      <td>1059.55</td>\n",
       "      <td>Yes</td>\n",
       "    </tr>\n",
       "    <tr>\n",
       "      <th>1</th>\n",
       "      <td>Male</td>\n",
       "      <td>No</td>\n",
       "      <td>No</td>\n",
       "      <td>No</td>\n",
       "      <td>9</td>\n",
       "      <td>Yes</td>\n",
       "      <td>No</td>\n",
       "      <td>No</td>\n",
       "      <td>No internet service</td>\n",
       "      <td>No internet service</td>\n",
       "      <td>No internet service</td>\n",
       "      <td>No internet service</td>\n",
       "      <td>No internet service</td>\n",
       "      <td>No internet service</td>\n",
       "      <td>Month-to-month</td>\n",
       "      <td>No</td>\n",
       "      <td>Mailed check</td>\n",
       "      <td>20.40</td>\n",
       "      <td>181.80</td>\n",
       "      <td>No</td>\n",
       "    </tr>\n",
       "    <tr>\n",
       "      <th>2</th>\n",
       "      <td>Male</td>\n",
       "      <td>No</td>\n",
       "      <td>No</td>\n",
       "      <td>No</td>\n",
       "      <td>27</td>\n",
       "      <td>Yes</td>\n",
       "      <td>No</td>\n",
       "      <td>DSL</td>\n",
       "      <td>Yes</td>\n",
       "      <td>No</td>\n",
       "      <td>Yes</td>\n",
       "      <td>Yes</td>\n",
       "      <td>Yes</td>\n",
       "      <td>Yes</td>\n",
       "      <td>One year</td>\n",
       "      <td>No</td>\n",
       "      <td>Electronic check</td>\n",
       "      <td>81.70</td>\n",
       "      <td>2212.55</td>\n",
       "      <td>No</td>\n",
       "    </tr>\n",
       "    <tr>\n",
       "      <th>3</th>\n",
       "      <td>Male</td>\n",
       "      <td>No</td>\n",
       "      <td>No</td>\n",
       "      <td>Yes</td>\n",
       "      <td>27</td>\n",
       "      <td>Yes</td>\n",
       "      <td>Yes</td>\n",
       "      <td>Fiber optic</td>\n",
       "      <td>No</td>\n",
       "      <td>No</td>\n",
       "      <td>No</td>\n",
       "      <td>Yes</td>\n",
       "      <td>No</td>\n",
       "      <td>No</td>\n",
       "      <td>Month-to-month</td>\n",
       "      <td>Yes</td>\n",
       "      <td>Electronic check</td>\n",
       "      <td>79.50</td>\n",
       "      <td>2180.55</td>\n",
       "      <td>No</td>\n",
       "    </tr>\n",
       "    <tr>\n",
       "      <th>4</th>\n",
       "      <td>Male</td>\n",
       "      <td>No</td>\n",
       "      <td>Yes</td>\n",
       "      <td>Yes</td>\n",
       "      <td>1</td>\n",
       "      <td>Yes</td>\n",
       "      <td>No</td>\n",
       "      <td>Fiber optic</td>\n",
       "      <td>No</td>\n",
       "      <td>No</td>\n",
       "      <td>No</td>\n",
       "      <td>No</td>\n",
       "      <td>Yes</td>\n",
       "      <td>Yes</td>\n",
       "      <td>Month-to-month</td>\n",
       "      <td>No</td>\n",
       "      <td>Mailed check</td>\n",
       "      <td>89.15</td>\n",
       "      <td>89.15</td>\n",
       "      <td>Yes</td>\n",
       "    </tr>\n",
       "    <tr>\n",
       "      <th>...</th>\n",
       "      <td>...</td>\n",
       "      <td>...</td>\n",
       "      <td>...</td>\n",
       "      <td>...</td>\n",
       "      <td>...</td>\n",
       "      <td>...</td>\n",
       "      <td>...</td>\n",
       "      <td>...</td>\n",
       "      <td>...</td>\n",
       "      <td>...</td>\n",
       "      <td>...</td>\n",
       "      <td>...</td>\n",
       "      <td>...</td>\n",
       "      <td>...</td>\n",
       "      <td>...</td>\n",
       "      <td>...</td>\n",
       "      <td>...</td>\n",
       "      <td>...</td>\n",
       "      <td>...</td>\n",
       "      <td>...</td>\n",
       "    </tr>\n",
       "    <tr>\n",
       "      <th>1995</th>\n",
       "      <td>Female</td>\n",
       "      <td>No</td>\n",
       "      <td>No</td>\n",
       "      <td>No</td>\n",
       "      <td>7</td>\n",
       "      <td>Yes</td>\n",
       "      <td>Yes</td>\n",
       "      <td>Fiber optic</td>\n",
       "      <td>No</td>\n",
       "      <td>No</td>\n",
       "      <td>No</td>\n",
       "      <td>No</td>\n",
       "      <td>No</td>\n",
       "      <td>No</td>\n",
       "      <td>Month-to-month</td>\n",
       "      <td>Yes</td>\n",
       "      <td>Bank transfer (automatic)</td>\n",
       "      <td>75.10</td>\n",
       "      <td>552.95</td>\n",
       "      <td>Yes</td>\n",
       "    </tr>\n",
       "    <tr>\n",
       "      <th>1996</th>\n",
       "      <td>Female</td>\n",
       "      <td>No</td>\n",
       "      <td>No</td>\n",
       "      <td>No</td>\n",
       "      <td>47</td>\n",
       "      <td>Yes</td>\n",
       "      <td>Yes</td>\n",
       "      <td>DSL</td>\n",
       "      <td>Yes</td>\n",
       "      <td>Yes</td>\n",
       "      <td>No</td>\n",
       "      <td>Yes</td>\n",
       "      <td>No</td>\n",
       "      <td>Yes</td>\n",
       "      <td>Two year</td>\n",
       "      <td>No</td>\n",
       "      <td>Mailed check</td>\n",
       "      <td>74.05</td>\n",
       "      <td>3496.30</td>\n",
       "      <td>No</td>\n",
       "    </tr>\n",
       "    <tr>\n",
       "      <th>1997</th>\n",
       "      <td>Male</td>\n",
       "      <td>Yes</td>\n",
       "      <td>No</td>\n",
       "      <td>No</td>\n",
       "      <td>2</td>\n",
       "      <td>Yes</td>\n",
       "      <td>No</td>\n",
       "      <td>DSL</td>\n",
       "      <td>No</td>\n",
       "      <td>No</td>\n",
       "      <td>No</td>\n",
       "      <td>No</td>\n",
       "      <td>No</td>\n",
       "      <td>No</td>\n",
       "      <td>Month-to-month</td>\n",
       "      <td>Yes</td>\n",
       "      <td>Electronic check</td>\n",
       "      <td>44.70</td>\n",
       "      <td>93.70</td>\n",
       "      <td>Yes</td>\n",
       "    </tr>\n",
       "    <tr>\n",
       "      <th>1998</th>\n",
       "      <td>Male</td>\n",
       "      <td>Yes</td>\n",
       "      <td>No</td>\n",
       "      <td>No</td>\n",
       "      <td>62</td>\n",
       "      <td>Yes</td>\n",
       "      <td>Yes</td>\n",
       "      <td>Fiber optic</td>\n",
       "      <td>No</td>\n",
       "      <td>Yes</td>\n",
       "      <td>Yes</td>\n",
       "      <td>Yes</td>\n",
       "      <td>Yes</td>\n",
       "      <td>Yes</td>\n",
       "      <td>One year</td>\n",
       "      <td>Yes</td>\n",
       "      <td>Bank transfer (automatic)</td>\n",
       "      <td>110.75</td>\n",
       "      <td>7053.35</td>\n",
       "      <td>No</td>\n",
       "    </tr>\n",
       "    <tr>\n",
       "      <th>1999</th>\n",
       "      <td>Female</td>\n",
       "      <td>No</td>\n",
       "      <td>Yes</td>\n",
       "      <td>Yes</td>\n",
       "      <td>16</td>\n",
       "      <td>Yes</td>\n",
       "      <td>No</td>\n",
       "      <td>No</td>\n",
       "      <td>No internet service</td>\n",
       "      <td>No internet service</td>\n",
       "      <td>No internet service</td>\n",
       "      <td>No internet service</td>\n",
       "      <td>No internet service</td>\n",
       "      <td>No internet service</td>\n",
       "      <td>Two year</td>\n",
       "      <td>No</td>\n",
       "      <td>Mailed check</td>\n",
       "      <td>19.70</td>\n",
       "      <td>301.55</td>\n",
       "      <td>No</td>\n",
       "    </tr>\n",
       "  </tbody>\n",
       "</table>\n",
       "<p>2000 rows × 20 columns</p>\n",
       "</div>"
      ],
      "text/plain": [
       "      gender SeniorCitizen Partner Dependents  tenure PhoneService  \\\n",
       "0       Male            No      No         No      12          Yes   \n",
       "1       Male            No      No         No       9          Yes   \n",
       "2       Male            No      No         No      27          Yes   \n",
       "3       Male            No      No        Yes      27          Yes   \n",
       "4       Male            No     Yes        Yes       1          Yes   \n",
       "...      ...           ...     ...        ...     ...          ...   \n",
       "1995  Female            No      No         No       7          Yes   \n",
       "1996  Female            No      No         No      47          Yes   \n",
       "1997    Male           Yes      No         No       2          Yes   \n",
       "1998    Male           Yes      No         No      62          Yes   \n",
       "1999  Female            No     Yes        Yes      16          Yes   \n",
       "\n",
       "     MultipleLines InternetService       OnlineSecurity         OnlineBackup  \\\n",
       "0              Yes     Fiber optic                   No                   No   \n",
       "1               No              No  No internet service  No internet service   \n",
       "2               No             DSL                  Yes                   No   \n",
       "3              Yes     Fiber optic                   No                   No   \n",
       "4               No     Fiber optic                   No                   No   \n",
       "...            ...             ...                  ...                  ...   \n",
       "1995           Yes     Fiber optic                   No                   No   \n",
       "1996           Yes             DSL                  Yes                  Yes   \n",
       "1997            No             DSL                   No                   No   \n",
       "1998           Yes     Fiber optic                   No                  Yes   \n",
       "1999            No              No  No internet service  No internet service   \n",
       "\n",
       "         DeviceProtection          TechSupport          StreamingTV  \\\n",
       "0                      No                   No                  Yes   \n",
       "1     No internet service  No internet service  No internet service   \n",
       "2                     Yes                  Yes                  Yes   \n",
       "3                      No                  Yes                   No   \n",
       "4                      No                   No                  Yes   \n",
       "...                   ...                  ...                  ...   \n",
       "1995                   No                   No                   No   \n",
       "1996                   No                  Yes                   No   \n",
       "1997                   No                   No                   No   \n",
       "1998                  Yes                  Yes                  Yes   \n",
       "1999  No internet service  No internet service  No internet service   \n",
       "\n",
       "          StreamingMovies        Contract PaperlessBilling  \\\n",
       "0                      No  Month-to-month              Yes   \n",
       "1     No internet service  Month-to-month               No   \n",
       "2                     Yes        One year               No   \n",
       "3                      No  Month-to-month              Yes   \n",
       "4                     Yes  Month-to-month               No   \n",
       "...                   ...             ...              ...   \n",
       "1995                   No  Month-to-month              Yes   \n",
       "1996                  Yes        Two year               No   \n",
       "1997                   No  Month-to-month              Yes   \n",
       "1998                  Yes        One year              Yes   \n",
       "1999  No internet service        Two year               No   \n",
       "\n",
       "                  PaymentMethod  MonthlyCharges  TotalCharges Churn  \n",
       "0              Electronic check           84.45       1059.55   Yes  \n",
       "1                  Mailed check           20.40        181.80    No  \n",
       "2              Electronic check           81.70       2212.55    No  \n",
       "3              Electronic check           79.50       2180.55    No  \n",
       "4                  Mailed check           89.15         89.15   Yes  \n",
       "...                         ...             ...           ...   ...  \n",
       "1995  Bank transfer (automatic)           75.10        552.95   Yes  \n",
       "1996               Mailed check           74.05       3496.30    No  \n",
       "1997           Electronic check           44.70         93.70   Yes  \n",
       "1998  Bank transfer (automatic)          110.75       7053.35    No  \n",
       "1999               Mailed check           19.70        301.55    No  \n",
       "\n",
       "[2000 rows x 20 columns]"
      ]
     },
     "execution_count": 93,
     "metadata": {},
     "output_type": "execute_result"
    }
   ],
   "source": [
    "ThirdDataset"
   ]
  },
  {
   "cell_type": "markdown",
   "metadata": {},
   "source": [
    "### Model Persistence"
   ]
  },
  {
   "cell_type": "code",
   "execution_count": 97,
   "metadata": {},
   "outputs": [
    {
     "name": "stdout",
     "output_type": "stream",
     "text": [
      "Directory './models/' already exists.\n"
     ]
    }
   ],
   "source": [
    "import os\n",
    "\n",
    "directory_path = './models/'\n",
    "\n",
    "# Check if the directory exists\n",
    "if not os.path.exists(directory_path):\n",
    "    os.makedirs(directory_path)\n",
    "else:\n",
    "    print(f\"Directory '{directory_path}' already exists.\")\n"
   ]
  },
  {
   "cell_type": "code",
   "execution_count": 98,
   "metadata": {},
   "outputs": [
    {
     "name": "stdout",
     "output_type": "stream",
     "text": [
      "Directory './models/' already exists.\n"
     ]
    }
   ],
   "source": [
    "import os\n",
    "\n",
    "directory_path = './models/'\n",
    "\n",
    "try:\n",
    "    os.makedirs(directory_path)\n",
    "except FileExistsError:\n",
    "    print(f\"Directory '{directory_path}' already exists.\")\n"
   ]
  },
  {
   "cell_type": "markdown",
   "metadata": {},
   "source": [
    "### Predicting on unknown dataset"
   ]
  },
  {
   "cell_type": "markdown",
   "metadata": {},
   "source": [
    "## **Business Impact Statement: Optimizing Customer Retention with Machine Learning** ##\n",
    "\n",
    "**Our team used machine learning to predict customer churn for a telecommunications company, and achieved an accuracy of 0.82 and a lift of 2.28 with our Gradient Boosting model. The key metrics and findings of our model are:**\n",
    "\n",
    "**Precision:**\n",
    "*0.76*\n",
    "\n",
    "**Recall:** \n",
    "*0.71*\n",
    "\n",
    "**Specificity:** \n",
    "*0.87*\n",
    "\n",
    "**F1 score:** \n",
    "*0.73*\n",
    "\n",
    "**Gain:**\n",
    "*0.71*\n",
    "\n",
    "**The confusion matrix of our model on the testing set is:**\n",
    "\n",
    "**Predicted Churn\tPredicted Stay**\n",
    "\n",
    "**Actual Churn:**\t*355 (TP)\t144 (FN)*\n",
    "\n",
    "**Actual Stay:**\t    *112 (FP)\t789 (TN)*\n",
    "\n",
    "**Our model correctly identified 76% of the customers who churned, and captured 71% of the total churners in the testing set. This means that our model was more than twice as likely to find a churner than a random guess, and could help the company reduce the number of missed opportunities and revenue losses.**\n",
    "\n",
    "**We recommend that the company use our model to identify the customers who are at risk of churn, and implement retention strategies based on the insights derived from the data analysis, such as offering discounts, benefits, or personalized services to these customers.** 🙏"
   ]
  }
 ],
 "metadata": {
  "kernelspec": {
   "display_name": "Python 3",
   "language": "python",
   "name": "python3"
  },
  "language_info": {
   "codemirror_mode": {
    "name": "ipython",
    "version": 3
   },
   "file_extension": ".py",
   "mimetype": "text/x-python",
   "name": "python",
   "nbconvert_exporter": "python",
   "pygments_lexer": "ipython3",
   "version": "3.10.11"
  }
 },
 "nbformat": 4,
 "nbformat_minor": 2
}
